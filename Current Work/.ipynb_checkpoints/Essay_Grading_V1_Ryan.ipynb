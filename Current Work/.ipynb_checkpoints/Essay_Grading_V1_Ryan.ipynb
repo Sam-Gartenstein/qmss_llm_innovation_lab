{
  "cells": [
    {
      "cell_type": "code",
      "source": [
        "!pip install openai==0.28"
      ],
      "metadata": {
        "colab": {
          "base_uri": "https://localhost:8080/"
        },
        "id": "rxKhci9kCa1i",
        "outputId": "1e04334f-94c8-4e14-c6e2-89d33148d107",
        "collapsed": true
      },
      "id": "rxKhci9kCa1i",
      "execution_count": 1,
      "outputs": [
        {
          "output_type": "stream",
          "name": "stdout",
          "text": [
            "Collecting openai==0.28\n",
            "  Downloading openai-0.28.0-py3-none-any.whl.metadata (13 kB)\n",
            "Requirement already satisfied: requests>=2.20 in /usr/local/lib/python3.10/dist-packages (from openai==0.28) (2.32.3)\n",
            "Requirement already satisfied: tqdm in /usr/local/lib/python3.10/dist-packages (from openai==0.28) (4.66.6)\n",
            "Requirement already satisfied: aiohttp in /usr/local/lib/python3.10/dist-packages (from openai==0.28) (3.11.2)\n",
            "Requirement already satisfied: charset-normalizer<4,>=2 in /usr/local/lib/python3.10/dist-packages (from requests>=2.20->openai==0.28) (3.4.0)\n",
            "Requirement already satisfied: idna<4,>=2.5 in /usr/local/lib/python3.10/dist-packages (from requests>=2.20->openai==0.28) (3.10)\n",
            "Requirement already satisfied: urllib3<3,>=1.21.1 in /usr/local/lib/python3.10/dist-packages (from requests>=2.20->openai==0.28) (2.2.3)\n",
            "Requirement already satisfied: certifi>=2017.4.17 in /usr/local/lib/python3.10/dist-packages (from requests>=2.20->openai==0.28) (2024.8.30)\n",
            "Requirement already satisfied: aiohappyeyeballs>=2.3.0 in /usr/local/lib/python3.10/dist-packages (from aiohttp->openai==0.28) (2.4.3)\n",
            "Requirement already satisfied: aiosignal>=1.1.2 in /usr/local/lib/python3.10/dist-packages (from aiohttp->openai==0.28) (1.3.1)\n",
            "Requirement already satisfied: attrs>=17.3.0 in /usr/local/lib/python3.10/dist-packages (from aiohttp->openai==0.28) (24.2.0)\n",
            "Requirement already satisfied: frozenlist>=1.1.1 in /usr/local/lib/python3.10/dist-packages (from aiohttp->openai==0.28) (1.5.0)\n",
            "Requirement already satisfied: multidict<7.0,>=4.5 in /usr/local/lib/python3.10/dist-packages (from aiohttp->openai==0.28) (6.1.0)\n",
            "Requirement already satisfied: propcache>=0.2.0 in /usr/local/lib/python3.10/dist-packages (from aiohttp->openai==0.28) (0.2.0)\n",
            "Requirement already satisfied: yarl<2.0,>=1.17.0 in /usr/local/lib/python3.10/dist-packages (from aiohttp->openai==0.28) (1.17.2)\n",
            "Requirement already satisfied: async-timeout<6.0,>=4.0 in /usr/local/lib/python3.10/dist-packages (from aiohttp->openai==0.28) (4.0.3)\n",
            "Requirement already satisfied: typing-extensions>=4.1.0 in /usr/local/lib/python3.10/dist-packages (from multidict<7.0,>=4.5->aiohttp->openai==0.28) (4.12.2)\n",
            "Downloading openai-0.28.0-py3-none-any.whl (76 kB)\n",
            "\u001b[2K   \u001b[90m━━━━━━━━━━━━━━━━━━━━━━━━━━━━━━━━━━━━━━━━\u001b[0m \u001b[32m76.5/76.5 kB\u001b[0m \u001b[31m2.7 MB/s\u001b[0m eta \u001b[36m0:00:00\u001b[0m\n",
            "\u001b[?25hInstalling collected packages: openai\n",
            "  Attempting uninstall: openai\n",
            "    Found existing installation: openai 1.54.4\n",
            "    Uninstalling openai-1.54.4:\n",
            "      Successfully uninstalled openai-1.54.4\n",
            "Successfully installed openai-0.28.0\n"
          ]
        }
      ]
    },
    {
      "cell_type": "code",
      "execution_count": 2,
      "id": "7d9b25e7",
      "metadata": {
        "id": "7d9b25e7"
      },
      "outputs": [],
      "source": [
        "# Import necessary libraries\n",
        "import openai  # OpenAI API for generating text based on prompts\n",
        "from google.colab import userdata\n",
        "OPENAI_API_KEY = userdata.get('OPENAI_API_KEY')\n",
        "from IPython.display import display, Markdown  # Markdown display tools for Jupyter Notebooks\n",
        "import os  # OS library for file and directory interactions\n",
        "import re  # Regular expressions library for text pattern matching and formatting\n",
        "import random  # Random module for generating randomized values, such as quality levels\n",
        "import matplotlib.pyplot as plt\n",
        "import pandas as pd\n",
        "import numpy as np\n",
        "\n",
        "# Function to convert text to Markdown format, allowing formatted display in Jupyter Notebooks\n",
        "def to_markdown(text):\n",
        "    # Wraps text in Markdown format for enhanced readability and presentation in Jupyter Notebooks\n",
        "    return Markdown(text)\n",
        "\n",
        "openai.api_key = OPENAI_API_KEY"
      ]
    },
    {
      "cell_type": "code",
      "execution_count": 3,
      "id": "7408fea0",
      "metadata": {
        "id": "7408fea0"
      },
      "outputs": [],
      "source": [
        "# Function to generate assignment prompts based on grade, subject, and subject area\n",
        "def generate_prompts(pairs):\n",
        "    all_prompts = {}\n",
        "    for grade_level, subject, subject_area in pairs:\n",
        "\n",
        "        # Define unique prompt instructions based on subject area\n",
        "        if subject_area.lower() == \"social science\":\n",
        "            # Social Science: Emphasize formal essay structure\n",
        "            prompt_text = f\"\"\"\n",
        "            Role: You are a {grade_level}th-grade {subject} teacher. Please create 10 unique essay prompts.\n",
        "\n",
        "            Each prompt should:\n",
        "            - Be age-appropriate for {grade_level}th grade\n",
        "            - Encourage students to critically analyze historical events, societal changes, or key figures in {subject}\n",
        "            - Focus on a structured essay format (no creative formats such as diaries or newspaper articles)\n",
        "            - Explore themes like cause and effect, comparison, or ethical implications\n",
        "\n",
        "            Ensure each prompt is clear, concise, and well-suited for a formal essay response.\n",
        "            \"\"\"\n",
        "\n",
        "        elif subject_area.lower() == \"science\":\n",
        "            # Science: Focus on lab reports and experimental design\n",
        "            prompt_text = f\"\"\"\n",
        "            Role: You are a {grade_level}th-grade {subject} teacher. Please create 10 unique lab report prompts.\n",
        "\n",
        "            Each prompt should:\n",
        "            - Be age-appropriate for {grade_level}th grade\n",
        "            - Encourage students to design experiments, make observations, and analyze results in {subject}\n",
        "            - Emphasize the scientific method, hypothesis formation, and data interpretation\n",
        "\n",
        "            Ensure each prompt guides students through scientific inquiry in a lab report format.\n",
        "            \"\"\"\n",
        "\n",
        "        elif subject_area.lower() == \"language arts\":\n",
        "            # Language Arts: Focus on literary analysis\n",
        "            prompt_text = f\"\"\"\n",
        "            Role: You are a {grade_level}th-grade {subject} teacher. Please create 10 unique literary analysis prompts.\n",
        "\n",
        "            Each prompt should:\n",
        "            - Be age-appropriate for {grade_level}th grade\n",
        "            - Encourage students to analyze themes, characters, and symbols in literature\n",
        "            - Challenge students to interpret literary elements and provide textual evidence\n",
        "\n",
        "            Ensure each prompt is clear, concise, and encourages in-depth literary analysis.\n",
        "            \"\"\"\n",
        "\n",
        "        else:\n",
        "            # Default prompt format for unspecified subjects\n",
        "            prompt_text = f\"\"\"\n",
        "            Role: You are a {grade_level}th-grade {subject} teacher. Please create 10 unique assignment prompts.\n",
        "\n",
        "            Each prompt should:\n",
        "            - Be age-appropriate for {grade_level}th grade\n",
        "            - Challenge students' understanding, encouraging critical thinking and engagement with the subject matter\n",
        "\n",
        "            Ensure each prompt is clear, concise, and engaging.\n",
        "            \"\"\"\n",
        "\n",
        "        # Generate prompts using OpenAI API\n",
        "        completion = openai.ChatCompletion.create(\n",
        "            model=\"gpt-3.5-turbo\",\n",
        "            messages=[\n",
        "                {\"role\": \"system\", \"content\": \"You are a creative and insightful prompt generator for teachers.\"},\n",
        "                {\"role\": \"user\", \"content\": prompt_text}\n",
        "            ]\n",
        "        )\n",
        "\n",
        "        # Extract prompts and clean up formatting\n",
        "        prompts_text = completion.choices[0].message['content']\n",
        "        prompts_list = [re.sub(r'^\\d+\\.\\s*', '', prompt.strip()) for prompt in prompts_text.split('\\n') if prompt.strip()]\n",
        "        prompts_list = prompts_list[:10]  # Keep exactly 10 prompts\n",
        "        all_prompts[(grade_level, subject, subject_area)] = prompts_list\n",
        "\n",
        "        # Display prompts in Markdown format\n",
        "        display(Markdown(f\"### Generated Prompts for {grade_level}th Grade {subject} ({subject_area})\"))\n",
        "        for i, prompt in enumerate(prompts_list, start=1):\n",
        "            display(Markdown(f\"**Prompt {i}:** {prompt}\"))\n",
        "\n",
        "    return all_prompts"
      ]
    },
    {
      "cell_type": "code",
      "source": [
        "# Example usage with grade-subject-area pairs, each containing 3 elements\n",
        "grade_subject_pairs = [\n",
        "    (11, \"US History\", \"Social Science\")\n",
        "    #(10, \"Biology\", \"Science\"),\n",
        "    #(9, \"Literature\", \"Language Arts\")\n",
        "]\n",
        "all_prompts = generate_prompts(grade_subject_pairs)"
      ],
      "metadata": {
        "colab": {
          "base_uri": "https://localhost:8080/",
          "height": 467
        },
        "id": "7v_j6NKNUGoK",
        "outputId": "6fa7e1c1-5ccb-4866-822a-38175bf50ecc"
      },
      "id": "7v_j6NKNUGoK",
      "execution_count": 4,
      "outputs": [
        {
          "output_type": "display_data",
          "data": {
            "text/plain": [
              "<IPython.core.display.Markdown object>"
            ],
            "text/markdown": "### Generated Prompts for 11th Grade US History (Social Science)"
          },
          "metadata": {}
        },
        {
          "output_type": "display_data",
          "data": {
            "text/plain": [
              "<IPython.core.display.Markdown object>"
            ],
            "text/markdown": "**Prompt 1:** Analyze the impact of the Progressive Era reforms on American society. How did efforts to address political corruption, social inequality, and industrialization shape the nation in the early 20th century?"
          },
          "metadata": {}
        },
        {
          "output_type": "display_data",
          "data": {
            "text/plain": [
              "<IPython.core.display.Markdown object>"
            ],
            "text/markdown": "**Prompt 2:** Compare and contrast the approach to civil rights by Booker T. Washington and W.E.B. Du Bois. How did their differing philosophies influence the advancement of African American equality in the post-Reconstruction era?"
          },
          "metadata": {}
        },
        {
          "output_type": "display_data",
          "data": {
            "text/plain": [
              "<IPython.core.display.Markdown object>"
            ],
            "text/markdown": "**Prompt 3:** Evaluate the consequences of US involvement in World War I. How did the war reshape American foreign policy, domestic politics, and societal attitudes towards international conflicts?"
          },
          "metadata": {}
        },
        {
          "output_type": "display_data",
          "data": {
            "text/plain": [
              "<IPython.core.display.Markdown object>"
            ],
            "text/markdown": "**Prompt 4:** Discuss the significance of the New Deal programs implemented during the Great Depression. How did President Franklin D. Roosevelt's response to the economic crisis redefine the role of the federal government in the lives of American citizens?"
          },
          "metadata": {}
        },
        {
          "output_type": "display_data",
          "data": {
            "text/plain": [
              "<IPython.core.display.Markdown object>"
            ],
            "text/markdown": "**Prompt 5:** Examine the causes and effects of the Dust Bowl during the 1930s. In what ways did environmental degradation exacerbate economic hardships and social challenges in the Great Plains region?"
          },
          "metadata": {}
        },
        {
          "output_type": "display_data",
          "data": {
            "text/plain": [
              "<IPython.core.display.Markdown object>"
            ],
            "text/markdown": "**Prompt 6:** Assess the impact of the Cold War on civil liberties in America. How did the fear of communism shape government policies, social movements, and individual freedoms during the mid-20th century?"
          },
          "metadata": {}
        },
        {
          "output_type": "display_data",
          "data": {
            "text/plain": [
              "<IPython.core.display.Markdown object>"
            ],
            "text/markdown": "**Prompt 7:** Explore the role of women in the workforce during World War II. To what extent did employment opportunities for women challenge traditional gender roles and pave the way for the feminist movement in the postwar era?"
          },
          "metadata": {}
        },
        {
          "output_type": "display_data",
          "data": {
            "text/plain": [
              "<IPython.core.display.Markdown object>"
            ],
            "text/markdown": "**Prompt 8:** Critically evaluate the successes and failures of the Civil Rights Movement in achieving racial equality. How did key events such as Brown v. Board of Education, the Montgomery Bus Boycott, and the March on Washington contribute to the fight for civil rights in America?"
          },
          "metadata": {}
        },
        {
          "output_type": "display_data",
          "data": {
            "text/plain": [
              "<IPython.core.display.Markdown object>"
            ],
            "text/markdown": "**Prompt 9:** Analyze the impact of the Vietnam War on American society and politics. How did the conflict divide the nation, fuel anti-war protests, and influence future military engagements and foreign policy decisions?"
          },
          "metadata": {}
        },
        {
          "output_type": "display_data",
          "data": {
            "text/plain": [
              "<IPython.core.display.Markdown object>"
            ],
            "text/markdown": "**Prompt 10:** Discuss the ethical implications of the US government's internment of Japanese Americans during World War II. How did racial prejudice, wartime hysteria, and national security concerns justify the violation of constitutional rights, and what lessons can be learned from this dark chapter in American history?"
          },
          "metadata": {}
        }
      ]
    },
    {
      "cell_type": "code",
      "source": [
        "# Randomly select a grade-subject key\n",
        "random_key = random.choice(list(all_prompts.keys()))\n",
        "\n",
        "# Randomly select a prompt from the chosen key\n",
        "selected_prompt = random.choice(all_prompts[random_key])\n",
        "\n",
        "# Display the result\n",
        "print(f\"Randomly Selected Prompt for {random_key}: {selected_prompt}\")"
      ],
      "metadata": {
        "colab": {
          "base_uri": "https://localhost:8080/"
        },
        "id": "Ah71gex8UNK6",
        "outputId": "cf5f1c7c-d7ce-4a01-884e-49ab0451b423"
      },
      "id": "Ah71gex8UNK6",
      "execution_count": 5,
      "outputs": [
        {
          "output_type": "stream",
          "name": "stdout",
          "text": [
            "Randomly Selected Prompt for (11, 'US History', 'Social Science'): Compare and contrast the approach to civil rights by Booker T. Washington and W.E.B. Du Bois. How did their differing philosophies influence the advancement of African American equality in the post-Reconstruction era?\n"
          ]
        }
      ]
    },
    {
      "cell_type": "code",
      "source": [
        "def generate_assignments_with_criteria_definitions(deterministic_assignment_prompt, grade_subject_pairs, criteria_scores_list):\n",
        "    \"\"\"\n",
        "    Generate assignments with quality reflecting U.S. grade levels and an agent-based student theme.\n",
        "    Include explicit criteria definitions and grading scale in the prompt.\n",
        "\n",
        "    Args:\n",
        "        deterministic_assignment_prompt (str): The fixed prompt to generate assignments for.\n",
        "        grade_subject_pairs (list): List of tuples containing grade level, subject, and subject area.\n",
        "        criteria_scores_list (list): List of dictionaries with scores for Content, Clarity, Organization, and Relevance.\n",
        "\n",
        "    Returns:\n",
        "        list: List of generated assignments with quality reflecting criteria scores.\n",
        "    \"\"\"\n",
        "    assignments = []  # List to store assignments\n",
        "\n",
        "    for idx, scores in enumerate(criteria_scores_list, start=1):\n",
        "        # Extract criteria scores\n",
        "        content_score = scores['Content']\n",
        "        clarity_score = scores['Clarity']\n",
        "        organization_score = scores['Organization']\n",
        "        relevance_score = scores['Relevance to Prompt']\n",
        "\n",
        "        # Randomly select a grade-subject pair for context\n",
        "        grade_level, subject, subject_area = random.choice(grade_subject_pairs)\n",
        "\n",
        "        # Use OpenAI to generate an assignment reflecting the quality\n",
        "        completion = openai.ChatCompletion.create(\n",
        "            model=\"gpt-3.5-turbo\",\n",
        "            messages=[\n",
        "                {\"role\": \"system\", \"content\": \"You are a skilled agent creating realistic student responses based on U.S. grade levels and quality metrics.\"},\n",
        "                {\"role\": \"user\", \"content\": f\"\"\"\n",
        "                    You are a student in {grade_level}th-grade {subject}. Respond to the following assignment prompt:\n",
        "\n",
        "                    {deterministic_assignment_prompt}\n",
        "\n",
        "                    Your response should reflect your understanding and skills as a {grade_level}th-grade student.\n",
        "\n",
        "                    **Instructions for the Essay**:\n",
        "                    - Write in simple, repetitive language with basic vocabulary.\n",
        "                    - Write in a conversational style that sounds natural for a high school student.\n",
        "                    - Avoid perfect grammar or overly structured sentences. Include a few minor errors or informal phrases, such as occasional sentence fragments for emphasis.\n",
        "                    - Structure the essay with a straightforward introduction, body paragraphs, and conclusion, but keep explanations short and simple.\n",
        "                    - Include at least one or two examples in each body paragraph. Focus on basic explanations without in-depth analysis.\n",
        "                    - Write in a way that sounds like a real student’s writing: avoid making the argument too polished or “balanced.” Add some personal reflections or general statements, such as, “This was important because…” or “It’s hard to believe that propaganda could have such an impact.”\n",
        "                    - Assume you are rushing to complete this assignment and may not have reviewed it carefully.\n",
        "\n",
        "                    **Criteria for Your Response**:\n",
        "                    - Content: {content_score}/100\n",
        "                    - Clarity: {clarity_score}/100\n",
        "                    - Organization: {organization_score}/100\n",
        "                    - Relevance to Prompt: {relevance_score}/100\n",
        "\n",
        "                    Below are detailed descriptions of what each score range represents:\n",
        "\n",
        "                    **Content**:\n",
        "                    - Under 60: Demonstrates little understanding of the topic; key points are vague, missing, or inaccurate. May include incorrect details or irrelevant information.\n",
        "                    - 60-69: Shows limited understanding; ideas are underdeveloped or overly simple, with significant gaps in knowledge.\n",
        "                    - 70-79: Provides a basic understanding; covers main ideas but lacks depth or includes minor inaccuracies. Examples may be generic or poorly explained.\n",
        "                    - 80-89: Shows good understanding; explains key points well but misses some nuance or detail. Examples and analysis are present but not fully developed.\n",
        "                    - 90-100: Demonstrates excellent understanding; provides thorough and accurate explanations with detailed and relevant examples.\n",
        "\n",
        "                    **Clarity**:\n",
        "                    - Under 60: Writing is hard to follow; sentences may be incomplete, poorly structured, or overly repetitive. Grammar and spelling issues disrupt understanding.\n",
        "                    - 60-69: Writing is understandable but awkward, with frequent grammar mistakes or unclear phrasing. Ideas are not expressed smoothly.\n",
        "                    - 70-79: Writing is generally clear but may include grammar errors or word choices that make ideas harder to follow. Sentences are simple but understandable.\n",
        "                    - 80-89: Writing is clear and easy to read, with minor grammar issues or occasional awkward phrasing. Sentences flow well overall.\n",
        "                    - 90-100: Writing is polished and professional, with smooth sentence structure and minimal errors.\n",
        "\n",
        "                    **Organization**:\n",
        "                    - Under 60: Lacks structure; ideas are scattered or unrelated, with no clear introduction, body, or conclusion.\n",
        "                    - 60-69: Has some structure, but transitions are weak, and the flow of ideas is inconsistent. May have missing or underdeveloped sections.\n",
        "                    - 70-79: Follows a basic structure with an introduction, body, and conclusion. Transitions may be rough, and some ideas are poorly connected.\n",
        "                    - 80-89: Well-structured with logical organization; transitions are clear but could be improved. Each section supports the essay’s main point.\n",
        "                    - 90-100: Exceptionally well-organized with smooth transitions and clear connections between ideas. Structure enhances understanding.\n",
        "\n",
        "                    **Relevance to Prompt**:\n",
        "                    - Under 60: Struggles to address the prompt; much of the content is off-topic or irrelevant.\n",
        "                    - 60-69: Partially addresses the prompt; some key elements are missing or misunderstood.\n",
        "                    - 70-79: Mostly addresses the prompt but lacks focus or depth in certain areas. Some minor digressions may be present.\n",
        "                    - 80-89: Fully addresses the prompt with few digressions. Covers all aspects of the question with minor gaps.\n",
        "                    - 90-100: Thoroughly addresses the prompt, staying focused and detailed throughout.\n",
        "\n",
        "                    Write a realistic response considering the grade-level, the scores provided, and the definitions of each criterion, keeping in mind the provided scores.\n",
        "                    The output will only be the assignment text.\n",
        "                \"\"\"}\n",
        "            ]\n",
        "        )\n",
        "\n",
        "        # Extract the generated assignment text\n",
        "        assignment_text = completion.choices[0].message['content']\n",
        "\n",
        "        # Add metadata and assignment text to the list\n",
        "        assignments.append({\n",
        "            'Prompt': deterministic_assignment_prompt,\n",
        "            'Grade_Subject_Pair': (grade_level, subject, subject_area),\n",
        "            'Criteria_Scores': scores,\n",
        "            'Assignment': assignment_text\n",
        "        })\n",
        "\n",
        "        # Display the assignment in Markdown\n",
        "        display(Markdown(f\"### Assignment {idx}\"))\n",
        "        display(Markdown(f\"**Criteria Scores:**\"))\n",
        "        display(Markdown(f\"- **Content:** {content_score}/100\"))\n",
        "        display(Markdown(f\"- **Clarity:** {clarity_score}/100\"))\n",
        "        display(Markdown(f\"- **Organization:** {organization_score}/100\"))\n",
        "        display(Markdown(f\"- **Relevance to Prompt:** {relevance_score}/100\"))\n",
        "        display(Markdown(f\"**Assignment Text:** {assignment_text}\"))\n",
        "\n",
        "    return assignments"
      ],
      "metadata": {
        "id": "b4n3EjMHUTbA"
      },
      "id": "b4n3EjMHUTbA",
      "execution_count": 19,
      "outputs": []
    },
    {
      "cell_type": "code",
      "source": [
        "criteria_scores_list = [\n",
        "    {'Content': 63, 'Clarity': 70, 'Organization': 66, 'Relevance to Prompt': 64},\n",
        "    {'Content': 85, 'Clarity': 88, 'Organization': 87, 'Relevance to Prompt': 86},\n",
        "    {'Content': 78, 'Clarity': 75, 'Organization': 80, 'Relevance to Prompt': 79},\n",
        "    {'Content': 99, 'Clarity': 100, 'Organization': 98, 'Relevance to Prompt': 97}\n",
        "]\n",
        "\n",
        "\n",
        "deterministic_assignment_prompt = \"\"\"\n",
        "Evaluate the effects of the Great Depression on American society and politics.\n",
        "How did the economic crisis of the 1930s reshape government intervention and social welfare policies in the United States?\n",
        "\n",
        "\"\"\""
      ],
      "metadata": {
        "id": "ifVPho1XUWfL"
      },
      "id": "ifVPho1XUWfL",
      "execution_count": 20,
      "outputs": []
    },
    {
      "cell_type": "code",
      "source": [
        "# Generate and display assignments with Markdown formatting\n",
        "assignments = generate_assignments_with_criteria_definitions(deterministic_assignment_prompt, grade_subject_pairs, criteria_scores_list)  # Use deterministic_assignment_prompt instead of selected_prompt"
      ],
      "metadata": {
        "colab": {
          "base_uri": "https://localhost:8080/",
          "height": 1000
        },
        "collapsed": true,
        "id": "4GWwaceLUYqE",
        "outputId": "e9277005-7362-4e5b-a8ba-ca7bec01f05a"
      },
      "id": "4GWwaceLUYqE",
      "execution_count": 34,
      "outputs": [
        {
          "output_type": "display_data",
          "data": {
            "text/plain": [
              "<IPython.core.display.Markdown object>"
            ],
            "text/markdown": "### Assignment 1"
          },
          "metadata": {}
        },
        {
          "output_type": "display_data",
          "data": {
            "text/plain": [
              "<IPython.core.display.Markdown object>"
            ],
            "text/markdown": "**Criteria Scores:**"
          },
          "metadata": {}
        },
        {
          "output_type": "display_data",
          "data": {
            "text/plain": [
              "<IPython.core.display.Markdown object>"
            ],
            "text/markdown": "- **Content:** 63/100"
          },
          "metadata": {}
        },
        {
          "output_type": "display_data",
          "data": {
            "text/plain": [
              "<IPython.core.display.Markdown object>"
            ],
            "text/markdown": "- **Clarity:** 70/100"
          },
          "metadata": {}
        },
        {
          "output_type": "display_data",
          "data": {
            "text/plain": [
              "<IPython.core.display.Markdown object>"
            ],
            "text/markdown": "- **Organization:** 66/100"
          },
          "metadata": {}
        },
        {
          "output_type": "display_data",
          "data": {
            "text/plain": [
              "<IPython.core.display.Markdown object>"
            ],
            "text/markdown": "- **Relevance to Prompt:** 64/100"
          },
          "metadata": {}
        },
        {
          "output_type": "display_data",
          "data": {
            "text/plain": [
              "<IPython.core.display.Markdown object>"
            ],
            "text/markdown": "**Assignment Text:** The Great Depression hit America hard, like really hard. It messed up society and politics in a big way. So, when the 1930s rolled around, things were totally different. The government had to step in and do stuff they never did before.\n\nAlright, so because of the economic mess, the government had to start helping out more. They were like, \"Hey, we gotta do something to fix this.\" So, they made new rules and programs to help people who were struggling. One example is the New Deal that President Roosevelt came up with. It was a bunch of programs to get people jobs and money.\n\nThis whole situation changed how the government works. Before, they didn't really get involved in helping out regular folks. But after the Depression, they were all about it. They made laws and set up programs to make sure people had what they needed. This was a big deal because it showed that the government could do more to help when things go wrong. It's like they became more caring or something.\n\nOverall, the Great Depression shook America up. It made the government realize they needed to step in and help out when things get tough. So, they started making new rules and programs to make sure people were okay. It's like a big turning point in how the government looks out for its people."
          },
          "metadata": {}
        },
        {
          "output_type": "display_data",
          "data": {
            "text/plain": [
              "<IPython.core.display.Markdown object>"
            ],
            "text/markdown": "### Assignment 2"
          },
          "metadata": {}
        },
        {
          "output_type": "display_data",
          "data": {
            "text/plain": [
              "<IPython.core.display.Markdown object>"
            ],
            "text/markdown": "**Criteria Scores:**"
          },
          "metadata": {}
        },
        {
          "output_type": "display_data",
          "data": {
            "text/plain": [
              "<IPython.core.display.Markdown object>"
            ],
            "text/markdown": "- **Content:** 85/100"
          },
          "metadata": {}
        },
        {
          "output_type": "display_data",
          "data": {
            "text/plain": [
              "<IPython.core.display.Markdown object>"
            ],
            "text/markdown": "- **Clarity:** 88/100"
          },
          "metadata": {}
        },
        {
          "output_type": "display_data",
          "data": {
            "text/plain": [
              "<IPython.core.display.Markdown object>"
            ],
            "text/markdown": "- **Organization:** 87/100"
          },
          "metadata": {}
        },
        {
          "output_type": "display_data",
          "data": {
            "text/plain": [
              "<IPython.core.display.Markdown object>"
            ],
            "text/markdown": "- **Relevance to Prompt:** 86/100"
          },
          "metadata": {}
        },
        {
          "output_type": "display_data",
          "data": {
            "text/plain": [
              "<IPython.core.display.Markdown object>"
            ],
            "text/markdown": "**Assignment Text:** In the 1930s, the Great Depression hit America real hard. The whole country was feeling the impact, like a giant wave crashing down on us. Society and politics got all shook up because of it.\n\nWhen the economy took a nosedive, the government had to step in big time. They started doing things they never did before, like helping people out with jobs and money. One example is the New Deal programs by President Roosevelt, trying to lift everyone back up from the financial pit. It's like your mom suddenly coming to your rescue when you've fallen off your bike - unexpected but needed.\n\nWith all this craziness going on, social welfare policies also got a major makeover. The government realized they needed to do more to protect and care for their citizens. They started new programs to provide support for those struggling, like Social Security to help the elderly and disabled folks. It's like a safety net being woven to catch those who were falling through the cracks.\n\nThe way things were done before the Depression just didn't work anymore. The government had to change its game plan to keep the country from spiraling even further down. It's kind of like fixing a broken toy - you can't use the same old tricks; you gotta come up with new ones to make it right again.\n\nIn the end, the Great Depression was a wake-up call for America. It showed us that we needed to look out for each other better and that our government had to be more involved in making sure everyone had a fair shot. It's like learning a tough lesson the hard way, but coming out stronger and more prepared for whatever comes next."
          },
          "metadata": {}
        },
        {
          "output_type": "display_data",
          "data": {
            "text/plain": [
              "<IPython.core.display.Markdown object>"
            ],
            "text/markdown": "### Assignment 3"
          },
          "metadata": {}
        },
        {
          "output_type": "display_data",
          "data": {
            "text/plain": [
              "<IPython.core.display.Markdown object>"
            ],
            "text/markdown": "**Criteria Scores:**"
          },
          "metadata": {}
        },
        {
          "output_type": "display_data",
          "data": {
            "text/plain": [
              "<IPython.core.display.Markdown object>"
            ],
            "text/markdown": "- **Content:** 78/100"
          },
          "metadata": {}
        },
        {
          "output_type": "display_data",
          "data": {
            "text/plain": [
              "<IPython.core.display.Markdown object>"
            ],
            "text/markdown": "- **Clarity:** 75/100"
          },
          "metadata": {}
        },
        {
          "output_type": "display_data",
          "data": {
            "text/plain": [
              "<IPython.core.display.Markdown object>"
            ],
            "text/markdown": "- **Organization:** 80/100"
          },
          "metadata": {}
        },
        {
          "output_type": "display_data",
          "data": {
            "text/plain": [
              "<IPython.core.display.Markdown object>"
            ],
            "text/markdown": "- **Relevance to Prompt:** 79/100"
          },
          "metadata": {}
        },
        {
          "output_type": "display_data",
          "data": {
            "text/plain": [
              "<IPython.core.display.Markdown object>"
            ],
            "text/markdown": "**Assignment Text:** In the 1930s, the Great Depression hit America hard. It messed up society and politics big time. People lost jobs, homes, and hope. The government had to step in and do stuff it never did before.\n\nFirst off, a lot of people were broke during the Depression. They didn't have money for food or anything. This made the government make new rules to help out. They started things like Social Security to give money to old folks who couldn't work.\n\nThe Depression also made the government get into helping folks find jobs. They made programs like the Works Progress Administration (WPA) to give people work building stuff like roads and buildings. This was important 'cause it helped folks feed their families.\n\nAll this government help changed things. Before the Depression, the government didn't do much when people were in trouble. But after the Depression, they started doing more to keep things from getting so bad again.\n\nIn the end, the Great Depression made the government do a lot more to help people when times are tough. It was a rough time, but it made things better for folks who needed a hand."
          },
          "metadata": {}
        },
        {
          "output_type": "display_data",
          "data": {
            "text/plain": [
              "<IPython.core.display.Markdown object>"
            ],
            "text/markdown": "### Assignment 4"
          },
          "metadata": {}
        },
        {
          "output_type": "display_data",
          "data": {
            "text/plain": [
              "<IPython.core.display.Markdown object>"
            ],
            "text/markdown": "**Criteria Scores:**"
          },
          "metadata": {}
        },
        {
          "output_type": "display_data",
          "data": {
            "text/plain": [
              "<IPython.core.display.Markdown object>"
            ],
            "text/markdown": "- **Content:** 99/100"
          },
          "metadata": {}
        },
        {
          "output_type": "display_data",
          "data": {
            "text/plain": [
              "<IPython.core.display.Markdown object>"
            ],
            "text/markdown": "- **Clarity:** 100/100"
          },
          "metadata": {}
        },
        {
          "output_type": "display_data",
          "data": {
            "text/plain": [
              "<IPython.core.display.Markdown object>"
            ],
            "text/markdown": "- **Organization:** 98/100"
          },
          "metadata": {}
        },
        {
          "output_type": "display_data",
          "data": {
            "text/plain": [
              "<IPython.core.display.Markdown object>"
            ],
            "text/markdown": "- **Relevance to Prompt:** 97/100"
          },
          "metadata": {}
        },
        {
          "output_type": "display_data",
          "data": {
            "text/plain": [
              "<IPython.core.display.Markdown object>"
            ],
            "text/markdown": "**Assignment Text:** The Great Depression really messed things up for America society and politics back in the 1930s. This economic crisis changed how the government got involved and helped out people in need.\n\nBack then, a lot of folks were struggling to find jobs and afford basic stuff like food and homes. It was a real tough time, but the government stepped in to try and fix things. They started creating programs like the New Deal to help people out. For example, they made the Social Security system to provide income for older folks.\n\nThe Great Depression made the government realize they needed to do more to keep people from suffering so much. They started regulating things like banks and businesses to try and prevent another disaster. This was a big deal because before, the government didn't get involved in the economy as much.\n\nOverall, the effects of the Great Depression on American society and politics were huge. It forced the government to step up and take care of its people in ways it never did before. It's crazy to think how one event could change so much about how our country runs."
          },
          "metadata": {}
        }
      ]
    },
    {
      "cell_type": "code",
      "source": [
        "class EssayEvaluator:\n",
        "    def __init__(self):\n",
        "        self.criteria_descriptions = {\n",
        "            \"Content\": {\n",
        "                \"Under 60\": \"Demonstrates little understanding of the topic; key points are vague, missing, or inaccurate.\",\n",
        "                \"60-69\": \"Shows limited understanding; ideas are underdeveloped or overly simple, with significant gaps in knowledge.\",\n",
        "                \"70-79\": \"Provides a basic understanding; covers main ideas but lacks depth or includes minor inaccuracies.\",\n",
        "                \"80-89\": \"Shows good understanding; explains key points well but misses some nuance or detail.\",\n",
        "                \"90-100\": \"Demonstrates excellent understanding; provides thorough and accurate explanations with detailed and relevant examples.\"\n",
        "            },\n",
        "            \"Clarity\": {\n",
        "                \"Under 60\": \"Writing is hard to follow; sentences may be incomplete, poorly structured, or overly repetitive. Grammar and spelling issues disrupt understanding.\",\n",
        "                \"60-69\": \"Writing is understandable but awkward, with frequent grammar mistakes or unclear phrasing. Ideas are not expressed smoothly.\",\n",
        "                \"70-79\": \"Writing is generally clear but may include grammar errors or word choices that make ideas harder to follow. Sentences are simple but understandable.\",\n",
        "                \"80-89\": \"Writing is clear and easy to read, with minor grammar issues or occasional awkward phrasing. Sentences flow well overall.\",\n",
        "                \"90-100\": \"Writing is polished and professional, with smooth sentence structure and minimal errors.\"\n",
        "            },\n",
        "            \"Organization\": {\n",
        "                \"Under 60\": \"Lacks structure; ideas are scattered or unrelated, with no clear introduction, body, or conclusion.\",\n",
        "                \"60-69\": \"Has some structure, but transitions are weak, and the flow of ideas is inconsistent. May have missing or underdeveloped sections.\",\n",
        "                \"70-79\": \"Follows a basic structure with an introduction, body, and conclusion. Transitions may be rough, and some ideas are poorly connected.\",\n",
        "                \"80-89\": \"Well-structured with logical organization; transitions are clear but could be improved. Each section supports the essay’s main point.\",\n",
        "                \"90-100\": \"Exceptionally well-organized with smooth transitions and clear connections between ideas. Structure enhances understanding.\"\n",
        "            },\n",
        "            \"Relevance to Prompt\": {\n",
        "                \"Under 60\": \"Struggles to address the prompt; much of the content is off-topic or irrelevant.\",\n",
        "                \"60-69\": \"Partially addresses the prompt; some key elements are missing or misunderstood.\",\n",
        "                \"70-79\": \"Mostly addresses the prompt but lacks focus or depth in certain areas. Some minor digressions may be present.\",\n",
        "                \"80-89\": \"Fully addresses the prompt with few digressions. Covers all aspects of the question with minor gaps.\",\n",
        "                \"90-100\": \"Thoroughly addresses the prompt, staying focused and detailed throughout.\"\n",
        "            }\n",
        "        }\n",
        "\n",
        "    def evaluate_essay(self, essay, scores):\n",
        "        \"\"\"\n",
        "        Evaluate an essay based on the provided scores.\n",
        "\n",
        "        Args:\n",
        "            essay (str): The text of the essay.\n",
        "            scores (dict): A dictionary with scores for Content, Clarity, Organization, and Relevance to Prompt.\n",
        "\n",
        "        Returns:\n",
        "            dict: Evaluation results with detailed comments for each criterion.\n",
        "        \"\"\"\n",
        "        evaluation = {\"Essay\": essay, \"Scores\": scores, \"Comments\": {}}\n",
        "\n",
        "        for criterion, score in scores.items():\n",
        "            # Determine the score range\n",
        "            if score < 60:\n",
        "                category = \"Under 60\"\n",
        "            elif score < 70:\n",
        "                category = \"60-69\"\n",
        "            elif score < 80:\n",
        "                category = \"70-79\"\n",
        "            elif score < 90:\n",
        "                category = \"80-89\"\n",
        "            else:\n",
        "                category = \"90-100\"\n",
        "            # Get the comment\n",
        "            comment = self.criteria_descriptions[criterion][category]\n",
        "            evaluation[\"Comments\"][criterion] = comment\n",
        "\n",
        "        return evaluation\n",
        "\n",
        "    def display_evaluation(self, evaluation):\n",
        "        \"\"\"\n",
        "        Display the evaluation results in Markdown format.\n",
        "\n",
        "        Args:\n",
        "            evaluation (dict): The evaluation results.\n",
        "        \"\"\"\n",
        "        display(Markdown(\"### Essay Evaluation\"))\n",
        "        display(Markdown(f\"**Essay:**\\n\\n{evaluation['Essay']}\"))\n",
        "        display(Markdown(\"### Scores and Comments\"))\n",
        "        for criterion, score in evaluation[\"Scores\"].items():\n",
        "            display(Markdown(f\"- **{criterion}**: {score}/100\"))\n",
        "            display(Markdown(f\"  **Comment**: {evaluation['Comments'][criterion]}\"))\n",
        "        display(Markdown(\"---\"))  # Separator for readability\n",
        "\n",
        "# Initialize the evaluator\n",
        "evaluator = EssayEvaluator()\n",
        "\n",
        "# Evaluate and display each assignment\n",
        "for idx, assignment in enumerate(assignments, start=1):\n",
        "    essay = assignment['Assignment']\n",
        "    scores = assignment['Criteria_Scores']\n",
        "    evaluation = evaluator.evaluate_essay(essay, scores)\n",
        "\n",
        "    # Display the evaluation\n",
        "    display(Markdown(f\"## Evaluation for Assignment {idx}\"))\n",
        "    evaluator.display_evaluation(evaluation)"
      ],
      "metadata": {
        "colab": {
          "base_uri": "https://localhost:8080/",
          "height": 1000
        },
        "id": "L0Cr6_VIb0im",
        "outputId": "933456fc-e66b-4b72-9d1f-f9bcfb68cbaf"
      },
      "id": "L0Cr6_VIb0im",
      "execution_count": 35,
      "outputs": [
        {
          "output_type": "display_data",
          "data": {
            "text/plain": [
              "<IPython.core.display.Markdown object>"
            ],
            "text/markdown": "## Evaluation for Assignment 1"
          },
          "metadata": {}
        },
        {
          "output_type": "display_data",
          "data": {
            "text/plain": [
              "<IPython.core.display.Markdown object>"
            ],
            "text/markdown": "### Essay Evaluation"
          },
          "metadata": {}
        },
        {
          "output_type": "display_data",
          "data": {
            "text/plain": [
              "<IPython.core.display.Markdown object>"
            ],
            "text/markdown": "**Essay:**\n\nThe Great Depression hit America hard, like really hard. It messed up society and politics in a big way. So, when the 1930s rolled around, things were totally different. The government had to step in and do stuff they never did before.\n\nAlright, so because of the economic mess, the government had to start helping out more. They were like, \"Hey, we gotta do something to fix this.\" So, they made new rules and programs to help people who were struggling. One example is the New Deal that President Roosevelt came up with. It was a bunch of programs to get people jobs and money.\n\nThis whole situation changed how the government works. Before, they didn't really get involved in helping out regular folks. But after the Depression, they were all about it. They made laws and set up programs to make sure people had what they needed. This was a big deal because it showed that the government could do more to help when things go wrong. It's like they became more caring or something.\n\nOverall, the Great Depression shook America up. It made the government realize they needed to step in and help out when things get tough. So, they started making new rules and programs to make sure people were okay. It's like a big turning point in how the government looks out for its people."
          },
          "metadata": {}
        },
        {
          "output_type": "display_data",
          "data": {
            "text/plain": [
              "<IPython.core.display.Markdown object>"
            ],
            "text/markdown": "### Scores and Comments"
          },
          "metadata": {}
        },
        {
          "output_type": "display_data",
          "data": {
            "text/plain": [
              "<IPython.core.display.Markdown object>"
            ],
            "text/markdown": "- **Content**: 63/100"
          },
          "metadata": {}
        },
        {
          "output_type": "display_data",
          "data": {
            "text/plain": [
              "<IPython.core.display.Markdown object>"
            ],
            "text/markdown": "  **Comment**: Shows limited understanding; ideas are underdeveloped or overly simple, with significant gaps in knowledge."
          },
          "metadata": {}
        },
        {
          "output_type": "display_data",
          "data": {
            "text/plain": [
              "<IPython.core.display.Markdown object>"
            ],
            "text/markdown": "- **Clarity**: 70/100"
          },
          "metadata": {}
        },
        {
          "output_type": "display_data",
          "data": {
            "text/plain": [
              "<IPython.core.display.Markdown object>"
            ],
            "text/markdown": "  **Comment**: Writing is generally clear but may include grammar errors or word choices that make ideas harder to follow. Sentences are simple but understandable."
          },
          "metadata": {}
        },
        {
          "output_type": "display_data",
          "data": {
            "text/plain": [
              "<IPython.core.display.Markdown object>"
            ],
            "text/markdown": "- **Organization**: 66/100"
          },
          "metadata": {}
        },
        {
          "output_type": "display_data",
          "data": {
            "text/plain": [
              "<IPython.core.display.Markdown object>"
            ],
            "text/markdown": "  **Comment**: Has some structure, but transitions are weak, and the flow of ideas is inconsistent. May have missing or underdeveloped sections."
          },
          "metadata": {}
        },
        {
          "output_type": "display_data",
          "data": {
            "text/plain": [
              "<IPython.core.display.Markdown object>"
            ],
            "text/markdown": "- **Relevance to Prompt**: 64/100"
          },
          "metadata": {}
        },
        {
          "output_type": "display_data",
          "data": {
            "text/plain": [
              "<IPython.core.display.Markdown object>"
            ],
            "text/markdown": "  **Comment**: Partially addresses the prompt; some key elements are missing or misunderstood."
          },
          "metadata": {}
        },
        {
          "output_type": "display_data",
          "data": {
            "text/plain": [
              "<IPython.core.display.Markdown object>"
            ],
            "text/markdown": "---"
          },
          "metadata": {}
        },
        {
          "output_type": "display_data",
          "data": {
            "text/plain": [
              "<IPython.core.display.Markdown object>"
            ],
            "text/markdown": "## Evaluation for Assignment 2"
          },
          "metadata": {}
        },
        {
          "output_type": "display_data",
          "data": {
            "text/plain": [
              "<IPython.core.display.Markdown object>"
            ],
            "text/markdown": "### Essay Evaluation"
          },
          "metadata": {}
        },
        {
          "output_type": "display_data",
          "data": {
            "text/plain": [
              "<IPython.core.display.Markdown object>"
            ],
            "text/markdown": "**Essay:**\n\nIn the 1930s, the Great Depression hit America real hard. The whole country was feeling the impact, like a giant wave crashing down on us. Society and politics got all shook up because of it.\n\nWhen the economy took a nosedive, the government had to step in big time. They started doing things they never did before, like helping people out with jobs and money. One example is the New Deal programs by President Roosevelt, trying to lift everyone back up from the financial pit. It's like your mom suddenly coming to your rescue when you've fallen off your bike - unexpected but needed.\n\nWith all this craziness going on, social welfare policies also got a major makeover. The government realized they needed to do more to protect and care for their citizens. They started new programs to provide support for those struggling, like Social Security to help the elderly and disabled folks. It's like a safety net being woven to catch those who were falling through the cracks.\n\nThe way things were done before the Depression just didn't work anymore. The government had to change its game plan to keep the country from spiraling even further down. It's kind of like fixing a broken toy - you can't use the same old tricks; you gotta come up with new ones to make it right again.\n\nIn the end, the Great Depression was a wake-up call for America. It showed us that we needed to look out for each other better and that our government had to be more involved in making sure everyone had a fair shot. It's like learning a tough lesson the hard way, but coming out stronger and more prepared for whatever comes next."
          },
          "metadata": {}
        },
        {
          "output_type": "display_data",
          "data": {
            "text/plain": [
              "<IPython.core.display.Markdown object>"
            ],
            "text/markdown": "### Scores and Comments"
          },
          "metadata": {}
        },
        {
          "output_type": "display_data",
          "data": {
            "text/plain": [
              "<IPython.core.display.Markdown object>"
            ],
            "text/markdown": "- **Content**: 85/100"
          },
          "metadata": {}
        },
        {
          "output_type": "display_data",
          "data": {
            "text/plain": [
              "<IPython.core.display.Markdown object>"
            ],
            "text/markdown": "  **Comment**: Shows good understanding; explains key points well but misses some nuance or detail."
          },
          "metadata": {}
        },
        {
          "output_type": "display_data",
          "data": {
            "text/plain": [
              "<IPython.core.display.Markdown object>"
            ],
            "text/markdown": "- **Clarity**: 88/100"
          },
          "metadata": {}
        },
        {
          "output_type": "display_data",
          "data": {
            "text/plain": [
              "<IPython.core.display.Markdown object>"
            ],
            "text/markdown": "  **Comment**: Writing is clear and easy to read, with minor grammar issues or occasional awkward phrasing. Sentences flow well overall."
          },
          "metadata": {}
        },
        {
          "output_type": "display_data",
          "data": {
            "text/plain": [
              "<IPython.core.display.Markdown object>"
            ],
            "text/markdown": "- **Organization**: 87/100"
          },
          "metadata": {}
        },
        {
          "output_type": "display_data",
          "data": {
            "text/plain": [
              "<IPython.core.display.Markdown object>"
            ],
            "text/markdown": "  **Comment**: Well-structured with logical organization; transitions are clear but could be improved. Each section supports the essay’s main point."
          },
          "metadata": {}
        },
        {
          "output_type": "display_data",
          "data": {
            "text/plain": [
              "<IPython.core.display.Markdown object>"
            ],
            "text/markdown": "- **Relevance to Prompt**: 86/100"
          },
          "metadata": {}
        },
        {
          "output_type": "display_data",
          "data": {
            "text/plain": [
              "<IPython.core.display.Markdown object>"
            ],
            "text/markdown": "  **Comment**: Fully addresses the prompt with few digressions. Covers all aspects of the question with minor gaps."
          },
          "metadata": {}
        },
        {
          "output_type": "display_data",
          "data": {
            "text/plain": [
              "<IPython.core.display.Markdown object>"
            ],
            "text/markdown": "---"
          },
          "metadata": {}
        },
        {
          "output_type": "display_data",
          "data": {
            "text/plain": [
              "<IPython.core.display.Markdown object>"
            ],
            "text/markdown": "## Evaluation for Assignment 3"
          },
          "metadata": {}
        },
        {
          "output_type": "display_data",
          "data": {
            "text/plain": [
              "<IPython.core.display.Markdown object>"
            ],
            "text/markdown": "### Essay Evaluation"
          },
          "metadata": {}
        },
        {
          "output_type": "display_data",
          "data": {
            "text/plain": [
              "<IPython.core.display.Markdown object>"
            ],
            "text/markdown": "**Essay:**\n\nIn the 1930s, the Great Depression hit America hard. It messed up society and politics big time. People lost jobs, homes, and hope. The government had to step in and do stuff it never did before.\n\nFirst off, a lot of people were broke during the Depression. They didn't have money for food or anything. This made the government make new rules to help out. They started things like Social Security to give money to old folks who couldn't work.\n\nThe Depression also made the government get into helping folks find jobs. They made programs like the Works Progress Administration (WPA) to give people work building stuff like roads and buildings. This was important 'cause it helped folks feed their families.\n\nAll this government help changed things. Before the Depression, the government didn't do much when people were in trouble. But after the Depression, they started doing more to keep things from getting so bad again.\n\nIn the end, the Great Depression made the government do a lot more to help people when times are tough. It was a rough time, but it made things better for folks who needed a hand."
          },
          "metadata": {}
        },
        {
          "output_type": "display_data",
          "data": {
            "text/plain": [
              "<IPython.core.display.Markdown object>"
            ],
            "text/markdown": "### Scores and Comments"
          },
          "metadata": {}
        },
        {
          "output_type": "display_data",
          "data": {
            "text/plain": [
              "<IPython.core.display.Markdown object>"
            ],
            "text/markdown": "- **Content**: 78/100"
          },
          "metadata": {}
        },
        {
          "output_type": "display_data",
          "data": {
            "text/plain": [
              "<IPython.core.display.Markdown object>"
            ],
            "text/markdown": "  **Comment**: Provides a basic understanding; covers main ideas but lacks depth or includes minor inaccuracies."
          },
          "metadata": {}
        },
        {
          "output_type": "display_data",
          "data": {
            "text/plain": [
              "<IPython.core.display.Markdown object>"
            ],
            "text/markdown": "- **Clarity**: 75/100"
          },
          "metadata": {}
        },
        {
          "output_type": "display_data",
          "data": {
            "text/plain": [
              "<IPython.core.display.Markdown object>"
            ],
            "text/markdown": "  **Comment**: Writing is generally clear but may include grammar errors or word choices that make ideas harder to follow. Sentences are simple but understandable."
          },
          "metadata": {}
        },
        {
          "output_type": "display_data",
          "data": {
            "text/plain": [
              "<IPython.core.display.Markdown object>"
            ],
            "text/markdown": "- **Organization**: 80/100"
          },
          "metadata": {}
        },
        {
          "output_type": "display_data",
          "data": {
            "text/plain": [
              "<IPython.core.display.Markdown object>"
            ],
            "text/markdown": "  **Comment**: Well-structured with logical organization; transitions are clear but could be improved. Each section supports the essay’s main point."
          },
          "metadata": {}
        },
        {
          "output_type": "display_data",
          "data": {
            "text/plain": [
              "<IPython.core.display.Markdown object>"
            ],
            "text/markdown": "- **Relevance to Prompt**: 79/100"
          },
          "metadata": {}
        },
        {
          "output_type": "display_data",
          "data": {
            "text/plain": [
              "<IPython.core.display.Markdown object>"
            ],
            "text/markdown": "  **Comment**: Mostly addresses the prompt but lacks focus or depth in certain areas. Some minor digressions may be present."
          },
          "metadata": {}
        },
        {
          "output_type": "display_data",
          "data": {
            "text/plain": [
              "<IPython.core.display.Markdown object>"
            ],
            "text/markdown": "---"
          },
          "metadata": {}
        },
        {
          "output_type": "display_data",
          "data": {
            "text/plain": [
              "<IPython.core.display.Markdown object>"
            ],
            "text/markdown": "## Evaluation for Assignment 4"
          },
          "metadata": {}
        },
        {
          "output_type": "display_data",
          "data": {
            "text/plain": [
              "<IPython.core.display.Markdown object>"
            ],
            "text/markdown": "### Essay Evaluation"
          },
          "metadata": {}
        },
        {
          "output_type": "display_data",
          "data": {
            "text/plain": [
              "<IPython.core.display.Markdown object>"
            ],
            "text/markdown": "**Essay:**\n\nThe Great Depression really messed things up for America society and politics back in the 1930s. This economic crisis changed how the government got involved and helped out people in need.\n\nBack then, a lot of folks were struggling to find jobs and afford basic stuff like food and homes. It was a real tough time, but the government stepped in to try and fix things. They started creating programs like the New Deal to help people out. For example, they made the Social Security system to provide income for older folks.\n\nThe Great Depression made the government realize they needed to do more to keep people from suffering so much. They started regulating things like banks and businesses to try and prevent another disaster. This was a big deal because before, the government didn't get involved in the economy as much.\n\nOverall, the effects of the Great Depression on American society and politics were huge. It forced the government to step up and take care of its people in ways it never did before. It's crazy to think how one event could change so much about how our country runs."
          },
          "metadata": {}
        },
        {
          "output_type": "display_data",
          "data": {
            "text/plain": [
              "<IPython.core.display.Markdown object>"
            ],
            "text/markdown": "### Scores and Comments"
          },
          "metadata": {}
        },
        {
          "output_type": "display_data",
          "data": {
            "text/plain": [
              "<IPython.core.display.Markdown object>"
            ],
            "text/markdown": "- **Content**: 99/100"
          },
          "metadata": {}
        },
        {
          "output_type": "display_data",
          "data": {
            "text/plain": [
              "<IPython.core.display.Markdown object>"
            ],
            "text/markdown": "  **Comment**: Demonstrates excellent understanding; provides thorough and accurate explanations with detailed and relevant examples."
          },
          "metadata": {}
        },
        {
          "output_type": "display_data",
          "data": {
            "text/plain": [
              "<IPython.core.display.Markdown object>"
            ],
            "text/markdown": "- **Clarity**: 100/100"
          },
          "metadata": {}
        },
        {
          "output_type": "display_data",
          "data": {
            "text/plain": [
              "<IPython.core.display.Markdown object>"
            ],
            "text/markdown": "  **Comment**: Writing is polished and professional, with smooth sentence structure and minimal errors."
          },
          "metadata": {}
        },
        {
          "output_type": "display_data",
          "data": {
            "text/plain": [
              "<IPython.core.display.Markdown object>"
            ],
            "text/markdown": "- **Organization**: 98/100"
          },
          "metadata": {}
        },
        {
          "output_type": "display_data",
          "data": {
            "text/plain": [
              "<IPython.core.display.Markdown object>"
            ],
            "text/markdown": "  **Comment**: Exceptionally well-organized with smooth transitions and clear connections between ideas. Structure enhances understanding."
          },
          "metadata": {}
        },
        {
          "output_type": "display_data",
          "data": {
            "text/plain": [
              "<IPython.core.display.Markdown object>"
            ],
            "text/markdown": "- **Relevance to Prompt**: 97/100"
          },
          "metadata": {}
        },
        {
          "output_type": "display_data",
          "data": {
            "text/plain": [
              "<IPython.core.display.Markdown object>"
            ],
            "text/markdown": "  **Comment**: Thoroughly addresses the prompt, staying focused and detailed throughout."
          },
          "metadata": {}
        },
        {
          "output_type": "display_data",
          "data": {
            "text/plain": [
              "<IPython.core.display.Markdown object>"
            ],
            "text/markdown": "---"
          },
          "metadata": {}
        }
      ]
    }
  ],
  "metadata": {
    "kernelspec": {
      "display_name": "Python 3 (ipykernel)",
      "language": "python",
      "name": "python3"
    },
    "language_info": {
      "codemirror_mode": {
        "name": "ipython",
        "version": 3
      },
      "file_extension": ".py",
      "mimetype": "text/x-python",
      "name": "python",
      "nbconvert_exporter": "python",
      "pygments_lexer": "ipython3",
      "version": "3.11.4"
    },
    "colab": {
      "provenance": []
    }
  },
  "nbformat": 4,
  "nbformat_minor": 5
}