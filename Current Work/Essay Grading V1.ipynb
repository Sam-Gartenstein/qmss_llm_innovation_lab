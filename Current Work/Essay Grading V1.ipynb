{
 "cells": [
  {
   "cell_type": "markdown",
   "id": "77742546",
   "metadata": {},
   "source": [
    "# Summary of the Essay Grading V1\n",
    "\n",
    "This notebook demonstrates the generation of assignment prompts and realistic student responses using OpenAI's API. It integrates various components to define criteria, generate assignments, and display results in Markdown format for better readability.\n",
    "\n",
    "## Key Sections\n",
    "\n",
    "### 1. **Library Imports**\n",
    "The notebook begins by importing necessary libraries:\n",
    "- **`openai`**: To interact with OpenAI's API.\n",
    "- **`dotenv`**: To securely manage environment variables.\n",
    "- **`random`**: For random selection of prompts and grade-subject pairs.\n",
    "- **`pandas`, `numpy`, `matplotlib`**: Utilities for data manipulation and visualization.\n",
    "- **`IPython.display`**: For displaying content in Markdown format.\n",
    "\n",
    "### 2. **Environment Variable Setup**\n",
    "- Automatically locates and loads the `.env` file containing the OpenAI API key.\n",
    "- The key is then set using `openai.api_key`.\n",
    "\n",
    "### 3. **Function: `generate_prompts`**\n",
    "- Generates 10 unique assignment prompts for each grade-subject-area combination.\n",
    "- Prompts are customized based on the subject area:\n",
    "  - **Social Science**: Essay-focused.\n",
    "  - **Science**: Lab report-focused.\n",
    "  - **Language Arts**: Literary analysis-focused.\n",
    "  - **Default**: Generic critical thinking prompts.\n",
    "- Uses OpenAI API to create prompts and displays them in Markdown format.\n",
    "\n",
    "### 4. **Example Usage of `generate_prompts`**\n",
    "- Demonstrates generating prompts for **11th-grade U.S. History** in the **Social Science** category.\n",
    "- Randomly selects a key and a prompt from the generated dictionary for display.\n",
    "\n",
    "### 5. **Function: `generate_assignments_with_criteria_definitions`**\n",
    "- Generates realistic student assignments based on:\n",
    "  - A fixed prompt (`deterministic_assignment_prompt`).\n",
    "  - Criteria scores for quality metrics:\n",
    "    - **Content**\n",
    "    - **Clarity**\n",
    "    - **Organization**\n",
    "    - **Relevance to Prompt**\n",
    "- Outputs assignments that align with predefined quality levels.\n",
    "\n",
    "### 6. **Criteria Scores**\n",
    "Defines multiple levels of quality for generated assignments:\n",
    "- **D Grade**: Scores around 60–70.\n",
    "- **B Grade**: Scores around 85–88.\n",
    "- **C Grade**: Scores around 75–80.\n",
    "- **A Grade**: Scores near 99–100.\n",
    "\n",
    "### 7. **Deterministic Assignment Prompt**\n",
    "The fixed prompt used for all generated assignments: \"Evaluate the effects of the Great Depression on American society and politics. How did the economic crisis of the 1930s reshape government intervention and social welfare policies in the United States?\"\n",
    "\n",
    "\n",
    "### 8. **Generate and Display Assignments**\n",
    "- Uses `generate_assignments_with_criteria_definitions` to produce assignments based on the criteria scores.\n",
    "- Displays the results in Markdown format, including:\n",
    "  - Criteria scores.\n",
    "  - The generated assignment text.\n",
    "\n",
    "## Key Outputs\n",
    "- **Assignment Prompts**: 10 unique prompts for each grade-subject pair.\n",
    "- **Student Assignments**: Realistic responses reflecting specific quality levels.\n",
    "\n",
    "## Purpose\n",
    "This notebook:\n",
    "- Simplifies prompt and assignment generation for educators.\n",
    "- Demonstrates AI-driven text generation based on predefined criteria.\n",
    "- Provides clear and structured Markdown outputs for review and analysis."
   ]
  },
  {
   "cell_type": "code",
   "execution_count": 1,
   "id": "9accf061",
   "metadata": {},
   "outputs": [],
   "source": [
    "# Import necessary libraries\n",
    "import openai  # OpenAI API for generating text based on prompts\n",
    "from IPython.display import display, Markdown  # Markdown display tools for Jupyter Notebooks\n",
    "import os  # OS library for file and directory interactions\n",
    "from dotenv import load_dotenv, find_dotenv  # dotenv utilities for managing environment variables\n",
    "import re  # Regular expressions library for text pattern matching and formatting\n",
    "import random  # Random module for generating randomized values, such as quality levels\n",
    "import matplotlib.pyplot as plt\n",
    "import pandas as pd\n",
    "import numpy as np\n",
    "\n",
    "# Function to convert text to Markdown format, allowing formatted display in Jupyter Notebooks\n",
    "def to_markdown(text):\n",
    "    # Wraps text in Markdown format for enhanced readability and presentation in Jupyter Notebooks\n",
    "    return Markdown(text)"
   ]
  },
  {
   "cell_type": "code",
   "execution_count": 2,
   "id": "f0f12161",
   "metadata": {},
   "outputs": [],
   "source": [
    "# Automatically locate and load the .env file with environment variables\n",
    "env_path = find_dotenv()  # Searches for the .env file in the project directory\n",
    "load_dotenv(dotenv_path=env_path)  # Loads the environment variables from .env\n",
    "\n",
    "# Set the OpenAI API key from environment variable (pulled from the .env file)\n",
    "openai.api_key = os.getenv('OPENAI_API_KEY')\n"
   ]
  },
  {
   "cell_type": "markdown",
   "id": "f2503ca1",
   "metadata": {},
   "source": [
    "## `generate_prompts` Function\n",
    "\n",
    "This function generates customized assignment prompts based on grade level, subject, and subject area using OpenAI's API. It outputs the generated prompts in Markdown format for easy display.\n",
    "\n",
    "### Inputs\n",
    "- **`pairs`**: A list of tuples containing:\n",
    "  - `grade_level` (e.g., 9, 10, 11)\n",
    "  - `subject` (e.g., \"Biology\", \"US History\")\n",
    "  - `subject_area` (e.g., \"Science\", \"Social Science\")\n",
    "\n",
    "### How It Works\n",
    "1. **Iterates through Input Pairs**:  \n",
    "   For each `(grade_level, subject, subject_area)` combination, the function generates prompts.\n",
    "   \n",
    "2. **Customizes Prompts**:  \n",
    "   Based on `subject_area`:\n",
    "   - **Social Science**: Focuses on essay structure and critical analysis.\n",
    "   - **Science**: Emphasizes lab reports and scientific inquiry.\n",
    "   - **Language Arts**: Highlights literary analysis.\n",
    "   - **Default**: Generic assignment prompts for other areas.\n",
    "\n",
    "3. **Uses OpenAI API**:  \n",
    "   The function sends the instructions to OpenAI's `gpt-3.5-turbo` model to generate 10 unique prompts.\n",
    "\n",
    "4. **Cleans Up Prompts**:  \n",
    "   Extracts and formats the output to ensure a clean list of exactly 10 prompts.\n",
    "\n",
    "5. **Displays Prompts**:  \n",
    "   The generated prompts are displayed in Markdown format for better readability.\n",
    "\n",
    "### Outputs\n",
    "- **`all_prompts`**: A dictionary with:\n",
    "  - Keys: `(grade_level, subject, subject_area)`\n",
    "  - Values: List of 10 assignment prompts.\n",
    "\n",
    "This function helps educators quickly generate high-quality, subject-specific prompts tailored to their students' needs. \n",
    "\n",
    "**Note:** For now, we will just pass in one assignment prompt, which is the string varibale \"deterministic_assignment_prompt\" initiated below.\n"
   ]
  },
  {
   "cell_type": "code",
   "execution_count": 3,
   "id": "d3c802c2",
   "metadata": {},
   "outputs": [],
   "source": [
    "# Function to generate assignment prompts based on grade, subject, and subject area\n",
    "def generate_prompts(pairs):\n",
    "    all_prompts = {}\n",
    "    for grade_level, subject, subject_area in pairs:\n",
    "        \n",
    "        # Define unique prompt instructions based on subject area\n",
    "        if subject_area.lower() == \"social science\":\n",
    "            # Social Science: Emphasize formal essay structure\n",
    "            prompt_text = f\"\"\"\n",
    "            Role: You are a {grade_level}th-grade {subject} teacher. Please create 10 unique essay prompts.\n",
    "\n",
    "            Each prompt should:\n",
    "            - Be age-appropriate for {grade_level}th grade\n",
    "            - Encourage students to critically analyze historical events, societal changes, or key figures in {subject}\n",
    "            - Focus on a structured essay format (no creative formats such as diaries or newspaper articles)\n",
    "            - Explore themes like cause and effect, comparison, or ethical implications\n",
    "            \n",
    "            Ensure each prompt is clear, concise, and well-suited for a formal essay response.\n",
    "            \"\"\"\n",
    "\n",
    "        elif subject_area.lower() == \"science\":\n",
    "            # Science: Focus on lab reports and experimental design\n",
    "            prompt_text = f\"\"\"\n",
    "            Role: You are a {grade_level}th-grade {subject} teacher. Please create 10 unique lab report prompts.\n",
    "\n",
    "            Each prompt should:\n",
    "            - Be age-appropriate for {grade_level}th grade\n",
    "            - Encourage students to design experiments, make observations, and analyze results in {subject}\n",
    "            - Emphasize the scientific method, hypothesis formation, and data interpretation\n",
    "            \n",
    "            Ensure each prompt guides students through scientific inquiry in a lab report format.\n",
    "            \"\"\"\n",
    "\n",
    "        elif subject_area.lower() == \"language arts\":\n",
    "            # Language Arts: Focus on literary analysis\n",
    "            prompt_text = f\"\"\"\n",
    "            Role: You are a {grade_level}th-grade {subject} teacher. Please create 10 unique literary analysis prompts.\n",
    "\n",
    "            Each prompt should:\n",
    "            - Be age-appropriate for {grade_level}th grade\n",
    "            - Encourage students to analyze themes, characters, and symbols in literature\n",
    "            - Challenge students to interpret literary elements and provide textual evidence\n",
    "            \n",
    "            Ensure each prompt is clear, concise, and encourages in-depth literary analysis.\n",
    "            \"\"\"\n",
    "\n",
    "        else:\n",
    "            # Default prompt format for unspecified subjects\n",
    "            prompt_text = f\"\"\"\n",
    "            Role: You are a {grade_level}th-grade {subject} teacher. Please create 10 unique assignment prompts.\n",
    "\n",
    "            Each prompt should:\n",
    "            - Be age-appropriate for {grade_level}th grade\n",
    "            - Challenge students' understanding, encouraging critical thinking and engagement with the subject matter\n",
    "            \n",
    "            Ensure each prompt is clear, concise, and engaging.\n",
    "            \"\"\"\n",
    "        \n",
    "        # Generate prompts using OpenAI API\n",
    "        completion = openai.ChatCompletion.create(\n",
    "            model=\"gpt-3.5-turbo\",\n",
    "            messages=[\n",
    "                {\"role\": \"system\", \"content\": \"You are a creative and insightful prompt generator for teachers.\"},\n",
    "                {\"role\": \"user\", \"content\": prompt_text}\n",
    "            ]\n",
    "        )\n",
    "        \n",
    "        # Extract prompts and clean up formatting\n",
    "        prompts_text = completion.choices[0].message['content']\n",
    "        prompts_list = [re.sub(r'^\\d+\\.\\s*', '', prompt.strip()) for prompt in prompts_text.split('\\n') if prompt.strip()]\n",
    "        prompts_list = prompts_list[:10]  # Keep exactly 10 prompts\n",
    "        all_prompts[(grade_level, subject, subject_area)] = prompts_list\n",
    "        \n",
    "        # Display prompts in Markdown format\n",
    "        display(Markdown(f\"### Generated Prompts for {grade_level}th Grade {subject} ({subject_area})\"))\n",
    "        for i, prompt in enumerate(prompts_list, start=1):\n",
    "            display(Markdown(f\"**Prompt {i}:** {prompt}\"))\n",
    "    \n",
    "    return all_prompts\n"
   ]
  },
  {
   "cell_type": "markdown",
   "id": "a970af9c",
   "metadata": {},
   "source": [
    "## Example Usage of `generate_prompts`\n",
    "\n",
    "This code snippet demonstrates how to use the `generate_prompts` function to create assignment prompts for a specific grade level, subject, and subject area.\n",
    "\n",
    "### Inputs\n",
    "- **`grade_subject_pairs`**: A list containing tuples of grade level, subject, and subject area.\n",
    "  - Example: `(11, \"US History\", \"Social Science\")`\n",
    "\n",
    "### Process\n",
    "- The function `generate_prompts` takes `grade_subject_pairs` as input.\n",
    "- For each tuple, it generates 10 unique assignment prompts tailored to the grade level, subject, and subject area.\n",
    "\n",
    "### Current Configuration\n",
    "- Generates prompts only for **11th-grade U.S. History** in the **Social Science** category.\n",
    "- Additional pairs (e.g., Biology or Literature) are commented out but can be included by uncommenting them.\n",
    "\n",
    "### Output\n",
    "- **`all_prompts`**: A dictionary containing the generated prompts, displayed in Markdown format for easy review.\n"
   ]
  },
  {
   "cell_type": "code",
   "execution_count": 4,
   "id": "fe30ad8d",
   "metadata": {},
   "outputs": [
    {
     "data": {
      "text/markdown": [
       "### Generated Prompts for 11th Grade US History (Social Science)"
      ],
      "text/plain": [
       "<IPython.core.display.Markdown object>"
      ]
     },
     "metadata": {},
     "output_type": "display_data"
    },
    {
     "data": {
      "text/markdown": [
       "**Prompt 1:** Analyze the impact of the Civil Rights Movement on American society and politics. How did this era of activism shape the country we live in today?"
      ],
      "text/plain": [
       "<IPython.core.display.Markdown object>"
      ]
     },
     "metadata": {},
     "output_type": "display_data"
    },
    {
     "data": {
      "text/markdown": [
       "**Prompt 2:** Compare and contrast the Reconstruction era with the Civil Rights Movement. How did each period attempt to address racial inequality in America, and what were the outcomes of their efforts?"
      ],
      "text/plain": [
       "<IPython.core.display.Markdown object>"
      ]
     },
     "metadata": {},
     "output_type": "display_data"
    },
    {
     "data": {
      "text/markdown": [
       "**Prompt 3:** Evaluate the significance of the Industrial Revolution in shaping the economy and social structure of the United States in the late 19th and early 20th centuries."
      ],
      "text/plain": [
       "<IPython.core.display.Markdown object>"
      ]
     },
     "metadata": {},
     "output_type": "display_data"
    },
    {
     "data": {
      "text/markdown": [
       "**Prompt 4:** Discuss the ethical implications of the United States' involvement in World War II. How did American actions during this time shape future international relations and global dynamics?"
      ],
      "text/plain": [
       "<IPython.core.display.Markdown object>"
      ]
     },
     "metadata": {},
     "output_type": "display_data"
    },
    {
     "data": {
      "text/markdown": [
       "**Prompt 5:** Analyze the impact of the Great Depression on American society. How did this economic crisis lead to social and political changes in the country?"
      ],
      "text/plain": [
       "<IPython.core.display.Markdown object>"
      ]
     },
     "metadata": {},
     "output_type": "display_data"
    },
    {
     "data": {
      "text/markdown": [
       "**Prompt 6:** Explore the role of women in American society from the Colonial era to the present day. How have women's rights evolved, and what challenges have women faced in the fight for equality?"
      ],
      "text/plain": [
       "<IPython.core.display.Markdown object>"
      ]
     },
     "metadata": {},
     "output_type": "display_data"
    },
    {
     "data": {
      "text/markdown": [
       "**Prompt 7:** Evaluate the effects of westward expansion on Native American tribes. How did government policies and cultural clashes shape the history of indigenous peoples in the United States?"
      ],
      "text/plain": [
       "<IPython.core.display.Markdown object>"
      ]
     },
     "metadata": {},
     "output_type": "display_data"
    },
    {
     "data": {
      "text/markdown": [
       "**Prompt 8:** Discuss the causes and consequences of the Vietnam War on American society and politics. How did this conflict divide the nation, and what lessons can we learn from this turbulent period in history?"
      ],
      "text/plain": [
       "<IPython.core.display.Markdown object>"
      ]
     },
     "metadata": {},
     "output_type": "display_data"
    },
    {
     "data": {
      "text/markdown": [
       "**Prompt 9:** Analyze the impact of the Civil War on the Southern economy and social structure. How did the war transform the region, and what lingering effects can still be seen today?"
      ],
      "text/plain": [
       "<IPython.core.display.Markdown object>"
      ]
     },
     "metadata": {},
     "output_type": "display_data"
    },
    {
     "data": {
      "text/markdown": [
       "**Prompt 10:** Explore the role of technology in shaping American society throughout history. How have innovations like the automobile, the internet, and social media influenced cultural norms and communication in the United States?"
      ],
      "text/plain": [
       "<IPython.core.display.Markdown object>"
      ]
     },
     "metadata": {},
     "output_type": "display_data"
    }
   ],
   "source": [
    "# Example usage with grade-subject-area pairs, each containing 3 elements\n",
    "grade_subject_pairs = [\n",
    "    (11, \"US History\", \"Social Science\")\n",
    "    #(10, \"Biology\", \"Science\"),\n",
    "    #(9, \"Literature\", \"Language Arts\")\n",
    "]\n",
    "all_prompts = generate_prompts(grade_subject_pairs)\n"
   ]
  },
  {
   "cell_type": "markdown",
   "id": "6f300ddc",
   "metadata": {},
   "source": [
    "## Random Prompt Selection\n",
    "\n",
    "This code snippet selects a random assignment prompt from the generated prompts in `all_prompts`.\n",
    "\n",
    "### Process\n",
    "1. **Select a Random Key**:\n",
    "   - A random grade-subject tuple is chosen from the keys in the `all_prompts` dictionary.\n",
    "   - Example: `(11, \"US History\", \"Social Science\")`.\n",
    "\n",
    "2. **Select a Random Prompt**:\n",
    "   - From the prompts associated with the chosen key, one prompt is randomly selected.\n",
    "\n",
    "3. **Display the Result**:\n",
    "   - Prints the randomly selected grade-subject key and the corresponding prompt.\n",
    "\n",
    "### Purpose\n",
    "- Useful for dynamically showcasing a single assignment prompt from the generated set.\n",
    "- Adds variability when selecting prompts for review or testing.\n"
   ]
  },
  {
   "cell_type": "code",
   "execution_count": 5,
   "id": "ddb7ad43",
   "metadata": {},
   "outputs": [
    {
     "name": "stdout",
     "output_type": "stream",
     "text": [
      "Randomly Selected Prompt for (11, 'US History', 'Social Science'): Analyze the impact of the Civil Rights Movement on American society and politics. How did this era of activism shape the country we live in today?\n"
     ]
    }
   ],
   "source": [
    "# Randomly select a grade-subject key\n",
    "random_key = random.choice(list(all_prompts.keys()))\n",
    "\n",
    "# Randomly select a prompt from the chosen key\n",
    "selected_prompt = random.choice(all_prompts[random_key])\n",
    "\n",
    "# Display the result\n",
    "print(f\"Randomly Selected Prompt for {random_key}: {selected_prompt}\")\n"
   ]
  },
  {
   "cell_type": "markdown",
   "id": "363c5395",
   "metadata": {},
   "source": [
    "## `generate_assignments_with_criteria_definitions` Function\n",
    "\n",
    "This function generates realistic student assignments based on a fixed prompt and predefined quality metrics. It uses OpenAI's API to produce responses aligned with grade-level expectations and assessment criteria.\n",
    "\n",
    "### Inputs\n",
    "- **`deterministic_assignment_prompt`**:  \n",
    "  A fixed assignment prompt that students will respond to (e.g., \"Evaluate the effects of the Great Depression on American society and politics.\").\n",
    "  \n",
    "- **`grade_subject_pairs`**:  \n",
    "  A list of tuples representing the grade level, subject, and subject area (e.g., `(11, \"US History\", \"Social Science\")`).\n",
    "\n",
    "- **`criteria_scores_list`**:  \n",
    "  A list of dictionaries specifying quality metrics for the generated responses:\n",
    "  - `Content`\n",
    "  - `Clarity`\n",
    "  - `Organization`\n",
    "  - `Relevance to Prompt`  \n",
    "  Each score ranges from 0 to 100.\n",
    "\n",
    "### Workflow\n",
    "1. **Iterate Through Criteria Scores**:  \n",
    "   For each dictionary in `criteria_scores_list`, the function generates an assignment response reflecting the provided scores.\n",
    "\n",
    "2. **Random Grade-Subject Pair Selection**:  \n",
    "   Randomly selects a tuple from `grade_subject_pairs` to provide context for the assignment (e.g., 11th-grade U.S. History).\n",
    "\n",
    "3. **OpenAI API Call**:  \n",
    "   Sends the fixed prompt, grade level, and assessment criteria to the API for response generation.\n",
    "\n",
    "4. **Extract and Store Assignment Text**:  \n",
    "   Captures the generated response, along with metadata like the grade-subject pair and criteria scores.\n",
    "\n",
    "5. **Display Results in Markdown**:  \n",
    "   Each assignment's:\n",
    "   - **Criteria Scores**\n",
    "   - **Generated Assignment Text**  \n",
    "   are displayed in a readable Markdown format.\n",
    "\n",
    "### Output\n",
    "- Returns a list of assignments, where each entry includes:\n",
    "  - `Prompt`: The fixed prompt used.\n",
    "  - `Grade_Subject_Pair`: The grade level, subject, and subject area.\n",
    "  - `Criteria_Scores`: The quality metrics applied.\n",
    "  - `Assignment`: The generated student response.\n",
    "\n",
    "### Purpose\n",
    "- This function is designed to simulate realistic student responses tailored to specific quality expectations. It's useful for training or testing grading models and evaluating student performance under controlled conditions.\n",
    "\n",
    "\n",
    "\n",
    "\n",
    "\n"
   ]
  },
  {
   "cell_type": "code",
   "execution_count": 6,
   "id": "29628e1d",
   "metadata": {},
   "outputs": [],
   "source": [
    "def generate_assignments_with_criteria_definitions(deterministic_assignment_prompt, grade_subject_pairs, criteria_scores_list):\n",
    "    \"\"\"\n",
    "    Generate assignments with quality reflecting U.S. grade levels and an agent-based student theme.\n",
    "    Include explicit criteria definitions and grading scale in the prompt.\n",
    "\n",
    "    Args:\n",
    "        deterministic_assignment_prompt (str): The fixed prompt to generate assignments for.\n",
    "        grade_subject_pairs (list): List of tuples containing grade level, subject, and subject area.\n",
    "        criteria_scores_list (list): List of dictionaries with scores for Content, Clarity, Organization, and Relevance.\n",
    "\n",
    "    Returns:\n",
    "        list: List of generated assignments with quality reflecting criteria scores.\n",
    "    \"\"\"\n",
    "    assignments = []  # List to store assignments\n",
    "\n",
    "    for idx, scores in enumerate(criteria_scores_list, start=1):\n",
    "        # Extract criteria scores\n",
    "        content_score = scores['Content']\n",
    "        clarity_score = scores['Clarity']\n",
    "        organization_score = scores['Organization']\n",
    "        relevance_score = scores['Relevance to Prompt']\n",
    "\n",
    "        # Randomly select a grade-subject pair for context\n",
    "        grade_level, subject, subject_area = random.choice(grade_subject_pairs)\n",
    "\n",
    "        # Use OpenAI to generate an assignment reflecting the quality\n",
    "        completion = openai.ChatCompletion.create(\n",
    "            model=\"gpt-3.5-turbo\",\n",
    "            messages=[\n",
    "                {\"role\": \"system\", \"content\": \"You are a skilled agent creating realistic student responses based on U.S. grade levels and quality metrics.\"},\n",
    "                {\"role\": \"user\", \"content\": f\"\"\"\n",
    "                    You are a student in {grade_level}th-grade {subject}. Respond to the following assignment prompt:\n",
    "\n",
    "                    {deterministic_assignment_prompt}\n",
    "\n",
    "                    Your response should reflect your understanding and skills as a {grade_level}th-grade student.\n",
    "                    \n",
    "                    The quality of your response must align with these metrics for a {grade_level}th-grade level assignment:\n",
    "                    - Content: {content_score}/100\n",
    "                    - Clarity: {clarity_score}/100\n",
    "                    - Organization: {organization_score}/100\n",
    "                    - Relevance to Prompt: {relevance_score}/100\n",
    "\n",
    "                    Write a realistic response considering the grade-level, the scores provided, and the definitions of each criterion.\n",
    "                    The output will only be the assignment text.\n",
    "                \"\"\"}\n",
    "            ]\n",
    "        )\n",
    "        \n",
    "        # Extract the generated assignment text\n",
    "        assignment_text = completion.choices[0].message['content']\n",
    "        \n",
    "        # Add metadata and assignment text to the list\n",
    "        assignments.append({\n",
    "            'Prompt': deterministic_assignment_prompt,\n",
    "            'Grade_Subject_Pair': (grade_level, subject, subject_area),\n",
    "            'Criteria_Scores': scores,\n",
    "            'Assignment': assignment_text\n",
    "        })\n",
    "\n",
    "        # Display the assignment in Markdown\n",
    "        display(Markdown(f\"### Assignment {idx}\"))\n",
    "        display(Markdown(f\"**Criteria Scores:**\"))\n",
    "        display(Markdown(f\"- **Content:** {content_score}/100\"))\n",
    "        display(Markdown(f\"- **Clarity:** {clarity_score}/100\"))\n",
    "        display(Markdown(f\"- **Organization:** {organization_score}/100\"))\n",
    "        display(Markdown(f\"- **Relevance to Prompt:** {relevance_score}/100\"))\n",
    "        display(Markdown(f\"**Assignment Text:** {assignment_text}\"))\n",
    "\n",
    "    return assignments\n"
   ]
  },
  {
   "cell_type": "markdown",
   "id": "171caf0c",
   "metadata": {},
   "source": [
    "## Criteria Scores and Assignment Prompt\n",
    "\n",
    "### `criteria_scores_list`\n",
    "Defines quality metrics for assignments with the following criteria:\n",
    "- **Content**: Depth and accuracy.\n",
    "- **Clarity**: Expression and articulation.\n",
    "- **Organization**: Logical flow.\n",
    "- **Relevance to Prompt**: Focus and alignment with the topic.\n",
    "\n",
    "### Example Scores:\n",
    "- **D Grade**: Content: 63, Clarity: 70, Organization: 66, Relevance: 64\n",
    "- **B Grade**: Content: 85, Clarity: 88, Organization: 87, Relevance: 86\n",
    "- **C Grade**: Content: 78, Clarity: 75, Organization: 80, Relevance: 79\n",
    "- **A Grade**: Content: 99, Clarity: 100, Organization: 98, Relevance: 97\n",
    "\n",
    "### `deterministic_assignment_prompt`\n",
    "**A fixed prompt addressing the Great Depression:** Evaluate the effects of the Great Depression on American society and politics. How did the economic crisis of the 1930s reshape government intervention and social welfare policies in the United States?\n",
    "\n",
    "\n",
    "### Purpose\n",
    "- Scores define response quality.\n",
    "- The prompt ensures consistency across assignments.\n",
    "\n",
    "\n",
    "\n",
    "\n",
    "\n"
   ]
  },
  {
   "cell_type": "code",
   "execution_count": 7,
   "id": "0f79685a",
   "metadata": {},
   "outputs": [],
   "source": [
    "criteria_scores_list = [\n",
    "    {'Content': 63, 'Clarity': 70, 'Organization': 66, 'Relevance to Prompt': 64},\n",
    "    {'Content': 85, 'Clarity': 88, 'Organization': 87, 'Relevance to Prompt': 86},\n",
    "    {'Content': 78, 'Clarity': 75, 'Organization': 80, 'Relevance to Prompt': 79},\n",
    "    {'Content': 99, 'Clarity': 100, 'Organization': 98, 'Relevance to Prompt': 97}\n",
    "]\n",
    "\n",
    "\n",
    "deterministic_assignment_prompt = \"\"\"\n",
    "Evaluate the effects of the Great Depression on American society and politics. \n",
    "How did the economic crisis of the 1930s reshape government intervention and social welfare policies in the United States?\n",
    "\n",
    "\"\"\""
   ]
  },
  {
   "cell_type": "markdown",
   "id": "68734819",
   "metadata": {},
   "source": [
    "## Generate and Display Assignments\n",
    "\n",
    "This code generates student assignments based on the provided prompt, grade-subject pairs, and criteria scores.\n",
    "\n",
    "### Process\n",
    "- **`generate_assignments_with_criteria_definitions`**:  \n",
    "   Uses the OpenAI API to create assignments that reflect specific quality metrics defined in `criteria_scores_list`.\n",
    "\n",
    "- **Inputs**:\n",
    "  - `selected_prompt`: The assignment prompt students respond to.\n",
    "  - `grade_subject_pairs`: A list of grade levels, subjects, and subject areas.\n",
    "  - `criteria_scores_list`: Defines the quality metrics (Content, Clarity, Organization, Relevance).\n",
    "\n",
    "- **Outputs**:\n",
    "  - **`assignments`**: A list of generated assignments displayed in Markdown format, showing:\n",
    "    - Criteria scores.\n",
    "    - The assignment text for each grade-subject pair and quality level.\n",
    "\n",
    "### Purpose\n",
    "- Dynamically generate realistic, high-quality student responses aligned with the specified prompt and metrics.\n"
   ]
  },
  {
   "cell_type": "code",
   "execution_count": 8,
   "id": "27db7841",
   "metadata": {},
   "outputs": [
    {
     "data": {
      "text/markdown": [
       "### Assignment 1"
      ],
      "text/plain": [
       "<IPython.core.display.Markdown object>"
      ]
     },
     "metadata": {},
     "output_type": "display_data"
    },
    {
     "data": {
      "text/markdown": [
       "**Criteria Scores:**"
      ],
      "text/plain": [
       "<IPython.core.display.Markdown object>"
      ]
     },
     "metadata": {},
     "output_type": "display_data"
    },
    {
     "data": {
      "text/markdown": [
       "- **Content:** 63/100"
      ],
      "text/plain": [
       "<IPython.core.display.Markdown object>"
      ]
     },
     "metadata": {},
     "output_type": "display_data"
    },
    {
     "data": {
      "text/markdown": [
       "- **Clarity:** 70/100"
      ],
      "text/plain": [
       "<IPython.core.display.Markdown object>"
      ]
     },
     "metadata": {},
     "output_type": "display_data"
    },
    {
     "data": {
      "text/markdown": [
       "- **Organization:** 66/100"
      ],
      "text/plain": [
       "<IPython.core.display.Markdown object>"
      ]
     },
     "metadata": {},
     "output_type": "display_data"
    },
    {
     "data": {
      "text/markdown": [
       "- **Relevance to Prompt:** 64/100"
      ],
      "text/plain": [
       "<IPython.core.display.Markdown object>"
      ]
     },
     "metadata": {},
     "output_type": "display_data"
    },
    {
     "data": {
      "text/markdown": [
       "**Assignment Text:** The Civil Rights Movement had a profound impact on American society and politics. It was a time of great activism and struggle for equality, particularly for African Americans who faced systemic discrimination and segregation. The movement led to significant changes in laws and policies that aimed to dismantle racial segregation and promote civil rights for all individuals.\n",
       "\n",
       "In American society, the Civil Rights Movement brought about greater awareness of racial injustices and sparked a national conversation about equality and justice. It inspired people from all walks of life to stand up against discrimination and fight for their rights. The movement also paved the way for other social justice movements, highlighting the power of collective action and peaceful protests in effecting change.\n",
       "\n",
       "Politically, the Civil Rights Movement influenced legislation such as the Civil Rights Act of 1964 and the Voting Rights Act of 1965, which aimed to secure equal rights for all citizens regardless of race. These laws were significant steps towards ending legal segregation and discrimination in the United States. The movement also influenced political leaders to prioritize issues of civil rights and equality in their platforms and policies.\n",
       "\n",
       "Today, the legacy of the Civil Rights Movement continues to shape the country we live in. It has inspired ongoing efforts to address systemic racism and inequality in American society. The activism and sacrifices of those involved in the movement serve as a reminder of the importance of standing up against injustices and advocating for a more just and equitable society for all.\n",
       "\n",
       "Overall, the Civil Rights Movement has left a lasting impact on American society and politics, highlighting the power of grassroots activism and social movements in bringing about social change. It serves as a reminder of the ongoing work needed to ensure that all individuals are treated with dignity and respect, regardless of their race or background."
      ],
      "text/plain": [
       "<IPython.core.display.Markdown object>"
      ]
     },
     "metadata": {},
     "output_type": "display_data"
    },
    {
     "data": {
      "text/markdown": [
       "### Assignment 2"
      ],
      "text/plain": [
       "<IPython.core.display.Markdown object>"
      ]
     },
     "metadata": {},
     "output_type": "display_data"
    },
    {
     "data": {
      "text/markdown": [
       "**Criteria Scores:**"
      ],
      "text/plain": [
       "<IPython.core.display.Markdown object>"
      ]
     },
     "metadata": {},
     "output_type": "display_data"
    },
    {
     "data": {
      "text/markdown": [
       "- **Content:** 85/100"
      ],
      "text/plain": [
       "<IPython.core.display.Markdown object>"
      ]
     },
     "metadata": {},
     "output_type": "display_data"
    },
    {
     "data": {
      "text/markdown": [
       "- **Clarity:** 88/100"
      ],
      "text/plain": [
       "<IPython.core.display.Markdown object>"
      ]
     },
     "metadata": {},
     "output_type": "display_data"
    },
    {
     "data": {
      "text/markdown": [
       "- **Organization:** 87/100"
      ],
      "text/plain": [
       "<IPython.core.display.Markdown object>"
      ]
     },
     "metadata": {},
     "output_type": "display_data"
    },
    {
     "data": {
      "text/markdown": [
       "- **Relevance to Prompt:** 86/100"
      ],
      "text/plain": [
       "<IPython.core.display.Markdown object>"
      ]
     },
     "metadata": {},
     "output_type": "display_data"
    },
    {
     "data": {
      "text/markdown": [
       "**Assignment Text:** The Civil Rights Movement had a profound impact on American society and politics. This era of activism brought about significant changes in the fight for equality and justice. One of the key outcomes of the Civil Rights Movement was the passing of legislation such as the Civil Rights Act of 1964 and the Voting Rights Act of 1965, which aimed to end segregation and ensure equal rights for all citizens.\n",
       "\n",
       "Additionally, this era of activism brought attention to issues of racial inequality and discrimination, leading to increased awareness and discussions about racism in America. The Civil Rights Movement also paved the way for other social justice movements, inspiring individuals to stand up against injustice and fight for their rights.\n",
       "\n",
       "Today, the legacy of the Civil Rights Movement can be seen in the progress that has been made towards achieving greater equality and social justice in the United States. While challenges still remain, the activism and sacrifices of those involved in the Civil Rights Movement continue to inspire people to work towards a more just and inclusive society."
      ],
      "text/plain": [
       "<IPython.core.display.Markdown object>"
      ]
     },
     "metadata": {},
     "output_type": "display_data"
    },
    {
     "data": {
      "text/markdown": [
       "### Assignment 3"
      ],
      "text/plain": [
       "<IPython.core.display.Markdown object>"
      ]
     },
     "metadata": {},
     "output_type": "display_data"
    },
    {
     "data": {
      "text/markdown": [
       "**Criteria Scores:**"
      ],
      "text/plain": [
       "<IPython.core.display.Markdown object>"
      ]
     },
     "metadata": {},
     "output_type": "display_data"
    },
    {
     "data": {
      "text/markdown": [
       "- **Content:** 78/100"
      ],
      "text/plain": [
       "<IPython.core.display.Markdown object>"
      ]
     },
     "metadata": {},
     "output_type": "display_data"
    },
    {
     "data": {
      "text/markdown": [
       "- **Clarity:** 75/100"
      ],
      "text/plain": [
       "<IPython.core.display.Markdown object>"
      ]
     },
     "metadata": {},
     "output_type": "display_data"
    },
    {
     "data": {
      "text/markdown": [
       "- **Organization:** 80/100"
      ],
      "text/plain": [
       "<IPython.core.display.Markdown object>"
      ]
     },
     "metadata": {},
     "output_type": "display_data"
    },
    {
     "data": {
      "text/markdown": [
       "- **Relevance to Prompt:** 79/100"
      ],
      "text/plain": [
       "<IPython.core.display.Markdown object>"
      ]
     },
     "metadata": {},
     "output_type": "display_data"
    },
    {
     "data": {
      "text/markdown": [
       "**Assignment Text:** The Civil Rights Movement had a profound impact on American society and politics. It was a period of activism that fought against racial segregation and discrimination, leading to landmark legislation such as the Civil Rights Act of 1964 and the Voting Rights Act of 1965.\n",
       "\n",
       "This era of activism shaped the country we live in today by bringing about significant changes in social attitudes and laws. African Americans gained more rights and opportunities, leading to greater diversity and inclusivity in American society. The Civil Rights Movement also sparked other social justice movements, inspiring people to stand up for equality and justice.\n",
       "\n",
       "In terms of politics, the Civil Rights Movement shifted the political landscape by highlighting the importance of addressing inequality and promoting civil rights. It led to increased political participation among minority groups and paved the way for more diverse representation in government.\n",
       "\n",
       "Overall, the impact of the Civil Rights Movement continues to be felt today, as it has set the stage for ongoing discussions and actions around social justice issues. It has played a crucial role in shaping the values of equality and justice that are fundamental to the country we live in today."
      ],
      "text/plain": [
       "<IPython.core.display.Markdown object>"
      ]
     },
     "metadata": {},
     "output_type": "display_data"
    },
    {
     "data": {
      "text/markdown": [
       "### Assignment 4"
      ],
      "text/plain": [
       "<IPython.core.display.Markdown object>"
      ]
     },
     "metadata": {},
     "output_type": "display_data"
    },
    {
     "data": {
      "text/markdown": [
       "**Criteria Scores:**"
      ],
      "text/plain": [
       "<IPython.core.display.Markdown object>"
      ]
     },
     "metadata": {},
     "output_type": "display_data"
    },
    {
     "data": {
      "text/markdown": [
       "- **Content:** 99/100"
      ],
      "text/plain": [
       "<IPython.core.display.Markdown object>"
      ]
     },
     "metadata": {},
     "output_type": "display_data"
    },
    {
     "data": {
      "text/markdown": [
       "- **Clarity:** 100/100"
      ],
      "text/plain": [
       "<IPython.core.display.Markdown object>"
      ]
     },
     "metadata": {},
     "output_type": "display_data"
    },
    {
     "data": {
      "text/markdown": [
       "- **Organization:** 98/100"
      ],
      "text/plain": [
       "<IPython.core.display.Markdown object>"
      ]
     },
     "metadata": {},
     "output_type": "display_data"
    },
    {
     "data": {
      "text/markdown": [
       "- **Relevance to Prompt:** 97/100"
      ],
      "text/plain": [
       "<IPython.core.display.Markdown object>"
      ]
     },
     "metadata": {},
     "output_type": "display_data"
    },
    {
     "data": {
      "text/markdown": [
       "**Assignment Text:** The Civil Rights Movement had a profound impact on American society and politics. This era of activism, which spanned from the 1950s to the 1960s, led to significant advancements in civil rights for African Americans and other marginalized groups. One of the key outcomes of the movement was the passing of legislation such as the Civil Rights Act of 1964 and the Voting Rights Act of 1965, which aimed to end segregation and secure voting rights for all citizens.\n",
       "\n",
       "The Civil Rights Movement also brought about a shift in public attitudes towards issues of equality and social justice. Through nonviolent protests, sit-ins, and marches, activists like Martin Luther King Jr. and Rosa Parks raised awareness about the injustices faced by African Americans and inspired people across the country to join the fight for civil rights.\n",
       "\n",
       "In addition to its impact on legislation and public opinion, the Civil Rights Movement also paved the way for future movements advocating for equality and justice. The principles of nonviolent resistance and grassroots organizing employed during the Civil Rights era have influenced subsequent social movements, including the women's rights movement, the LGBTQ rights movement, and the Black Lives Matter movement.\n",
       "\n",
       "Overall, the Civil Rights Movement was a transformative period in American history that continues to shape the country we live in today. Its legacy can be seen in the ongoing struggle for equality and justice, as well as in the progress that has been made towards creating a more inclusive and equitable society for all."
      ],
      "text/plain": [
       "<IPython.core.display.Markdown object>"
      ]
     },
     "metadata": {},
     "output_type": "display_data"
    }
   ],
   "source": [
    "# Generate and display assignments with Markdown formatting\n",
    "assignments = generate_assignments_with_criteria_definitions(selected_prompt, grade_subject_pairs, criteria_scores_list)\n"
   ]
  },
  {
   "cell_type": "code",
   "execution_count": null,
   "id": "0e05f577",
   "metadata": {},
   "outputs": [],
   "source": []
  }
 ],
 "metadata": {
  "kernelspec": {
   "display_name": "Python 3 (ipykernel)",
   "language": "python",
   "name": "python3"
  },
  "language_info": {
   "codemirror_mode": {
    "name": "ipython",
    "version": 3
   },
   "file_extension": ".py",
   "mimetype": "text/x-python",
   "name": "python",
   "nbconvert_exporter": "python",
   "pygments_lexer": "ipython3",
   "version": "3.11.4"
  }
 },
 "nbformat": 4,
 "nbformat_minor": 5
}
