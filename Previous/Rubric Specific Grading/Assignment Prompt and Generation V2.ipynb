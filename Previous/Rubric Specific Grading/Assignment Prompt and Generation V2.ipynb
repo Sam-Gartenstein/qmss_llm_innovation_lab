{
 "cells": [
  {
   "cell_type": "markdown",
   "id": "26e84ab2",
   "metadata": {},
   "source": [
    "# Assignment Prompt and Generation\n",
    "\n",
    "\n",
    "This notebook demonstrates how to generate unique assignment prompts and sample student essays using the OpenAI API. The setup includes essential libraries, environment configuration, prompt generation, and essay generation with randomized quality levels.\n",
    "\n",
    "This notebook generates assignment prompts and sample student essays for specified grade levels and subjects using the OpenAI API.\n",
    "\n",
    "### Outline:\n",
    "1. **Setup**\n",
    "   - Import required libraries.\n",
    "   - Load environment variables for API access.\n",
    "   - Define quality levels for essay grading.\n",
    "\n",
    "2. **Functions**\n",
    "   - **generate_prompts**: Generates 10 assignment prompts for each grade-subject pair.\n",
    "   - **generate_sample_essay**: Creates a sample essay for each prompt with a randomly assigned quality level.\n",
    "\n",
    "3. **Execution**\n",
    "   - Define grade-subject pairs.\n",
    "   - Generate and display prompts.\n",
    "   - Generate and display sample essays with random quality levels.\n",
    "   \n",
    "### Requirements:\n",
    "- **API Key**: Ensure that `OPENAI_API_KEY` is set in the `.env` file in the project directory.\n",
    "- **Installed Libraries**:\n",
    "  - `openai`\n",
    "  - `IPython.display`\n",
    "  - `python-dotenv`\n",
    "  - `re` (comes with Python)\n",
    "  - `random` (comes with Python)\n",
    "\n",
    "\n",
    "\n",
    "\n",
    "\n",
    "\n"
   ]
  },
  {
   "cell_type": "code",
   "execution_count": 1,
   "id": "baaaca7c",
   "metadata": {},
   "outputs": [],
   "source": [
    "# Import necessary libraries\n",
    "import openai  # OpenAI API for generating text based on prompts\n",
    "from IPython.display import display, Markdown  # Markdown display tools for Jupyter Notebooks\n",
    "import os  # OS library for file and directory interactions\n",
    "from dotenv import load_dotenv, find_dotenv  # dotenv utilities for managing environment variables\n",
    "import re  # Regular expressions library for text pattern matching and formatting\n",
    "import random  # Random module for generating randomized values, such as quality levels\n",
    "\n",
    "# Function to convert text to Markdown format, allowing formatted display in Jupyter Notebooks\n",
    "def to_markdown(text):\n",
    "    # Wraps text in Markdown format for enhanced readability and presentation in Jupyter Notebooks\n",
    "    return Markdown(text)\n"
   ]
  },
  {
   "cell_type": "code",
   "execution_count": 2,
   "id": "b4cb2623",
   "metadata": {},
   "outputs": [],
   "source": [
    "# Automatically locate and load the .env file with environment variables\n",
    "env_path = find_dotenv()  # Searches for the .env file in the project directory\n",
    "load_dotenv(dotenv_path=env_path)  # Loads the environment variables from .env\n",
    "\n",
    "# Set the OpenAI API key from environment variable (pulled from the .env file)\n",
    "openai.api_key = os.getenv('OPENAI_API_KEY')\n"
   ]
  },
  {
   "cell_type": "markdown",
   "id": "2cc79c6c",
   "metadata": {},
   "source": [
    "### Function: `generate_prompts`\n",
    "\n",
    "#### Description:\n",
    "- This function generates a list of assignment prompts tailored to specific grade-subject pairs using the OpenAI API.\n",
    "- The function takes a list of grade-subject pairs, constructs a unique prompt for each, and requests 10 age-appropriate assignment prompts for each pair.\n",
    "- The prompts are displayed in Markdown format within Jupyter Notebooks for easy viewing.\n",
    "\n",
    "#### Parameters:\n",
    "- **pairs**: A list of tuples, where each tuple consists of:\n",
    "  - **grade_level**: A string representing the grade level (e.g., \"11\" for 11th grade).\n",
    "  - **subject**: A string representing the academic subject for which prompts are being generated (e.g., \"US History\").\n",
    "\n",
    "#### Process:\n",
    "1. **Prompt Construction**: For each grade-subject pair, the function builds a specific request prompt that asks the OpenAI model to generate 10 unique, challenging, and engaging assignment prompts appropriate for that grade level and subject.\n",
    "2. **API Call**: The function sends this constructed prompt to the OpenAI API (`gpt-3.5-turbo`), instructing it to generate relevant assignment ideas.\n",
    "3. **Formatting and Cleaning**: After receiving the response:\n",
    "   - Each prompt is stripped of any leading numbering or formatting inconsistencies using regular expressions to ensure a clean display.\n",
    "   - Only the first 10 prompts are kept, even if more are returned.\n",
    "4. **Display**: Each prompt is then labeled (e.g., \"Prompt 1,\" \"Prompt 2\") and displayed in Markdown format for readability.\n",
    "\n",
    "#### Output:\n",
    "- **Returns**: A dictionary (`all_prompts`) where:\n",
    "  - Each key is a tuple of the form `(grade_level, subject)`.\n",
    "  - Each value is a list of 10 formatted assignment prompts for the corresponding grade-subject pair.\n",
    "\n"
   ]
  },
  {
   "cell_type": "code",
   "execution_count": 3,
   "id": "ab040ec9",
   "metadata": {},
   "outputs": [],
   "source": [
    "# Function to generate assignment prompts based on a list of grade-subject pairs\n",
    "def generate_prompts(pairs):\n",
    "    all_prompts = {}\n",
    "    for grade_level, subject in pairs:\n",
    "        prompt_text = f\"\"\"\n",
    "        Role: You are a {grade_level}th-grade {subject} teacher. Please create 10 unique assignment prompts.\n",
    "\n",
    "        Each prompt should:\n",
    "        - Be age-appropriate for {grade_level}th grade\n",
    "        - Challenge students' understanding, encouraging critical thinking and engagement with the subject matter\n",
    "        - Cover diverse themes or topics within {subject}\n",
    "        \n",
    "        Ensure each prompt is clear, concise, and engaging.\n",
    "        \"\"\"\n",
    "        \n",
    "        # Generate prompts using OpenAI API\n",
    "        completion = openai.ChatCompletion.create(\n",
    "            model=\"gpt-3.5-turbo\",\n",
    "            messages=[\n",
    "                {\"role\": \"system\", \"content\": \"You are a creative and insightful prompt generator for teachers.\"},\n",
    "                {\"role\": \"user\", \"content\": prompt_text}\n",
    "            ]\n",
    "        )\n",
    "        \n",
    "        # Extract prompts and clean up formatting\n",
    "        prompts_text = completion.choices[0].message['content']\n",
    "        prompts_list = [re.sub(r'^\\d+\\.\\s*', '', prompt.strip()) for prompt in prompts_text.split('\\n') if prompt.strip()]\n",
    "        prompts_list = prompts_list[:10]  # Keep exactly 10 prompts\n",
    "        all_prompts[(grade_level, subject)] = prompts_list\n",
    "        \n",
    "        # Display prompts in Markdown format\n",
    "        display(Markdown(f\"### Generated Prompts for {grade_level}th Grade {subject}\"))\n",
    "        for i, prompt in enumerate(prompts_list, start=1):\n",
    "            display(Markdown(f\"**Prompt {i}:** {prompt}\"))\n",
    "    \n",
    "    return all_prompts\n"
   ]
  },
  {
   "cell_type": "markdown",
   "id": "2f465ce7",
   "metadata": {},
   "source": [
    "### Function: `generate_sample_essay`\n",
    "\n",
    "#### Description:\n",
    "- This function generates a sample essay for each grade-subject pair based on a specific prompt and a randomly assigned quality level. \n",
    "- It leverages a previously generated list of prompts, selects a specified prompt, and instructs OpenAI to generate a sample essay typical of a student at that grade level and subject.\n",
    "\n",
    "#### Parameters:\n",
    "- **all_prompts**: A dictionary where each key is a tuple `(grade_level, subject)` and each value is a list of 10 assignment prompts generated for that grade-subject pair.\n",
    "- **pairs**: A list of grade-subject tuples, where each tuple consists of:\n",
    "  - **grade_level**: A string indicating the grade level (e.g., \"11\" for 11th grade).\n",
    "  - **subject**: A string representing the academic subject (e.g., \"US History\").\n",
    "- **prompt_index**: An integer indicating which prompt from the list to use for essay generation (default is 0, which selects the first prompt in the list).\n",
    "\n",
    "#### Process:\n",
    "1. **Prompt Selection**: For each grade-subject pair in `pairs`, the function retrieves the specified prompt from `all_prompts` using `prompt_index`.\n",
    "2. **Quality Level Assignment**: A quality level (e.g., \"A\", \"B\", \"C\", \"D\", or \"F\") is randomly selected for the essay using `random.choice(quality_levels)`.\n",
    "3. **Essay Generation Prompt**: An essay prompt is constructed based on the selected prompt and assigned quality level, simulating a student essay typical of that grade and subject.\n",
    "4. **API Call**: The function sends the essay prompt to the OpenAI API (`gpt-3.5-turbo`), requesting a sample response.\n",
    "5. **Error Handling**: If prompts are missing or if `prompt_index` is out of range, an error message is printed. Any API errors are caught and logged, and the essay output for that pair is set to `None`.\n",
    "6. **Display and Storage**: Each generated essay, along with its quality level, is displayed in Markdown format and stored in a dictionary for further use.\n",
    "\n",
    "#### Output:\n",
    "- **Returns**: A dictionary (`all_essays`) where:\n",
    "  - Each key is a tuple `(grade_level, subject)`.\n",
    "  - Each value is a dictionary with:\n",
    "    - **quality**: The randomly assigned quality level for the essay.\n",
    "    - **essay**: The generated essay text or `None` if an error occurred.\n",
    "\n",
    "#### Example Usage:\n",
    "```python\n",
    "grade_subject_pairs = [(\"11\", \"US History\"), (\"10\", \"Global History\")]\n",
    "all_prompts = generate_prompts(grade_subject_pairs)\n",
    "all_essays = generate_sample_essay(all_prompts, grade_subject_pairs, prompt_index=0)\n"
   ]
  },
  {
   "cell_type": "code",
   "execution_count": 4,
   "id": "a35d796d",
   "metadata": {},
   "outputs": [],
   "source": [
    "# Want a mean grade of satisfactory, so we make a mean distribution around satisfactor\n",
    "# For each category, sample from that distribution and get a grade and a number of points for that particular criteria\n",
    "# We will get different grades for each criteria\n",
    "# Another important part is we need to treat criteria as independent units (unit for fine tuning) rather than grading-rubrics\n",
    "# We need to get the criteria correct and we can think of a grading rubric as a combination of criteria \n",
    "# We need an LLM to transform what it found in the essays and produce a final grade for the criteria and grading rubric\n",
    "# If we break down by criteria, we need our final data to be organized: final essay is input, criteria is unit of analyis, and output will be for each criteria, we need an analysis \n",
    "# For grammar, should our model be able to idenitfy all the grammar mistakes? Is grammar mistakes enough? Should it identify good uses of grammar? Correclty using grammar \n",
    "# Then we need additional level of summarization to the student and the student needs\n",
    "\n",
    "# Identify 4 or 5 criteria that are simple but relevant to our task \n",
    "# We need to find ways to find a set of mutually exclusive criteria and create a full table of all of them\n",
    "# We need to think of how to evaluate different LLMs and what is the perfect response, and then we use the perfect response to fine-tune and then use that evaluation method to select that LLM\n",
    "# Still use the rubric to create the essay, but now we will have one output per essay per criteria \n",
    "# After we start with one criteria, we perfect, \n",
    "\n",
    "\n",
    "def generate_multiple_essays_with_selected_qualities(prompt, grade_level, subject, qualities):\n",
    "    essays_with_explanations = []\n",
    "    \n",
    "    for quality in qualities:\n",
    "        # Primary prompt to generate the essay\n",
    "        essay_prompt = f\"\"\"\n",
    "        You are a {grade_level}th-grade student in {subject} with a {quality} average. Any assignment you write should confidently reflect this grade average.\n",
    "\n",
    "        Here’s how your work aligns with American high school grading standards:\n",
    "        \n",
    "        - A (90-100): Excellent\n",
    "        - B (80-89): Good\n",
    "        - C (70-79): Satisfactory\n",
    "        - D (60-69): Limited\n",
    "        - F (59 and below): Very Limited or Poor\n",
    "\n",
    "        **Essay Topic:** {prompt}\n",
    "\n",
    "        Write your essay directly, without repeating the topic instructions. Provide only the content of the essay as if you were submitting it for a grade.\n",
    "        \"\"\"\n",
    "\n",
    "        try:\n",
    "            # Generate the essay content\n",
    "            completion = openai.ChatCompletion.create(\n",
    "                model=\"gpt-3.5-turbo\",\n",
    "                messages=[\n",
    "                    {\"role\": \"system\", \"content\": \"You are a skilled educational content generator.\"},\n",
    "                    {\"role\": \"user\", \"content\": essay_prompt}\n",
    "                ]\n",
    "            )\n",
    "\n",
    "            essay = completion.choices[0].message['content'].strip()\n",
    "            \n",
    "            # Secondary prompt to generate a confident and clear explanation\n",
    "            explanation_prompt = f\"\"\"\n",
    "            Based on the following essay, provide a confident, 5-7 sentence ONE paragraph explanation of how this essay fulfills a {quality} grade level for a {grade_level}th-grade {subject} assignment.\n",
    "\n",
    "            Essay:\n",
    "            ---\n",
    "            {essay}\n",
    "            ---\n",
    "            Explanation: Be clear and definitive, explaining how specific elements of this essay fulfill a {quality} grade level.\n",
    "            \"\"\"\n",
    "            \n",
    "            # Generate the confident explanation\n",
    "            explanation_completion = openai.ChatCompletion.create(\n",
    "                model=\"gpt-3.5-turbo\",\n",
    "                messages=[\n",
    "                    {\"role\": \"system\", \"content\": \"You are a skilled educational content generator providing a clear and confident explanation.\"},\n",
    "                    {\"role\": \"user\", \"content\": explanation_prompt}\n",
    "                ]\n",
    "            )\n",
    "            \n",
    "            explanation = explanation_completion.choices[0].message['content'].strip()\n",
    "            \n",
    "            # Append essay and explanation to the list\n",
    "            essays_with_explanations.append({\n",
    "                \"quality\": quality,\n",
    "                \"essay\": essay,\n",
    "                \"explanation\": explanation\n",
    "            })\n",
    "            \n",
    "        except Exception as e:\n",
    "            print(f\"Error generating essay and explanation for {quality} quality level ({grade_level}th Grade {subject}), Prompt: {prompt}:\", e)\n",
    "            essays_with_explanations.append({\n",
    "                \"quality\": quality,\n",
    "                \"essay\": None,\n",
    "                \"explanation\": None\n",
    "            })\n",
    "    \n",
    "    return essays_with_explanations\n"
   ]
  },
  {
   "cell_type": "code",
   "execution_count": 5,
   "id": "aba33d8e",
   "metadata": {},
   "outputs": [],
   "source": [
    "# Step 1: Define pairs of grade level and subject\n",
    "pairs = [(11, \"US History\")] #(10, \"Global History\")]\n",
    "\n"
   ]
  },
  {
   "cell_type": "markdown",
   "id": "bb71da74",
   "metadata": {},
   "source": [
    "### Calling `generate_prompts`\n",
    "\n",
    "- Defines `grade_subject_pairs`, a list of grade level and subject combinations for which assignment prompts are needed.\n",
    "- Calls `generate_prompts` with this list, generating and displaying 10 unique assignment prompts for each grade-subject pair in a readable Markdown format.\n",
    "- The output, `all_prompts`, is a dictionary that stores prompts by grade-subject pair for further use.\n",
    "\n",
    "\n"
   ]
  },
  {
   "cell_type": "code",
   "execution_count": 6,
   "id": "1324e49e",
   "metadata": {},
   "outputs": [
    {
     "data": {
      "text/markdown": [
       "### Generated Prompts for 11th Grade US History"
      ],
      "text/plain": [
       "<IPython.core.display.Markdown object>"
      ]
     },
     "metadata": {},
     "output_type": "display_data"
    },
    {
     "data": {
      "text/markdown": [
       "**Prompt 1:** Write a persuasive essay arguing whether the Civil War was primarily fought over states' rights or slavery, providing evidence to support your position."
      ],
      "text/plain": [
       "<IPython.core.display.Markdown object>"
      ]
     },
     "metadata": {},
     "output_type": "display_data"
    },
    {
     "data": {
      "text/markdown": [
       "**Prompt 2:** Create a timeline tracking the major events leading up to the Great Depression. Include detailed descriptions and analysis of each event's impact on American society."
      ],
      "text/plain": [
       "<IPython.core.display.Markdown object>"
      ]
     },
     "metadata": {},
     "output_type": "display_data"
    },
    {
     "data": {
      "text/markdown": [
       "**Prompt 3:** Analyze the significance of the Montgomery Bus Boycott in the Civil Rights Movement. How did this event contribute to the larger push for desegregation and equal rights in America?"
      ],
      "text/plain": [
       "<IPython.core.display.Markdown object>"
      ]
     },
     "metadata": {},
     "output_type": "display_data"
    },
    {
     "data": {
      "text/markdown": [
       "**Prompt 4:** Research and present on the role of women during World War II, focusing on the impact of their contributions to the war effort on the home front and abroad."
      ],
      "text/plain": [
       "<IPython.core.display.Markdown object>"
      ]
     },
     "metadata": {},
     "output_type": "display_data"
    },
    {
     "data": {
      "text/markdown": [
       "**Prompt 5:** Explore the causes and effects of the Dust Bowl in the 1930s. Discuss the environmental, social, and economic consequences on individuals and communities."
      ],
      "text/plain": [
       "<IPython.core.display.Markdown object>"
      ]
     },
     "metadata": {},
     "output_type": "display_data"
    },
    {
     "data": {
      "text/markdown": [
       "**Prompt 6:** Investigate the role of Native American tribes in shaping early American history. How did interactions with European settlers impact their way of life and cultural traditions?"
      ],
      "text/plain": [
       "<IPython.core.display.Markdown object>"
      ]
     },
     "metadata": {},
     "output_type": "display_data"
    },
    {
     "data": {
      "text/markdown": [
       "**Prompt 7:** Compare and contrast the approaches of Malcolm X and Martin Luther King Jr. to the Civil Rights Movement. How did their differing strategies and ideologies influence the movement?"
      ],
      "text/plain": [
       "<IPython.core.display.Markdown object>"
      ]
     },
     "metadata": {},
     "output_type": "display_data"
    },
    {
     "data": {
      "text/markdown": [
       "**Prompt 8:** Examine the impact of the Cold War on American society and politics. How did the fear of communism shape domestic and foreign policies during this period?"
      ],
      "text/plain": [
       "<IPython.core.display.Markdown object>"
      ]
     },
     "metadata": {},
     "output_type": "display_data"
    },
    {
     "data": {
      "text/markdown": [
       "**Prompt 9:** Conduct a mock trial reenactment of the Salem Witch Trials. Research the historical context and individuals involved to present a compelling case for or against the accused."
      ],
      "text/plain": [
       "<IPython.core.display.Markdown object>"
      ]
     },
     "metadata": {},
     "output_type": "display_data"
    },
    {
     "data": {
      "text/markdown": [
       "**Prompt 10:** Imagine you are a journalist reporting on the Watergate scandal. Write a detailed news article summarizing the key events leading up to President Nixon's resignation and the aftermath of the scandal on American politics."
      ],
      "text/plain": [
       "<IPython.core.display.Markdown object>"
      ]
     },
     "metadata": {},
     "output_type": "display_data"
    }
   ],
   "source": [
    "# Step 2: Generate prompts for each grade-subject pair\n",
    "all_prompts = generate_prompts(pairs)\n"
   ]
  },
  {
   "cell_type": "markdown",
   "id": "553b1033",
   "metadata": {},
   "source": [
    "\n"
   ]
  },
  {
   "cell_type": "code",
   "execution_count": 7,
   "id": "7013995d",
   "metadata": {},
   "outputs": [
    {
     "name": "stdout",
     "output_type": "stream",
     "text": [
      "Selected Quality Levels (Grades) for Each Grade-Subject Pair:\n",
      "11th Grade US History: ['A', 'C', 'A', 'A']\n"
     ]
    }
   ],
   "source": [
    "# Define possible quality levels\n",
    "quality_levels = [\"A\", \"B\", \"C\", \"D\", \"F\"]\n",
    "\n",
    "num_essays = 4  # Number of essays to generate per prompt\n",
    "selected_qualities = {pair: [random.choice(quality_levels) for _ in range(num_essays)] for pair in pairs}\n",
    "\n",
    "# Display the selected qualities for each pair\n",
    "print(\"Selected Quality Levels (Grades) for Each Grade-Subject Pair:\")\n",
    "for pair, qualities in selected_qualities.items():\n",
    "    grade_level, subject = pair\n",
    "    print(f\"{grade_level}th Grade {subject}: {qualities}\")"
   ]
  },
  {
   "cell_type": "code",
   "execution_count": 8,
   "id": "121169cf",
   "metadata": {},
   "outputs": [
    {
     "name": "stdout",
     "output_type": "stream",
     "text": [
      "1. 11th Grade US History Prompt:\n",
      "   Research and present on the role of women during World War II, focusing on the impact of their contributions to the war effort on the home front and abroad.\n",
      "\n"
     ]
    }
   ],
   "source": [
    "# Select a random prompt for each grade-subject pair\n",
    "selected_prompts = [random.choice(all_prompts[pair]) for pair in pairs]\n",
    "\n",
    "# Display the selected prompts as a formatted list\n",
    "for i, (pair, prompt) in enumerate(zip(pairs, selected_prompts), start=1):\n",
    "    grade_level, subject = pair\n",
    "    print(f\"{i}. {grade_level}th Grade {subject} Prompt:\")\n",
    "    print(f\"   {prompt}\\n\")\n"
   ]
  },
  {
   "cell_type": "code",
   "execution_count": null,
   "id": "33b41eca",
   "metadata": {},
   "outputs": [],
   "source": []
  },
  {
   "cell_type": "markdown",
   "id": "49a8c541",
   "metadata": {},
   "source": [
    "### Calling `generate_sample_essay`\n",
    "\n",
    "- Defines `quality_levels`, a list of possible grades (\"A\" through \"F\") to randomly assign to each generated essay.\n",
    "- Calls `generate_sample_essay` with `all_prompts`, `grade_subject_pairs`, and a specified `prompt_index` (0), generating a sample essay for each grade-subject pair.\n",
    "- Each essay is displayed with its corresponding quality level and prompt. The output, `all_essays`, is a dictionary that stores the generated essays and their assigned quality levels for further use.\n",
    "\n",
    "\n",
    "\n",
    "\n",
    "\n"
   ]
  },
  {
   "cell_type": "code",
   "execution_count": 9,
   "id": "f54e7082",
   "metadata": {},
   "outputs": [
    {
     "data": {
      "text/markdown": [
       "### Selected Prompt for 11th Grade US History"
      ],
      "text/plain": [
       "<IPython.core.display.Markdown object>"
      ]
     },
     "metadata": {},
     "output_type": "display_data"
    },
    {
     "data": {
      "text/markdown": [
       "**Prompt:** Compare and contrast the approaches of Malcolm X and Martin Luther King Jr. to the Civil Rights Movement. How did their differing strategies and ideologies influence the movement?\n"
      ],
      "text/plain": [
       "<IPython.core.display.Markdown object>"
      ]
     },
     "metadata": {},
     "output_type": "display_data"
    },
    {
     "data": {
      "text/markdown": [
       "### Essay 1 (Quality: A)"
      ],
      "text/plain": [
       "<IPython.core.display.Markdown object>"
      ]
     },
     "metadata": {},
     "output_type": "display_data"
    },
    {
     "data": {
      "text/markdown": [
       "Malcolm X and Martin Luther King Jr. were two influential figures during the Civil Rights Movement in the United States, each with their own distinctive approaches and ideologies. While both men aimed to achieve racial equality and justice for African Americans, they followed different paths to reach this common goal.\n",
       "\n",
       "Martin Luther King Jr., a Baptist minister and a proponent of nonviolent resistance, believed in achieving civil rights through peaceful protest and civil disobedience. He promoted the idea of love and unity among all races and advocated for integration and equality. King emphasized the need for nonviolent direct action to bring about social change, famously leading the Montgomery Bus Boycott and delivering his iconic \"I Have a Dream\" speech during the March on Washington. His approach was rooted in Christian principles of love, forgiveness, and nonviolence, inspiring widespread support for the Civil Rights Movement.\n",
       "\n",
       "On the other hand, Malcolm X, a prominent leader in the Nation of Islam, took a more militant and separatist stance in his fight for racial justice. He advocated for self-defense and armed resistance against white supremacy, calling for black empowerment and self-determination. Malcolm X criticized King's nonviolent approach as ineffective and believed in responding to violence with force, if necessary. His message resonated with many African Americans who felt disillusioned with the slow progress of nonviolent tactics, appealing to those seeking more radical solutions to combat racism and oppression.\n",
       "\n",
       "The differing strategies and ideologies of Malcolm X and Martin Luther King Jr. had a significant impact on the Civil Rights Movement. While King's peaceful resistance strategy gained mainstream support and led to legislative victories such as the Civil Rights Act of 1964 and the Voting Rights Act of 1965, Malcolm X's advocacy for black nationalism and self-defense brought attention to the deep-rooted issues of systemic racism and challenged the status quo. Both men inspired and mobilized millions of people to fight against racial discrimination, albeit through contrasting means.\n",
       "\n",
       "In conclusion, Malcolm X and Martin Luther King Jr. played pivotal roles in shaping the Civil Rights Movement with their distinct approaches and ideologies. While King's commitment to nonviolent protest and integration helped progress towards racial equality, Malcolm X's militant stance sparked conversations about black empowerment and self-respect. Together, their contributions highlight the complexity and diversity of strategies within the broader fight for civil rights in America."
      ],
      "text/plain": [
       "<IPython.core.display.Markdown object>"
      ]
     },
     "metadata": {},
     "output_type": "display_data"
    },
    {
     "data": {
      "text/markdown": [
       "**Explanation:** This essay demonstrates an A-grade level for an 11th-grade US History assignment by providing a comprehensive and nuanced analysis of Malcolm X and Martin Luther King Jr.'s roles in the Civil Rights Movement. It showcases a deep understanding of the contrasting ideologies and approaches of these two pivotal figures, highlighting King's nonviolent resistance and emphasis on integration, and juxtaposing it with Malcolm X's more militant and separatist stance. The essay effectively discusses how these differing strategies influenced the movement, leading to legislative victories and challenging the status quo. Moreover, it offers a well-structured argument with clear thesis statements, supported by specific examples such as the Montgomery Bus Boycott and Malcolm X's advocacy for black empowerment. Overall, the essay displays critical thinking skills, historical context, and sophisticated analysis, making it deserving of an A grade in an 11th-grade US History assignment.\n"
      ],
      "text/plain": [
       "<IPython.core.display.Markdown object>"
      ]
     },
     "metadata": {},
     "output_type": "display_data"
    },
    {
     "data": {
      "text/markdown": [
       "### Essay 2 (Quality: C)"
      ],
      "text/plain": [
       "<IPython.core.display.Markdown object>"
      ]
     },
     "metadata": {},
     "output_type": "display_data"
    },
    {
     "data": {
      "text/markdown": [
       "Malcolm X and Martin Luther King Jr. were two influential figures in the Civil Rights Movement, each with their own distinct approaches and ideologies. While King advocated for nonviolent resistance and racial integration, Malcolm X emphasized self-defense and separation from white society.\n",
       "\n",
       "Martin Luther King Jr., known for his philosophy of nonviolent resistance, believed in achieving civil rights through peaceful protests and civil disobedience. He emphasized the power of love and forgiveness in the face of oppression, aiming to create a united society where racial differences would be erased. King's strategy involved mass mobilization, organizing marches, boycotts, and speeches to draw attention to the injustices faced by African Americans.\n",
       "\n",
       "In contrast, Malcolm X was a proponent of self-defense and separatism. He criticized the nonviolent approach of King and argued for armed resistance against racial violence. Malcolm X advocated for black nationalism and self-reliance, emphasizing the need for African Americans to build their own communities separate from white society. His message resonated with many who felt disillusioned by the slow progress of the Civil Rights Movement and sought a more assertive stance against oppression.\n",
       "\n",
       "The differing strategies and ideologies of Malcolm X and Martin Luther King Jr. had a significant impact on the Civil Rights Movement. While King's nonviolent approach appealed to a broader audience and helped gain sympathy from the white majority, Malcolm X's militant stance challenged the status quo and pushed for a more radical transformation of society.\n",
       "\n",
       "In conclusion, Malcolm X and Martin Luther King Jr. both played crucial roles in the Civil Rights Movement, each bringing their own unique perspectives and strategies to the fight for racial equality. Their differing approaches reflected the diversity of opinions within the black community and ultimately contributed to the overall progress and achievements of the movement."
      ],
      "text/plain": [
       "<IPython.core.display.Markdown object>"
      ]
     },
     "metadata": {},
     "output_type": "display_data"
    },
    {
     "data": {
      "text/markdown": [
       "**Explanation:** This essay meets the criteria for a C grade level in an 11th-grade US History assignment by providing a basic understanding of the key figures and ideologies of the Civil Rights Movement, specifically focusing on Malcolm X and Martin Luther King Jr. The essay distinguishes between the contrasting approaches of the two leaders, highlighting King's nonviolent resistance and emphasis on racial integration, in contrast to Malcolm X's advocacy for self-defense and separatism. The explanation of their strategies and impacts on the movement demonstrates a foundational knowledge of the topic, though lacking in-depth analysis or nuanced exploration. While the essay covers essential points and maintains coherence throughout, it could benefit from more detailed examples and deeper insights to elevate it to a higher grade level.\n"
      ],
      "text/plain": [
       "<IPython.core.display.Markdown object>"
      ]
     },
     "metadata": {},
     "output_type": "display_data"
    },
    {
     "data": {
      "text/markdown": [
       "### Essay 3 (Quality: A)"
      ],
      "text/plain": [
       "<IPython.core.display.Markdown object>"
      ]
     },
     "metadata": {},
     "output_type": "display_data"
    },
    {
     "data": {
      "text/markdown": [
       "Malcolm X and Martin Luther King Jr. were two prominent leaders in the Civil Rights Movement with contrasting approaches and ideologies, greatly influencing the movement's trajectory.\n",
       "\n",
       "Martin Luther King Jr., a proponent of nonviolent civil disobedience, believed in the power of love and peaceful resistance to bring about social change. He emphasized integration, equality, and the importance of working alongside white allies to achieve racial justice. King's leadership in organizing nonviolent protests and delivering inspiring speeches, such as his iconic \"I Have a Dream\" speech, helped galvanize public support for the civil rights cause.\n",
       "\n",
       "On the other hand, Malcolm X advocated for a more radical approach to racial equality, rejecting nonviolence and promoting self-defense in response to systemic oppression. He was a proponent of Black Nationalism and believed in empowering African Americans through self-reliance and separatism. Malcolm X’s fiery speeches and critiques of white supremacy challenged the status quo and resonated with many disillusioned African Americans seeking a more assertive stance against racial injustices.\n",
       "\n",
       "These differing strategies and ideologies had a significant impact on the Civil Rights Movement. While King's nonviolent approach attracted broader support from the general public, including white Americans and political leaders, Malcolm X's advocacy for self-defense and Black empowerment appealed to those who felt marginalized and oppressed. Both leaders sparked important conversations about race, equality, and justice in America and inspired many to join the fight for civil rights.\n",
       "\n",
       "Overall, Martin Luther King Jr. and Malcolm X's contrasting approaches to the Civil Rights Movement underscored the complexity and diversity of strategies within the movement. Their legacies continue to shape discussions on race relations and activism in the United States, reminding us of the ongoing struggle for equality and social justice."
      ],
      "text/plain": [
       "<IPython.core.display.Markdown object>"
      ]
     },
     "metadata": {},
     "output_type": "display_data"
    },
    {
     "data": {
      "text/markdown": [
       "**Explanation:** This essay deserves an A grade for an 11th-grade US History assignment as it demonstrates a comprehensive understanding of the topic by analyzing and comparing the contrasting approaches of Martin Luther King Jr. and Malcolm X in the Civil Rights Movement. It effectively discusses how King's advocacy for nonviolent civil disobedience and integration, alongside Malcolm X's more radical views on self-defense and Black empowerment, influenced the movement's trajectory. The essay showcases a nuanced understanding of the impact of their strategies on attracting different audiences and sparking crucial conversations about race and justice in America. Additionally, it effectively highlights the lasting legacies of both leaders and their contributions to the ongoing struggle for equality, showcasing critical thinking and historical analysis skills expected at an A level.\n"
      ],
      "text/plain": [
       "<IPython.core.display.Markdown object>"
      ]
     },
     "metadata": {},
     "output_type": "display_data"
    },
    {
     "data": {
      "text/markdown": [
       "### Essay 4 (Quality: A)"
      ],
      "text/plain": [
       "<IPython.core.display.Markdown object>"
      ]
     },
     "metadata": {},
     "output_type": "display_data"
    },
    {
     "data": {
      "text/markdown": [
       "Malcolm X and Martin Luther King Jr. were two prominent figures in the Civil Rights Movement, each with their own unique approaches and ideologies. While both leaders aimed to achieve racial equality and justice, they had distinct strategies that influenced the movement in significant ways.\n",
       "\n",
       "Malcolm X was a vocal advocate for Black empowerment and self-defense. His ideology was rooted in black nationalism and he believed in achieving freedom and equality through any means necessary, including self-defense and armed resistance. Malcolm X emphasized the importance of Black pride, self-reliance, and challenging the oppressive white power structure. He rejected nonviolence and criticized the integrationist approach of Martin Luther King Jr., arguing that Black Americans should separate themselves from whites and create their own identity and institutions.\n",
       "\n",
       "On the other hand, Martin Luther King Jr. was a proponent of nonviolent resistance and civil disobedience. He believed in the power of love, peace, and passive resistance to bring about social change. King emphasized the importance of unity, integration, and working together with white allies to dismantle institutional racism and achieve equality for all. His approach was deeply rooted in Christian principles of forgiveness, love, and nonviolence, and he advocated for peaceful protests, marches, and boycotts to raise awareness and bring about legislative changes.\n",
       "\n",
       "The differing strategies and ideologies of Malcolm X and Martin Luther King Jr. had a significant impact on the Civil Rights Movement. Malcolm X's bold and confrontational tactics appealed to those who felt frustrated and marginalized by the slow progress of the movement. His emphasis on self-empowerment and self-defense inspired many to take a more assertive stance against racism and discrimination.\n",
       "\n",
       "In contrast, Martin Luther King Jr.'s commitment to nonviolence and integration resonated with a broader audience, including white supporters and moderate activists. His message of love and unity helped to galvanize a mass movement for civil rights, leading to landmark legislation such as the Civil Rights Act of 1964 and the Voting Rights Act of 1965.\n",
       "\n",
       "Overall, the approaches of Malcolm X and Martin Luther King Jr. to the Civil Rights Movement were complementary yet divergent. While Malcolm X's militant stance highlighted the urgent need for black liberation and self-determination, King's peaceful activism paved the way for broader social change and integration. Together, their differing strategies and ideologies enriched the Civil Rights Movement and ultimately advanced the cause of racial equality in America."
      ],
      "text/plain": [
       "<IPython.core.display.Markdown object>"
      ]
     },
     "metadata": {},
     "output_type": "display_data"
    },
    {
     "data": {
      "text/markdown": [
       "**Explanation:** This essay demonstrates an A grade level for 11th-grade US History due to its in-depth analysis of the contrasting strategies and ideologies of Malcolm X and Martin Luther King Jr. in the Civil Rights Movement. The writer shows a deep understanding of these two pivotal figures, highlighting their unique approaches towards achieving racial equality. The essay effectively explains Malcolm X's advocacy for black nationalism and self-defense, contrasting it with Martin Luther King Jr.'s belief in nonviolent resistance and integration. Through a well-structured comparison, the essay delves into how these differing tactics impacted the movement and influenced its progress, ultimately leading to significant legislative changes. The writer's clear and comprehensive exploration of these complex historical figures and their impacts on the Civil Rights Movement showcases a high level of critical thinking and historical analysis, earning it an A grade for its depth, clarity, and insightful examination of this crucial period in American history.\n"
      ],
      "text/plain": [
       "<IPython.core.display.Markdown object>"
      ]
     },
     "metadata": {},
     "output_type": "display_data"
    }
   ],
   "source": [
    "# Step 4: Generate multiple essays with selected qualities for each grade-subject pair\n",
    "all_essays = {}\n",
    "for pair in pairs:\n",
    "    grade_level, subject = pair\n",
    "    # Select a random prompt for the current grade-subject pair\n",
    "    prompt = random.choice(all_prompts[pair])\n",
    "    \n",
    "    # Get the pre-selected quality levels for this pair\n",
    "    qualities = selected_qualities[pair]\n",
    "    \n",
    "    # Generate multiple essays with the selected qualities for the prompt\n",
    "    essays_with_varied_qualities = generate_multiple_essays_with_selected_qualities(prompt, grade_level, subject, qualities)\n",
    "    \n",
    "    # Store results for the current pair\n",
    "    all_essays[pair] = {\n",
    "        \"prompt\": prompt,\n",
    "        \"essays\": essays_with_varied_qualities\n",
    "    }\n",
    "    \n",
    "    # Display the selected prompt\n",
    "    display(Markdown(f\"### Selected Prompt for {grade_level}th Grade {subject}\"))\n",
    "    display(Markdown(f\"**Prompt:** {prompt}\\n\"))\n",
    "    \n",
    "    # Display each generated essay with its quality and confident explanation\n",
    "    for i, essay_data in enumerate(essays_with_varied_qualities, start=1):\n",
    "        quality = essay_data[\"quality\"]\n",
    "        essay = essay_data[\"essay\"]\n",
    "        explanation = essay_data[\"explanation\"]\n",
    "        \n",
    "        display(Markdown(f\"### Essay {i} (Quality: {quality})\"))\n",
    "        display(Markdown(essay))\n",
    "        display(Markdown(f\"**Explanation:** {explanation}\\n\"))\n"
   ]
  },
  {
   "cell_type": "code",
   "execution_count": 10,
   "id": "254c3730",
   "metadata": {},
   "outputs": [
    {
     "data": {
      "text/plain": [
       "\"This essay demonstrates an A grade level for 11th-grade US History due to its in-depth analysis of the contrasting strategies and ideologies of Malcolm X and Martin Luther King Jr. in the Civil Rights Movement. The writer shows a deep understanding of these two pivotal figures, highlighting their unique approaches towards achieving racial equality. The essay effectively explains Malcolm X's advocacy for black nationalism and self-defense, contrasting it with Martin Luther King Jr.'s belief in nonviolent resistance and integration. Through a well-structured comparison, the essay delves into how these differing tactics impacted the movement and influenced its progress, ultimately leading to significant legislative changes. The writer's clear and comprehensive exploration of these complex historical figures and their impacts on the Civil Rights Movement showcases a high level of critical thinking and historical analysis, earning it an A grade for its depth, clarity, and insightful examination of this crucial period in American history.\""
      ]
     },
     "execution_count": 10,
     "metadata": {},
     "output_type": "execute_result"
    }
   ],
   "source": [
    "explanation"
   ]
  },
  {
   "cell_type": "markdown",
   "id": "2f3f37c5",
   "metadata": {},
   "source": [
    "## Rubric "
   ]
  },
  {
   "cell_type": "code",
   "execution_count": 11,
   "id": "479b521c",
   "metadata": {},
   "outputs": [
    {
     "name": "stdout",
     "output_type": "stream",
     "text": [
      "# High School History Course Rubric\n",
      "\n",
      "| Criteria                               | Poor                                                                                                                     | Satisfactory                                                                                                                                            | Good                                                                                                                                                    | Excellent                                                                                                                                               | Total Possible Points |\n",
      "|----------------------------------------|---------------------------------------------------------------------------------------------------------------------------|----------------------------------------------------------------------------------------------------------------------------------------------------------|----------------------------------------------------------------------------------------------------------------------------------------------------------|----------------------------------------------------------------------------------------------------------------------------------------------------------|--------|\n",
      "| **1. Evidence and Analysis**           | 0 to 12 points: Provides little to no relevant evidence; ideas are unclear or unrelated to the historical topic           | 13 to 17 points: Uses some relevant evidence but lacks depth in analysis or connection to the historical topic                                          | 18 to 22 points: Provides relevant evidence with basic analysis; some connection to the historical topic is made                                       | 23 to 25 points: Provides specific, relevant evidence with thorough analysis; clearly connects ideas to the historical topic                           | 25     |\n",
      "| **2. Understanding Key Ideas**         | 0 to 12 points: Lacks understanding of main ideas; summary is inaccurate or incomplete                                    | 13 to 17 points: Identifies some main ideas but may miss key details; summary lacks clarity                                                             | 18 to 22 points: Summarizes main ideas accurately, with most key details included                                                                      | 23 to 25 points: Clearly identifies main ideas with an accurate summary; highlights relationships among key details and ideas                           | 25     |\n",
      "| **3. Cause and Effect Reasoning**      | 0 to 12 points: Does not analyze events or establish cause and effect; lacks reasoning                                    | 13 to 17 points: Attempts cause-and-effect analysis but lacks clarity or depth                                                                          | 18 to 22 points: Analyzes events with a basic understanding of cause and effect                                                                         | 23 to 25 points: Insightfully analyzes events and establishes cause-and-effect relationships with well-developed reasoning                              | 25     |\n",
      "| **4. Writing Clarity and Organization**| 0 to 12 points: Writing lacks clarity and coherence; poor organization without logical structure                          | 13 to 17 points: Writing is somewhat clear but lacks coherence; organization may be inconsistent                                                        | 18 to 22 points: Writing is clear and mostly organized; follows a logical structure                                                                     | 23 to 25 points: Writing is clear, coherent, and well-organized with a logical, compelling narrative                                                    | 25     |\n",
      "\n",
      "**Total Points:** 100\n",
      "\n"
     ]
    }
   ],
   "source": [
    "file_path = '/Users/samuelgartenstein/Desktop/qmss_llm_innovation_lab/Rubrics/General History Rubric.md'\n",
    "with open(file_path, 'r') as file:\n",
    "    rubric = file.read()\n",
    "print(rubric)\n"
   ]
  },
  {
   "cell_type": "markdown",
   "id": "1cf7232c",
   "metadata": {},
   "source": [
    "### Rubric Grading"
   ]
  },
  {
   "cell_type": "code",
   "execution_count": 29,
   "id": "1ab75fe0",
   "metadata": {
    "scrolled": true
   },
   "outputs": [
    {
     "data": {
      "text/markdown": [
       "### Essay Grading Results for 11th Grade US History"
      ],
      "text/plain": [
       "<IPython.core.display.Markdown object>"
      ]
     },
     "metadata": {},
     "output_type": "display_data"
    },
    {
     "data": {
      "text/markdown": [
       "**Essay Content:**"
      ],
      "text/plain": [
       "<IPython.core.display.Markdown object>"
      ]
     },
     "metadata": {},
     "output_type": "display_data"
    },
    {
     "data": {
      "text/markdown": [
       "Malcolm X and Martin Luther King Jr. were two influential figures during the Civil Rights Movement in the United States, each with their own distinctive approaches and ideologies. While both men aimed to achieve racial equality and justice for African Americans, they followed different paths to reach this common goal.\n",
       "\n",
       "Martin Luther King Jr., a Baptist minister and a proponent of nonviolent resistance, believed in achieving civil rights through peaceful protest and civil disobedience. He promoted the idea of love and unity among all races and advocated for integration and equality. King emphasized the need for nonviolent direct action to bring about social change, famously leading the Montgomery Bus Boycott and delivering his iconic \"I Have a Dream\" speech during the March on Washington. His approach was rooted in Christian principles of love, forgiveness, and nonviolence, inspiring widespread support for the Civil Rights Movement.\n",
       "\n",
       "On the other hand, Malcolm X, a prominent leader in the Nation of Islam, took a more militant and separatist stance in his fight for racial justice. He advocated for self-defense and armed resistance against white supremacy, calling for black empowerment and self-determination. Malcolm X criticized King's nonviolent approach as ineffective and believed in responding to violence with force, if necessary. His message resonated with many African Americans who felt disillusioned with the slow progress of nonviolent tactics, appealing to those seeking more radical solutions to combat racism and oppression.\n",
       "\n",
       "The differing strategies and ideologies of Malcolm X and Martin Luther King Jr. had a significant impact on the Civil Rights Movement. While King's peaceful resistance strategy gained mainstream support and led to legislative victories such as the Civil Rights Act of 1964 and the Voting Rights Act of 1965, Malcolm X's advocacy for black nationalism and self-defense brought attention to the deep-rooted issues of systemic racism and challenged the status quo. Both men inspired and mobilized millions of people to fight against racial discrimination, albeit through contrasting means.\n",
       "\n",
       "In conclusion, Malcolm X and Martin Luther King Jr. played pivotal roles in shaping the Civil Rights Movement with their distinct approaches and ideologies. While King's commitment to nonviolent protest and integration helped progress towards racial equality, Malcolm X's militant stance sparked conversations about black empowerment and self-respect. Together, their contributions highlight the complexity and diversity of strategies within the broader fight for civil rights in America."
      ],
      "text/plain": [
       "<IPython.core.display.Markdown object>"
      ]
     },
     "metadata": {},
     "output_type": "display_data"
    },
    {
     "data": {
      "text/markdown": [
       "**Grading Breakdown:**"
      ],
      "text/plain": [
       "<IPython.core.display.Markdown object>"
      ]
     },
     "metadata": {},
     "output_type": "display_data"
    },
    {
     "data": {
      "text/markdown": [
       "**1. Evidence and Analysis**\n",
       "- **Score: 23/25**\n",
       "- The essay provides specific and relevant evidence about the different approaches of Malcolm X and Martin Luther King Jr. during the Civil Rights Movement. It thoroughly analyzes their strategies, connects ideas to the historical context, and explains the impact of their ideologies on the movement.\n",
       "\n",
       "**2. Understanding Key Ideas**\n",
       "- **Score: 24/25**\n",
       "- The essay demonstrates a clear understanding of the main ideas presented, accurately summarizing the distinct approaches of Malcolm X and Martin Luther King Jr. It highlights key details and effectively conveys the relationships between their ideologies and the broader Civil Rights Movement.\n",
       "\n",
       "**3. Cause and Effect Reasoning**\n",
       "- **Score: 22/25**\n",
       "- The essay shows a good analysis of the cause-and-effect relationships between the strategies of Malcolm X and Martin Luther King Jr. Although insightful at times, the reasoning could be further developed to provide a deeper exploration of how their actions influenced the outcomes of the movement.\n",
       "\n",
       "**4. Writing Clarity and Organization**\n",
       "- **Score: 23/25**\n",
       "- The writing is clear, coherent, and well-organized, presenting the historical information in a logical and compelling narrative. While the essay maintains a good structure, there are minor instances where clarity could be improved for a more seamless flow of ideas.\n",
       "\n",
       "**Total Score: 92/100**\n",
       "- **Letter Grade: A**\n",
       "\n",
       "Overall, the essay effectively analyzes the strategies of Malcolm X and Martin Luther King Jr. within the context of the Civil Rights Movement, providing a well-rounded discussion of their impact and significance. It presents a thorough understanding of the historical topic with clear writing and organization, earning an \"A\" grade."
      ],
      "text/plain": [
       "<IPython.core.display.Markdown object>"
      ]
     },
     "metadata": {},
     "output_type": "display_data"
    },
    {
     "data": {
      "text/markdown": [
       "**Explanation:** The essay on the different approaches of Malcolm X and Martin Luther King Jr. during the Civil Rights Movement earned an \"A\" grade due to several strong points. It excelled in providing specific evidence and thorough analysis of their strategies, effectively connecting them to the historical context and explaining their impact on the movement. Additionally, the essay demonstrated a clear understanding of the main ideas, effectively summarized the distinct approaches of the two figures, and highlighted key details while conveying the relationships between their ideologies and the broader Civil Rights Movement. The writing was clear, coherent, and well-organized, maintaining a logical and compelling narrative. However, there were minor areas for improvement in cause-and-effect reasoning to deepen the exploration of how the actions of Malcolm X and Martin Luther King Jr. influenced the outcomes of the movement. Therefore, the overall grade reflects a comprehensive discussion and understanding of the historical topic with a well-structured presentation, resulting in the final \"A\" grade."
      ],
      "text/plain": [
       "<IPython.core.display.Markdown object>"
      ]
     },
     "metadata": {},
     "output_type": "display_data"
    },
    {
     "data": {
      "text/markdown": [
       "**Letter Grade:** A\n"
      ],
      "text/plain": [
       "<IPython.core.display.Markdown object>"
      ]
     },
     "metadata": {},
     "output_type": "display_data"
    },
    {
     "data": {
      "text/markdown": [
       "### Essay Grading Results for 11th Grade US History"
      ],
      "text/plain": [
       "<IPython.core.display.Markdown object>"
      ]
     },
     "metadata": {},
     "output_type": "display_data"
    },
    {
     "data": {
      "text/markdown": [
       "**Essay Content:**"
      ],
      "text/plain": [
       "<IPython.core.display.Markdown object>"
      ]
     },
     "metadata": {},
     "output_type": "display_data"
    },
    {
     "data": {
      "text/markdown": [
       "Malcolm X and Martin Luther King Jr. were two influential figures in the Civil Rights Movement, each with their own distinct approaches and ideologies. While King advocated for nonviolent resistance and racial integration, Malcolm X emphasized self-defense and separation from white society.\n",
       "\n",
       "Martin Luther King Jr., known for his philosophy of nonviolent resistance, believed in achieving civil rights through peaceful protests and civil disobedience. He emphasized the power of love and forgiveness in the face of oppression, aiming to create a united society where racial differences would be erased. King's strategy involved mass mobilization, organizing marches, boycotts, and speeches to draw attention to the injustices faced by African Americans.\n",
       "\n",
       "In contrast, Malcolm X was a proponent of self-defense and separatism. He criticized the nonviolent approach of King and argued for armed resistance against racial violence. Malcolm X advocated for black nationalism and self-reliance, emphasizing the need for African Americans to build their own communities separate from white society. His message resonated with many who felt disillusioned by the slow progress of the Civil Rights Movement and sought a more assertive stance against oppression.\n",
       "\n",
       "The differing strategies and ideologies of Malcolm X and Martin Luther King Jr. had a significant impact on the Civil Rights Movement. While King's nonviolent approach appealed to a broader audience and helped gain sympathy from the white majority, Malcolm X's militant stance challenged the status quo and pushed for a more radical transformation of society.\n",
       "\n",
       "In conclusion, Malcolm X and Martin Luther King Jr. both played crucial roles in the Civil Rights Movement, each bringing their own unique perspectives and strategies to the fight for racial equality. Their differing approaches reflected the diversity of opinions within the black community and ultimately contributed to the overall progress and achievements of the movement."
      ],
      "text/plain": [
       "<IPython.core.display.Markdown object>"
      ]
     },
     "metadata": {},
     "output_type": "display_data"
    },
    {
     "data": {
      "text/markdown": [
       "**Grading Breakdown:**"
      ],
      "text/plain": [
       "<IPython.core.display.Markdown object>"
      ]
     },
     "metadata": {},
     "output_type": "display_data"
    },
    {
     "data": {
      "text/markdown": [
       "**1. Evidence and Analysis**\n",
       "- **Score: 23/25**\n",
       "- The essay provides specific evidence regarding the differing approaches of Malcolm X and Martin Luther King Jr. to the Civil Rights Movement. The analysis is thorough, clearly connecting the strategies of nonviolent resistance and self-defense to each figure's ideology. The essay effectively demonstrates how these strategies had a significant impact on the movement.\n",
       "\n",
       "**2. Understanding Key Ideas**\n",
       "- **Score: 24/25**\n",
       "- The essay demonstrates a clear understanding of the main ideas presented about Malcolm X and Martin Luther King Jr. It accurately summarizes their differing philosophies and strategies, highlighting the key details and relationships between their approaches in the Civil Rights Movement.\n",
       "\n",
       "**3. Cause and Effect Reasoning**\n",
       "- **Score: 22/25**\n",
       "- The essay attempts to analyze the cause-and-effect relationship between the strategies of Malcolm X and Martin Luther King Jr. While the analysis is insightful in highlighting how their approaches influenced the Civil Rights Movement, there could be more depth in connecting specific events to their ideologies.\n",
       "\n",
       "**4. Writing Clarity and Organization**\n",
       "- **Score: 24/25**\n",
       "- The writing is clear, coherent, and well-organized with a logical narrative structure. The essay effectively conveys the contrasting approaches of Malcolm X and Martin Luther King Jr., making it easy for the reader to follow the arguments and understand the significance of their strategies in the context of the Civil Rights Movement.\n",
       "\n",
       "**Total Score: 93/100**\n",
       "**Letter Grade: A**"
      ],
      "text/plain": [
       "<IPython.core.display.Markdown object>"
      ]
     },
     "metadata": {},
     "output_type": "display_data"
    },
    {
     "data": {
      "text/markdown": [
       "**Explanation:** Overall, the essay on the approaches of Malcolm X and Martin Luther King Jr. to the Civil Rights Movement excelled in providing detailed evidence and analysis, showcasing a thorough understanding of the key ideas behind their differing strategies. The essay effectively highlighted the cause-and-effect relationship between their approaches, demonstrating insight into how their ideologies influenced the movement. Additionally, the writing was well-organized and clear, making it easy for the reader to follow the arguments presented. While the analysis could have delved deeper into connecting specific events to their ideologies, the overall strength of the essay's evidence, understanding of key ideas, and writing clarity and organization resulted in a high score and an 'A' grade."
      ],
      "text/plain": [
       "<IPython.core.display.Markdown object>"
      ]
     },
     "metadata": {},
     "output_type": "display_data"
    },
    {
     "data": {
      "text/markdown": [
       "**Letter Grade:** A\n"
      ],
      "text/plain": [
       "<IPython.core.display.Markdown object>"
      ]
     },
     "metadata": {},
     "output_type": "display_data"
    },
    {
     "data": {
      "text/markdown": [
       "### Essay Grading Results for 11th Grade US History"
      ],
      "text/plain": [
       "<IPython.core.display.Markdown object>"
      ]
     },
     "metadata": {},
     "output_type": "display_data"
    },
    {
     "data": {
      "text/markdown": [
       "**Essay Content:**"
      ],
      "text/plain": [
       "<IPython.core.display.Markdown object>"
      ]
     },
     "metadata": {},
     "output_type": "display_data"
    },
    {
     "data": {
      "text/markdown": [
       "Malcolm X and Martin Luther King Jr. were two prominent leaders in the Civil Rights Movement with contrasting approaches and ideologies, greatly influencing the movement's trajectory.\n",
       "\n",
       "Martin Luther King Jr., a proponent of nonviolent civil disobedience, believed in the power of love and peaceful resistance to bring about social change. He emphasized integration, equality, and the importance of working alongside white allies to achieve racial justice. King's leadership in organizing nonviolent protests and delivering inspiring speeches, such as his iconic \"I Have a Dream\" speech, helped galvanize public support for the civil rights cause.\n",
       "\n",
       "On the other hand, Malcolm X advocated for a more radical approach to racial equality, rejecting nonviolence and promoting self-defense in response to systemic oppression. He was a proponent of Black Nationalism and believed in empowering African Americans through self-reliance and separatism. Malcolm X’s fiery speeches and critiques of white supremacy challenged the status quo and resonated with many disillusioned African Americans seeking a more assertive stance against racial injustices.\n",
       "\n",
       "These differing strategies and ideologies had a significant impact on the Civil Rights Movement. While King's nonviolent approach attracted broader support from the general public, including white Americans and political leaders, Malcolm X's advocacy for self-defense and Black empowerment appealed to those who felt marginalized and oppressed. Both leaders sparked important conversations about race, equality, and justice in America and inspired many to join the fight for civil rights.\n",
       "\n",
       "Overall, Martin Luther King Jr. and Malcolm X's contrasting approaches to the Civil Rights Movement underscored the complexity and diversity of strategies within the movement. Their legacies continue to shape discussions on race relations and activism in the United States, reminding us of the ongoing struggle for equality and social justice."
      ],
      "text/plain": [
       "<IPython.core.display.Markdown object>"
      ]
     },
     "metadata": {},
     "output_type": "display_data"
    },
    {
     "data": {
      "text/markdown": [
       "**Grading Breakdown:**"
      ],
      "text/plain": [
       "<IPython.core.display.Markdown object>"
      ]
     },
     "metadata": {},
     "output_type": "display_data"
    },
    {
     "data": {
      "text/markdown": [
       "**1. Evidence and Analysis**\n",
       "- **Score: 23/25**\n",
       "- The essay provides specific and relevant evidence about Martin Luther King Jr. and Malcolm X, such as their differing ideologies and approaches in the Civil Rights Movement. It demonstrates a thorough analysis by highlighting how their strategies influenced the movement and sparked important conversations about race and equality.\n",
       "\n",
       "**2. Understanding Key Ideas**\n",
       "- **Score: 24/25**\n",
       "- The essay clearly identifies and summarizes the main ideas of Martin Luther King Jr. and Malcolm X, showcasing a deep understanding of their roles in the Civil Rights Movement. It accurately highlights the contrasting approaches of the two leaders and their impact on the trajectory of the movement.\n",
       "\n",
       "**3. Cause and Effect Reasoning**\n",
       "- **Score: 22/25**\n",
       "- The essay attempts to analyze the cause-and-effect relationships between the strategies of Martin Luther King Jr. and Malcolm X and their effects on the Civil Rights Movement. While the analysis is sound, it could have delved deeper into how their differing approaches led to varying outcomes within the movement.\n",
       "\n",
       "**4. Writing Clarity and Organization**\n",
       "- **Score: 24/25**\n",
       "- The writing is clear, coherent, and well-organized, presenting a logical structure that effectively narrates the contrasting approaches of Martin Luther King Jr. and Malcolm X in the Civil Rights Movement. The narrative flows smoothly, making it easy for the reader to follow the arguments presented.\n",
       "\n",
       "**Total Score: 93/100**\n",
       "**Letter Grade: A**"
      ],
      "text/plain": [
       "<IPython.core.display.Markdown object>"
      ]
     },
     "metadata": {},
     "output_type": "display_data"
    },
    {
     "data": {
      "text/markdown": [
       "**Explanation:** Overall, the essay on Martin Luther King Jr. and Malcolm X excels in providing specific evidence and sound analysis of their differing ideologies and impacts on the Civil Rights Movement. It shows a deep understanding of the key ideas of both leaders and effectively compares their strategies. The writing is clear, well-organized, and coherent, which enhances the reader's comprehension of the contrasting approaches. While the essay demonstrates strong cause-and-effect reasoning, there is room for deeper analysis on how the leaders' differing tactics influenced specific outcomes within the movement. Despite this minor limitation, the essay's overall quality merits an 'A' grade as it effectively analyzes and presents the complexities of King and Malcolm X's roles in the Civil Rights Movement."
      ],
      "text/plain": [
       "<IPython.core.display.Markdown object>"
      ]
     },
     "metadata": {},
     "output_type": "display_data"
    },
    {
     "data": {
      "text/markdown": [
       "**Letter Grade:** A\n"
      ],
      "text/plain": [
       "<IPython.core.display.Markdown object>"
      ]
     },
     "metadata": {},
     "output_type": "display_data"
    },
    {
     "data": {
      "text/markdown": [
       "### Essay Grading Results for 11th Grade US History"
      ],
      "text/plain": [
       "<IPython.core.display.Markdown object>"
      ]
     },
     "metadata": {},
     "output_type": "display_data"
    },
    {
     "data": {
      "text/markdown": [
       "**Essay Content:**"
      ],
      "text/plain": [
       "<IPython.core.display.Markdown object>"
      ]
     },
     "metadata": {},
     "output_type": "display_data"
    },
    {
     "data": {
      "text/markdown": [
       "Malcolm X and Martin Luther King Jr. were two prominent figures in the Civil Rights Movement, each with their own unique approaches and ideologies. While both leaders aimed to achieve racial equality and justice, they had distinct strategies that influenced the movement in significant ways.\n",
       "\n",
       "Malcolm X was a vocal advocate for Black empowerment and self-defense. His ideology was rooted in black nationalism and he believed in achieving freedom and equality through any means necessary, including self-defense and armed resistance. Malcolm X emphasized the importance of Black pride, self-reliance, and challenging the oppressive white power structure. He rejected nonviolence and criticized the integrationist approach of Martin Luther King Jr., arguing that Black Americans should separate themselves from whites and create their own identity and institutions.\n",
       "\n",
       "On the other hand, Martin Luther King Jr. was a proponent of nonviolent resistance and civil disobedience. He believed in the power of love, peace, and passive resistance to bring about social change. King emphasized the importance of unity, integration, and working together with white allies to dismantle institutional racism and achieve equality for all. His approach was deeply rooted in Christian principles of forgiveness, love, and nonviolence, and he advocated for peaceful protests, marches, and boycotts to raise awareness and bring about legislative changes.\n",
       "\n",
       "The differing strategies and ideologies of Malcolm X and Martin Luther King Jr. had a significant impact on the Civil Rights Movement. Malcolm X's bold and confrontational tactics appealed to those who felt frustrated and marginalized by the slow progress of the movement. His emphasis on self-empowerment and self-defense inspired many to take a more assertive stance against racism and discrimination.\n",
       "\n",
       "In contrast, Martin Luther King Jr.'s commitment to nonviolence and integration resonated with a broader audience, including white supporters and moderate activists. His message of love and unity helped to galvanize a mass movement for civil rights, leading to landmark legislation such as the Civil Rights Act of 1964 and the Voting Rights Act of 1965.\n",
       "\n",
       "Overall, the approaches of Malcolm X and Martin Luther King Jr. to the Civil Rights Movement were complementary yet divergent. While Malcolm X's militant stance highlighted the urgent need for black liberation and self-determination, King's peaceful activism paved the way for broader social change and integration. Together, their differing strategies and ideologies enriched the Civil Rights Movement and ultimately advanced the cause of racial equality in America."
      ],
      "text/plain": [
       "<IPython.core.display.Markdown object>"
      ]
     },
     "metadata": {},
     "output_type": "display_data"
    },
    {
     "data": {
      "text/markdown": [
       "**Grading Breakdown:**"
      ],
      "text/plain": [
       "<IPython.core.display.Markdown object>"
      ]
     },
     "metadata": {},
     "output_type": "display_data"
    },
    {
     "data": {
      "text/markdown": [
       "**1. Evidence and Analysis**\n",
       "- **Score: 23/25**\n",
       "- **Explanation:** The essay provides specific and relevant evidence about Malcolm X and Martin Luther King Jr.'s strategies and ideologies. Thorough analysis is evident throughout the essay, connecting ideas to the historical topic of the Civil Rights Movement effectively.\n",
       "\n",
       "**2. Understanding Key Ideas**\n",
       "- **Score: 22/25**\n",
       "- **Explanation:** The essay accurately identifies and summarizes the main ideas of Malcolm X and Martin Luther King Jr., although there could have been a bit more clarity in highlighting the relationships among key details and ideas.\n",
       "\n",
       "**3. Cause and Effect Reasoning**\n",
       "- **Score: 24/25**\n",
       "- **Explanation:** The essay insightfully analyzes the cause-and-effect relationships between the strategies and ideologies of Malcolm X and Martin Luther King Jr. The reasoning is well-developed and helps in understanding the impact of their differing approaches on the Civil Rights Movement.\n",
       "\n",
       "**4. Writing Clarity and Organization**\n",
       "- **Score: 24/25**\n",
       "- **Explanation:** The writing is clear, coherent, and well-organized, presenting a logical and compelling narrative about the distinct strategies of Malcolm X and Martin Luther King Jr. The essay maintains a good flow and structure.\n",
       "\n",
       "**Total Score: 93/100**\n",
       "**Letter Grade: A**"
      ],
      "text/plain": [
       "<IPython.core.display.Markdown object>"
      ]
     },
     "metadata": {},
     "output_type": "display_data"
    },
    {
     "data": {
      "text/markdown": [
       "**Explanation:** The student's essay on Malcolm X and Martin Luther King Jr. excels in providing specific evidence and in-depth analysis of their strategies and ideologies within the context of the Civil Rights Movement, showcasing a strong understanding of the historical topic. While the essay effectively demonstrates cause-and-effect reasoning in analyzing the impact of the leaders' approaches, there could have been a slight improvement in clearly highlighting the relationships among key ideas. Additionally, the writing is highly commendable for its clarity, coherence, and strong organizational structure, contributing to a logical and engaging narrative. Overall, the essay's strengths lie in its detailed analysis, insightful reasoning, and well-crafted narrative, resulting in an impressive grade of A."
      ],
      "text/plain": [
       "<IPython.core.display.Markdown object>"
      ]
     },
     "metadata": {},
     "output_type": "display_data"
    },
    {
     "data": {
      "text/markdown": [
       "**Letter Grade:** A\n"
      ],
      "text/plain": [
       "<IPython.core.display.Markdown object>"
      ]
     },
     "metadata": {},
     "output_type": "display_data"
    }
   ],
   "source": [
    "# Function to grade an essay based on a rubric and directly extract the letter grade from the response\n",
    "def grade_essay_with_rubric(essay, rubric, grade_level, subject):\n",
    "    primary_prompt = f\"\"\"\n",
    "    You are an experienced grader for a high school {subject} course. Grade the essay according to the rubric provided.\n",
    "\n",
    "    {rubric}\n",
    "\n",
    "    Here is the essay to be graded:\n",
    "    ---\n",
    "    {essay}\n",
    "    ---\n",
    "\n",
    "    For each criterion in the rubric:\n",
    "    1. Assign a score out of 25 points in the format \"Score: X/25\".\n",
    "    2. Provide a 2-3 sentence explanation of the score, referencing specific aspects of the essay.\n",
    "\n",
    "    After evaluating each criterion, at the end, please include:\n",
    "    - **Total Score**: X/100\n",
    "    - **Letter Grade**: Determine the letter grade based on this scale:\n",
    "      - A: 90-100\n",
    "      - B: 80-89\n",
    "      - C: 70-79\n",
    "      - D: 60-69\n",
    "      - F: 59 and below\n",
    "\n",
    "    Ensure that the Total Score and Letter Grade appear clearly at the very end of the response.\n",
    "    \"\"\"\n",
    "\n",
    "    # Prompt for a summary explanation\n",
    "    summary_prompt_template = \"\"\"\n",
    "    Based on the following grading breakdown, provide a one-paragraph explanation summarizing the main reasons for the overall grade based on the criteria:\n",
    "    ---\n",
    "    {grading_breakdown}\n",
    "    ---\n",
    "    Ensure the explanation captures the overall strengths and weaknesses without referencing specific scores.\n",
    "    \"\"\"\n",
    "\n",
    "    try:\n",
    "        # Get grading breakdown and initial rubric-based grade\n",
    "        completion = openai.ChatCompletion.create(\n",
    "            model=\"gpt-3.5-turbo\",\n",
    "            messages=[\n",
    "                {\"role\": \"system\", \"content\": \"You are an experienced grader familiar with high school rubrics.\"},\n",
    "                {\"role\": \"user\", \"content\": primary_prompt}\n",
    "            ]\n",
    "        )\n",
    "        grading_response = completion.choices[0].message['content'].strip()\n",
    "\n",
    "        # Try to directly extract the letter grade from the response\n",
    "        letter_grade_match = re.search(r\"Letter Grade:\\s*([A-F])\", grading_response)\n",
    "        letter_grade = letter_grade_match.group(1) if letter_grade_match else \"Grade not available\"\n",
    "\n",
    "        # Extract the total score (for reference or further analysis if needed)\n",
    "        score_match = re.search(r\"Total Score:\\s*(\\d+)\", grading_response)\n",
    "        total_score = int(score_match.group(1)) if score_match else None\n",
    "\n",
    "        # Generate rubric-based explanation\n",
    "        summary_prompt = summary_prompt_template.format(grading_breakdown=grading_response)\n",
    "        explanation_completion = openai.ChatCompletion.create(\n",
    "            model=\"gpt-3.5-turbo\",\n",
    "            messages=[\n",
    "                {\"role\": \"system\", \"content\": \"You are an experienced grader summarizing the grading breakdown.\"},\n",
    "                {\"role\": \"user\", \"content\": summary_prompt}\n",
    "            ]\n",
    "        )\n",
    "        explanation_only = explanation_completion.choices[0].message['content'].strip()\n",
    "\n",
    "        return grading_response.strip(), explanation_only, letter_grade\n",
    "\n",
    "    except Exception as e:\n",
    "        print(f\"Error grading essay: {e}\")\n",
    "        return \"Grading content not available\", \"Explanation not available\", \"Grade not available\"\n",
    "\n",
    "# Example usage for grading multiple essays for each grade-subject pair\n",
    "for pair in pairs:\n",
    "    grade_level, subject = pair\n",
    "    essays = all_essays[pair][\"essays\"]  # Assuming all_essays[pair][\"essays\"] contains a list of essays for each pair\n",
    "\n",
    "    # Grade each essay in the list\n",
    "    for idx, essay_data in enumerate(essays, start=1):\n",
    "        essay_text = essay_data[\"essay\"]\n",
    "\n",
    "        # Get the grading breakdown, explanation, and letter grade for each essay\n",
    "        grading_content, explanation, letter_grade = grade_essay_with_rubric(essay_text, rubric, grade_level, subject)\n",
    "\n",
    "        # Display results in Markdown format\n",
    "        display(Markdown(f\"### Essay Grading Results for {grade_level}th Grade {subject}\"))\n",
    "        display(Markdown(f\"**Essay Content:**\"))\n",
    "        display(Markdown(essay_text))\n",
    "        display(Markdown(f\"**Grading Breakdown:**\"))\n",
    "        display(Markdown(grading_content))\n",
    "        display(Markdown(f\"**Explanation:** {explanation}\"))\n",
    "        display(Markdown(f\"**Letter Grade:** {letter_grade}\\n\"))  # Display letter grade at the bottom\n"
   ]
  },
  {
   "cell_type": "markdown",
   "id": "1051b6f5",
   "metadata": {},
   "source": [
    "## Comparison"
   ]
  },
  {
   "cell_type": "code",
   "execution_count": 31,
   "id": "c23c2cfa",
   "metadata": {},
   "outputs": [
    {
     "data": {
      "text/markdown": [
       "### Comparison for Essay 1 (LLM Grade: A) - 11th Grade US History"
      ],
      "text/plain": [
       "<IPython.core.display.Markdown object>"
      ]
     },
     "metadata": {},
     "output_type": "display_data"
    },
    {
     "data": {
      "text/markdown": [
       "**Essay Content:**\n",
       "\n",
       "Malcolm X and Martin Luther King Jr. were two influential figures during the Civil Rights Movement in the United States, each with their own distinctive approaches and ideologies. While both men aimed to achieve racial equality and justice for African Americans, they followed different paths to reach this common goal.\n",
       "\n",
       "Martin Luther King Jr., a Baptist minister and a proponent of nonviolent resistance, believed in achieving civil rights through peaceful protest and civil disobedience. He promoted the idea of love and unity among all races and advocated for integration and equality. King emphasized the need for nonviolent direct action to bring about social change, famously leading the Montgomery Bus Boycott and delivering his iconic \"I Have a Dream\" speech during the March on Washington. His approach was rooted in Christian principles of love, forgiveness, and nonviolence, inspiring widespread support for the Civil Rights Movement.\n",
       "\n",
       "On the other hand, Malcolm X, a prominent leader in the Nation of Islam, took a more militant and separatist stance in his fight for racial justice. He advocated for self-defense and armed resistance against white supremacy, calling for black empowerment and self-determination. Malcolm X criticized King's nonviolent approach as ineffective and believed in responding to violence with force, if necessary. His message resonated with many African Americans who felt disillusioned with the slow progress of nonviolent tactics, appealing to those seeking more radical solutions to combat racism and oppression.\n",
       "\n",
       "The differing strategies and ideologies of Malcolm X and Martin Luther King Jr. had a significant impact on the Civil Rights Movement. While King's peaceful resistance strategy gained mainstream support and led to legislative victories such as the Civil Rights Act of 1964 and the Voting Rights Act of 1965, Malcolm X's advocacy for black nationalism and self-defense brought attention to the deep-rooted issues of systemic racism and challenged the status quo. Both men inspired and mobilized millions of people to fight against racial discrimination, albeit through contrasting means.\n",
       "\n",
       "In conclusion, Malcolm X and Martin Luther King Jr. played pivotal roles in shaping the Civil Rights Movement with their distinct approaches and ideologies. While King's commitment to nonviolent protest and integration helped progress towards racial equality, Malcolm X's militant stance sparked conversations about black empowerment and self-respect. Together, their contributions highlight the complexity and diversity of strategies within the broader fight for civil rights in America."
      ],
      "text/plain": [
       "<IPython.core.display.Markdown object>"
      ]
     },
     "metadata": {},
     "output_type": "display_data"
    },
    {
     "data": {
      "text/markdown": [
       "**LLM Explanation:**\n",
       "\n",
       "This essay demonstrates an A-grade level for an 11th-grade US History assignment by providing a comprehensive and nuanced analysis of Malcolm X and Martin Luther King Jr.'s roles in the Civil Rights Movement. It showcases a deep understanding of the contrasting ideologies and approaches of these two pivotal figures, highlighting King's nonviolent resistance and emphasis on integration, and juxtaposing it with Malcolm X's more militant and separatist stance. The essay effectively discusses how these differing strategies influenced the movement, leading to legislative victories and challenging the status quo. Moreover, it offers a well-structured argument with clear thesis statements, supported by specific examples such as the Montgomery Bus Boycott and Malcolm X's advocacy for black empowerment. Overall, the essay displays critical thinking skills, historical context, and sophisticated analysis, making it deserving of an A grade in an 11th-grade US History assignment."
      ],
      "text/plain": [
       "<IPython.core.display.Markdown object>"
      ]
     },
     "metadata": {},
     "output_type": "display_data"
    },
    {
     "data": {
      "text/markdown": [
       "**Rubric Explanation:**\n",
       "\n",
       "The essay on the contrasting approaches of Malcolm X and Martin Luther King Jr. in the Civil Rights Movement earns a \"B\" grade due to its solid performance in most criteria. It excels in providing relevant evidence and analysis, accurately summarizing key ideas, and maintaining clear writing organization and coherence. The essay effectively connects the ideologies of both figures to the historical context and demonstrates a clear understanding of their roles in the movement. While there is room for improvement in providing deeper analysis and more detailed cause-and-effect reasoning, a slightly stronger coherence could further enhance the overall clarity of the essay. Overall, the essay displays a commendable grasp of the subject matter with a few areas that could be strengthened for an even more comprehensive evaluation."
      ],
      "text/plain": [
       "<IPython.core.display.Markdown object>"
      ]
     },
     "metadata": {},
     "output_type": "display_data"
    },
    {
     "data": {
      "text/markdown": [
       "**LLM Grade:** A"
      ],
      "text/plain": [
       "<IPython.core.display.Markdown object>"
      ]
     },
     "metadata": {},
     "output_type": "display_data"
    },
    {
     "data": {
      "text/markdown": [
       "**Letter Grade:** Grade not available"
      ],
      "text/plain": [
       "<IPython.core.display.Markdown object>"
      ]
     },
     "metadata": {},
     "output_type": "display_data"
    },
    {
     "data": {
      "text/markdown": [
       "---"
      ],
      "text/plain": [
       "<IPython.core.display.Markdown object>"
      ]
     },
     "metadata": {},
     "output_type": "display_data"
    },
    {
     "data": {
      "text/markdown": [
       "### Comparison for Essay 2 (LLM Grade: C) - 11th Grade US History"
      ],
      "text/plain": [
       "<IPython.core.display.Markdown object>"
      ]
     },
     "metadata": {},
     "output_type": "display_data"
    },
    {
     "data": {
      "text/markdown": [
       "**Essay Content:**\n",
       "\n",
       "Malcolm X and Martin Luther King Jr. were two influential figures in the Civil Rights Movement, each with their own distinct approaches and ideologies. While King advocated for nonviolent resistance and racial integration, Malcolm X emphasized self-defense and separation from white society.\n",
       "\n",
       "Martin Luther King Jr., known for his philosophy of nonviolent resistance, believed in achieving civil rights through peaceful protests and civil disobedience. He emphasized the power of love and forgiveness in the face of oppression, aiming to create a united society where racial differences would be erased. King's strategy involved mass mobilization, organizing marches, boycotts, and speeches to draw attention to the injustices faced by African Americans.\n",
       "\n",
       "In contrast, Malcolm X was a proponent of self-defense and separatism. He criticized the nonviolent approach of King and argued for armed resistance against racial violence. Malcolm X advocated for black nationalism and self-reliance, emphasizing the need for African Americans to build their own communities separate from white society. His message resonated with many who felt disillusioned by the slow progress of the Civil Rights Movement and sought a more assertive stance against oppression.\n",
       "\n",
       "The differing strategies and ideologies of Malcolm X and Martin Luther King Jr. had a significant impact on the Civil Rights Movement. While King's nonviolent approach appealed to a broader audience and helped gain sympathy from the white majority, Malcolm X's militant stance challenged the status quo and pushed for a more radical transformation of society.\n",
       "\n",
       "In conclusion, Malcolm X and Martin Luther King Jr. both played crucial roles in the Civil Rights Movement, each bringing their own unique perspectives and strategies to the fight for racial equality. Their differing approaches reflected the diversity of opinions within the black community and ultimately contributed to the overall progress and achievements of the movement."
      ],
      "text/plain": [
       "<IPython.core.display.Markdown object>"
      ]
     },
     "metadata": {},
     "output_type": "display_data"
    },
    {
     "data": {
      "text/markdown": [
       "**LLM Explanation:**\n",
       "\n",
       "This essay meets the criteria for a C grade level in an 11th-grade US History assignment by providing a basic understanding of the key figures and ideologies of the Civil Rights Movement, specifically focusing on Malcolm X and Martin Luther King Jr. The essay distinguishes between the contrasting approaches of the two leaders, highlighting King's nonviolent resistance and emphasis on racial integration, in contrast to Malcolm X's advocacy for self-defense and separatism. The explanation of their strategies and impacts on the movement demonstrates a foundational knowledge of the topic, though lacking in-depth analysis or nuanced exploration. While the essay covers essential points and maintains coherence throughout, it could benefit from more detailed examples and deeper insights to elevate it to a higher grade level."
      ],
      "text/plain": [
       "<IPython.core.display.Markdown object>"
      ]
     },
     "metadata": {},
     "output_type": "display_data"
    },
    {
     "data": {
      "text/markdown": [
       "**Rubric Explanation:**\n",
       "\n",
       "The essay on Malcolm X and Martin Luther King Jr. earns an overall grade of \"A\" due to its strong performance across multiple criteria. The essay excels in providing detailed evidence and thorough analysis of the contrasting approaches and ideologies of the two leaders, demonstrating a clear understanding of their key ideas and the historical significance of their strategies. The writing is also logically structured and easy to follow, presenting a compelling comparison. While the essay has a basic grasp of cause and effect reasoning, there is room for deeper exploration of the full impact of Malcolm X and Martin Luther King Jr.'s actions on the Civil Rights Movement. Overall, the essay effectively showcases a deep understanding of the subject matter, backed by strong evidence and coherent analysis, leading to its high grade."
      ],
      "text/plain": [
       "<IPython.core.display.Markdown object>"
      ]
     },
     "metadata": {},
     "output_type": "display_data"
    },
    {
     "data": {
      "text/markdown": [
       "**LLM Grade:** C"
      ],
      "text/plain": [
       "<IPython.core.display.Markdown object>"
      ]
     },
     "metadata": {},
     "output_type": "display_data"
    },
    {
     "data": {
      "text/markdown": [
       "**Letter Grade:** A"
      ],
      "text/plain": [
       "<IPython.core.display.Markdown object>"
      ]
     },
     "metadata": {},
     "output_type": "display_data"
    },
    {
     "data": {
      "text/markdown": [
       "---"
      ],
      "text/plain": [
       "<IPython.core.display.Markdown object>"
      ]
     },
     "metadata": {},
     "output_type": "display_data"
    },
    {
     "data": {
      "text/markdown": [
       "### Comparison for Essay 3 (LLM Grade: A) - 11th Grade US History"
      ],
      "text/plain": [
       "<IPython.core.display.Markdown object>"
      ]
     },
     "metadata": {},
     "output_type": "display_data"
    },
    {
     "data": {
      "text/markdown": [
       "**Essay Content:**\n",
       "\n",
       "Malcolm X and Martin Luther King Jr. were two prominent leaders in the Civil Rights Movement with contrasting approaches and ideologies, greatly influencing the movement's trajectory.\n",
       "\n",
       "Martin Luther King Jr., a proponent of nonviolent civil disobedience, believed in the power of love and peaceful resistance to bring about social change. He emphasized integration, equality, and the importance of working alongside white allies to achieve racial justice. King's leadership in organizing nonviolent protests and delivering inspiring speeches, such as his iconic \"I Have a Dream\" speech, helped galvanize public support for the civil rights cause.\n",
       "\n",
       "On the other hand, Malcolm X advocated for a more radical approach to racial equality, rejecting nonviolence and promoting self-defense in response to systemic oppression. He was a proponent of Black Nationalism and believed in empowering African Americans through self-reliance and separatism. Malcolm X’s fiery speeches and critiques of white supremacy challenged the status quo and resonated with many disillusioned African Americans seeking a more assertive stance against racial injustices.\n",
       "\n",
       "These differing strategies and ideologies had a significant impact on the Civil Rights Movement. While King's nonviolent approach attracted broader support from the general public, including white Americans and political leaders, Malcolm X's advocacy for self-defense and Black empowerment appealed to those who felt marginalized and oppressed. Both leaders sparked important conversations about race, equality, and justice in America and inspired many to join the fight for civil rights.\n",
       "\n",
       "Overall, Martin Luther King Jr. and Malcolm X's contrasting approaches to the Civil Rights Movement underscored the complexity and diversity of strategies within the movement. Their legacies continue to shape discussions on race relations and activism in the United States, reminding us of the ongoing struggle for equality and social justice."
      ],
      "text/plain": [
       "<IPython.core.display.Markdown object>"
      ]
     },
     "metadata": {},
     "output_type": "display_data"
    },
    {
     "data": {
      "text/markdown": [
       "**LLM Explanation:**\n",
       "\n",
       "This essay deserves an A grade for an 11th-grade US History assignment as it demonstrates a comprehensive understanding of the topic by analyzing and comparing the contrasting approaches of Martin Luther King Jr. and Malcolm X in the Civil Rights Movement. It effectively discusses how King's advocacy for nonviolent civil disobedience and integration, alongside Malcolm X's more radical views on self-defense and Black empowerment, influenced the movement's trajectory. The essay showcases a nuanced understanding of the impact of their strategies on attracting different audiences and sparking crucial conversations about race and justice in America. Additionally, it effectively highlights the lasting legacies of both leaders and their contributions to the ongoing struggle for equality, showcasing critical thinking and historical analysis skills expected at an A level."
      ],
      "text/plain": [
       "<IPython.core.display.Markdown object>"
      ]
     },
     "metadata": {},
     "output_type": "display_data"
    },
    {
     "data": {
      "text/markdown": [
       "**Rubric Explanation:**\n",
       "\n",
       "The essay on Martin Luther King Jr. and Malcolm X's differing approaches to the Civil Rights Movement excels in providing detailed evidence and analysis, showcasing a strong understanding of their ideologies and strategies, and effectively demonstrating cause-and-effect reasoning between their leadership styles and impacts on society. The essay is well-written, with a clear and organized structure that effectively contrasts the two leaders' contributions to the movement. To enhance the grade further, the essay could deepen its analysis by exploring the interconnectedness of key ideas presented and providing additional depth in highlighting the relationships between the main details and concepts discussed. Overall, the essay's strengths lie in its comprehensive coverage of the topic, insightful analysis, and cohesive writing style, earning it an 'A' grade."
      ],
      "text/plain": [
       "<IPython.core.display.Markdown object>"
      ]
     },
     "metadata": {},
     "output_type": "display_data"
    },
    {
     "data": {
      "text/markdown": [
       "**LLM Grade:** A"
      ],
      "text/plain": [
       "<IPython.core.display.Markdown object>"
      ]
     },
     "metadata": {},
     "output_type": "display_data"
    },
    {
     "data": {
      "text/markdown": [
       "**Letter Grade:** Grade not available"
      ],
      "text/plain": [
       "<IPython.core.display.Markdown object>"
      ]
     },
     "metadata": {},
     "output_type": "display_data"
    },
    {
     "data": {
      "text/markdown": [
       "---"
      ],
      "text/plain": [
       "<IPython.core.display.Markdown object>"
      ]
     },
     "metadata": {},
     "output_type": "display_data"
    },
    {
     "data": {
      "text/markdown": [
       "### Comparison for Essay 4 (LLM Grade: A) - 11th Grade US History"
      ],
      "text/plain": [
       "<IPython.core.display.Markdown object>"
      ]
     },
     "metadata": {},
     "output_type": "display_data"
    },
    {
     "data": {
      "text/markdown": [
       "**Essay Content:**\n",
       "\n",
       "Malcolm X and Martin Luther King Jr. were two prominent figures in the Civil Rights Movement, each with their own unique approaches and ideologies. While both leaders aimed to achieve racial equality and justice, they had distinct strategies that influenced the movement in significant ways.\n",
       "\n",
       "Malcolm X was a vocal advocate for Black empowerment and self-defense. His ideology was rooted in black nationalism and he believed in achieving freedom and equality through any means necessary, including self-defense and armed resistance. Malcolm X emphasized the importance of Black pride, self-reliance, and challenging the oppressive white power structure. He rejected nonviolence and criticized the integrationist approach of Martin Luther King Jr., arguing that Black Americans should separate themselves from whites and create their own identity and institutions.\n",
       "\n",
       "On the other hand, Martin Luther King Jr. was a proponent of nonviolent resistance and civil disobedience. He believed in the power of love, peace, and passive resistance to bring about social change. King emphasized the importance of unity, integration, and working together with white allies to dismantle institutional racism and achieve equality for all. His approach was deeply rooted in Christian principles of forgiveness, love, and nonviolence, and he advocated for peaceful protests, marches, and boycotts to raise awareness and bring about legislative changes.\n",
       "\n",
       "The differing strategies and ideologies of Malcolm X and Martin Luther King Jr. had a significant impact on the Civil Rights Movement. Malcolm X's bold and confrontational tactics appealed to those who felt frustrated and marginalized by the slow progress of the movement. His emphasis on self-empowerment and self-defense inspired many to take a more assertive stance against racism and discrimination.\n",
       "\n",
       "In contrast, Martin Luther King Jr.'s commitment to nonviolence and integration resonated with a broader audience, including white supporters and moderate activists. His message of love and unity helped to galvanize a mass movement for civil rights, leading to landmark legislation such as the Civil Rights Act of 1964 and the Voting Rights Act of 1965.\n",
       "\n",
       "Overall, the approaches of Malcolm X and Martin Luther King Jr. to the Civil Rights Movement were complementary yet divergent. While Malcolm X's militant stance highlighted the urgent need for black liberation and self-determination, King's peaceful activism paved the way for broader social change and integration. Together, their differing strategies and ideologies enriched the Civil Rights Movement and ultimately advanced the cause of racial equality in America."
      ],
      "text/plain": [
       "<IPython.core.display.Markdown object>"
      ]
     },
     "metadata": {},
     "output_type": "display_data"
    },
    {
     "data": {
      "text/markdown": [
       "**LLM Explanation:**\n",
       "\n",
       "This essay demonstrates an A grade level for 11th-grade US History due to its in-depth analysis of the contrasting strategies and ideologies of Malcolm X and Martin Luther King Jr. in the Civil Rights Movement. The writer shows a deep understanding of these two pivotal figures, highlighting their unique approaches towards achieving racial equality. The essay effectively explains Malcolm X's advocacy for black nationalism and self-defense, contrasting it with Martin Luther King Jr.'s belief in nonviolent resistance and integration. Through a well-structured comparison, the essay delves into how these differing tactics impacted the movement and influenced its progress, ultimately leading to significant legislative changes. The writer's clear and comprehensive exploration of these complex historical figures and their impacts on the Civil Rights Movement showcases a high level of critical thinking and historical analysis, earning it an A grade for its depth, clarity, and insightful examination of this crucial period in American history."
      ],
      "text/plain": [
       "<IPython.core.display.Markdown object>"
      ]
     },
     "metadata": {},
     "output_type": "display_data"
    },
    {
     "data": {
      "text/markdown": [
       "**Rubric Explanation:**\n",
       "\n",
       "The essay on the comparison between Malcolm X and Martin Luther King Jr. earned an 'A' grade due to its strong performance across all criteria. It excelled in providing specific and relevant evidence, thorough analysis connecting the leaders' strategies and impact, and demonstrating a clear understanding of their ideologies. The cause-and-effect reasoning was effective, though with potential for deeper insight in some areas. Moreover, the writing displayed clarity, coherence, and logical organization, making the comparison compelling and easy to follow. Overall, the essay exhibited a high level of proficiency in analyzing the differences between Malcolm X and Martin Luther King Jr., thereby earning a top grade."
      ],
      "text/plain": [
       "<IPython.core.display.Markdown object>"
      ]
     },
     "metadata": {},
     "output_type": "display_data"
    },
    {
     "data": {
      "text/markdown": [
       "**LLM Grade:** A"
      ],
      "text/plain": [
       "<IPython.core.display.Markdown object>"
      ]
     },
     "metadata": {},
     "output_type": "display_data"
    },
    {
     "data": {
      "text/markdown": [
       "**Letter Grade:** A"
      ],
      "text/plain": [
       "<IPython.core.display.Markdown object>"
      ]
     },
     "metadata": {},
     "output_type": "display_data"
    },
    {
     "data": {
      "text/markdown": [
       "---"
      ],
      "text/plain": [
       "<IPython.core.display.Markdown object>"
      ]
     },
     "metadata": {},
     "output_type": "display_data"
    }
   ],
   "source": [
    "# Example usage for grading and comparison\n",
    "for pair in pairs:\n",
    "    grade_level, subject = pair\n",
    "    essays = all_essays[pair][\"essays\"]  # Assuming all_essays[pair][\"essays\"] contains a list of essays for each pair\n",
    "\n",
    "    for idx, essay_data in enumerate(essays, start=1):\n",
    "        essay_text = essay_data[\"essay\"]  # Access the actual essay text\n",
    "        llm_grade = essay_data[\"quality\"]   # Retrieve the LLM-generated grade (A, B, C, etc.)\n",
    "\n",
    "        # Use the grading function to get the grading breakdown, rubric explanation, and letter grade\n",
    "        grading_content, rubric_explanation, letter_grade = grade_essay_with_rubric(essay_text, rubric, grade_level, subject)\n",
    "        \n",
    "        # Access the LLM-generated explanation\n",
    "        llm_explanation = essay_data[\"explanation\"]\n",
    "\n",
    "        # Display the essay content, explanations, and compare grades\n",
    "        display(Markdown(f\"### Comparison for Essay {idx} (LLM Grade: {llm_grade}) - {grade_level}th Grade {subject}\"))\n",
    "        display(Markdown(f\"**Essay Content:**\\n\\n{essay_text}\"))\n",
    "        display(Markdown(f\"**LLM Explanation:**\\n\\n{llm_explanation}\"))\n",
    "        display(Markdown(f\"**Rubric Explanation:**\\n\\n{rubric_explanation}\"))\n",
    "        display(Markdown(f\"**LLM Grade:** {llm_grade}\"))\n",
    "        display(Markdown(f\"**Letter Grade:** {letter_grade}\"))\n",
    "        display(Markdown(\"---\"))\n",
    "\n"
   ]
  },
  {
   "cell_type": "code",
   "execution_count": null,
   "id": "9a7a09a1",
   "metadata": {},
   "outputs": [],
   "source": []
  }
 ],
 "metadata": {
  "kernelspec": {
   "display_name": "Python 3 (ipykernel)",
   "language": "python",
   "name": "python3"
  },
  "language_info": {
   "codemirror_mode": {
    "name": "ipython",
    "version": 3
   },
   "file_extension": ".py",
   "mimetype": "text/x-python",
   "name": "python",
   "nbconvert_exporter": "python",
   "pygments_lexer": "ipython3",
   "version": "3.11.4"
  }
 },
 "nbformat": 4,
 "nbformat_minor": 5
}
