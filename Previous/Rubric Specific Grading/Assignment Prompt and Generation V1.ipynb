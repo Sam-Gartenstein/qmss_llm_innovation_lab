{
 "cells": [
  {
   "cell_type": "markdown",
   "id": "26e84ab2",
   "metadata": {},
   "source": [
    "# Assignment Prompt and Generation\n",
    "\n",
    "\n",
    "This notebook demonstrates how to generate unique assignment prompts and sample student essays using the OpenAI API. The setup includes essential libraries, environment configuration, prompt generation, and essay generation with randomized quality levels.\n",
    "\n",
    "This notebook generates assignment prompts and sample student essays for specified grade levels and subjects using the OpenAI API.\n",
    "\n",
    "### Outline:\n",
    "1. **Setup**\n",
    "   - Import required libraries.\n",
    "   - Load environment variables for API access.\n",
    "   - Define quality levels for essay grading.\n",
    "\n",
    "2. **Functions**\n",
    "   - **generate_prompts**: Generates 10 assignment prompts for each grade-subject pair.\n",
    "   - **generate_sample_essay**: Creates a sample essay for each prompt with a randomly assigned quality level.\n",
    "\n",
    "3. **Execution**\n",
    "   - Define grade-subject pairs.\n",
    "   - Generate and display prompts.\n",
    "   - Generate and display sample essays with random quality levels.\n",
    "   \n",
    "### Requirements:\n",
    "- **API Key**: Ensure that `OPENAI_API_KEY` is set in the `.env` file in the project directory.\n",
    "- **Installed Libraries**:\n",
    "  - `openai`\n",
    "  - `IPython.display`\n",
    "  - `python-dotenv`\n",
    "  - `re` (comes with Python)\n",
    "  - `random` (comes with Python)\n",
    "\n",
    "\n",
    "\n",
    "\n",
    "\n",
    "\n"
   ]
  },
  {
   "cell_type": "code",
   "execution_count": 1,
   "id": "baaaca7c",
   "metadata": {},
   "outputs": [],
   "source": [
    "# Import necessary libraries\n",
    "import openai  # OpenAI API for generating text based on prompts\n",
    "from IPython.display import display, Markdown  # Markdown display tools for Jupyter Notebooks\n",
    "import os  # OS library for file and directory interactions\n",
    "from dotenv import load_dotenv, find_dotenv  # dotenv utilities for managing environment variables\n",
    "import re  # Regular expressions library for text pattern matching and formatting\n",
    "import random  # Random module for generating randomized values, such as quality levels\n",
    "\n",
    "# Function to convert text to Markdown format, allowing formatted display in Jupyter Notebooks\n",
    "def to_markdown(text):\n",
    "    # Wraps text in Markdown format for enhanced readability and presentation in Jupyter Notebooks\n",
    "    return Markdown(text)\n"
   ]
  },
  {
   "cell_type": "code",
   "execution_count": 2,
   "id": "b4cb2623",
   "metadata": {},
   "outputs": [],
   "source": [
    "# Automatically locate and load the .env file with environment variables\n",
    "env_path = find_dotenv()  # Searches for the .env file in the project directory\n",
    "load_dotenv(dotenv_path=env_path)  # Loads the environment variables from .env\n",
    "\n",
    "# Set the OpenAI API key from environment variable (pulled from the .env file)\n",
    "openai.api_key = os.getenv('OPENAI_API_KEY')\n"
   ]
  },
  {
   "cell_type": "markdown",
   "id": "2cc79c6c",
   "metadata": {},
   "source": [
    "### Function: `generate_prompts`\n",
    "\n",
    "#### Description:\n",
    "- This function generates a list of assignment prompts tailored to specific grade-subject pairs using the OpenAI API.\n",
    "- The function takes a list of grade-subject pairs, constructs a unique prompt for each, and requests 10 age-appropriate assignment prompts for each pair.\n",
    "- The prompts are displayed in Markdown format within Jupyter Notebooks for easy viewing.\n",
    "\n",
    "#### Parameters:\n",
    "- **pairs**: A list of tuples, where each tuple consists of:\n",
    "  - **grade_level**: A string representing the grade level (e.g., \"11\" for 11th grade).\n",
    "  - **subject**: A string representing the academic subject for which prompts are being generated (e.g., \"US History\").\n",
    "\n",
    "#### Process:\n",
    "1. **Prompt Construction**: For each grade-subject pair, the function builds a specific request prompt that asks the OpenAI model to generate 10 unique, challenging, and engaging assignment prompts appropriate for that grade level and subject.\n",
    "2. **API Call**: The function sends this constructed prompt to the OpenAI API (`gpt-3.5-turbo`), instructing it to generate relevant assignment ideas.\n",
    "3. **Formatting and Cleaning**: After receiving the response:\n",
    "   - Each prompt is stripped of any leading numbering or formatting inconsistencies using regular expressions to ensure a clean display.\n",
    "   - Only the first 10 prompts are kept, even if more are returned.\n",
    "4. **Display**: Each prompt is then labeled (e.g., \"Prompt 1,\" \"Prompt 2\") and displayed in Markdown format for readability.\n",
    "\n",
    "#### Output:\n",
    "- **Returns**: A dictionary (`all_prompts`) where:\n",
    "  - Each key is a tuple of the form `(grade_level, subject)`.\n",
    "  - Each value is a list of 10 formatted assignment prompts for the corresponding grade-subject pair.\n",
    "\n"
   ]
  },
  {
   "cell_type": "code",
   "execution_count": 3,
   "id": "ab040ec9",
   "metadata": {},
   "outputs": [],
   "source": [
    "# Function to generate assignment prompts based on a list of grade-subject pairs\n",
    "def generate_prompts(pairs):\n",
    "    all_prompts = {}\n",
    "    for grade_level, subject in pairs:\n",
    "        prompt_text = f\"\"\"\n",
    "        Role: You are a {grade_level}th-grade {subject} teacher. Please create 10 unique assignment prompts.\n",
    "\n",
    "        Each prompt should:\n",
    "        - Be age-appropriate for {grade_level}th grade\n",
    "        - Challenge students' understanding, encouraging critical thinking and engagement with the subject matter\n",
    "        - Cover diverse themes or topics within {subject}\n",
    "        \n",
    "        Ensure each prompt is clear, concise, and engaging.\n",
    "        \"\"\"\n",
    "        \n",
    "        # Generate prompts using OpenAI API\n",
    "        completion = openai.ChatCompletion.create(\n",
    "            model=\"gpt-3.5-turbo\",\n",
    "            messages=[\n",
    "                {\"role\": \"system\", \"content\": \"You are a creative and insightful prompt generator for teachers.\"},\n",
    "                {\"role\": \"user\", \"content\": prompt_text}\n",
    "            ]\n",
    "        )\n",
    "        \n",
    "        # Extract prompts and clean up formatting\n",
    "        prompts_text = completion.choices[0].message['content']\n",
    "        prompts_list = [re.sub(r'^\\d+\\.\\s*', '', prompt.strip()) for prompt in prompts_text.split('\\n') if prompt.strip()]\n",
    "        prompts_list = prompts_list[:10]  # Keep exactly 10 prompts\n",
    "        all_prompts[(grade_level, subject)] = prompts_list\n",
    "        \n",
    "        # Display prompts in Markdown format\n",
    "        display(Markdown(f\"### Generated Prompts for {grade_level}th Grade {subject}\"))\n",
    "        for i, prompt in enumerate(prompts_list, start=1):\n",
    "            display(Markdown(f\"**Prompt {i}:** {prompt}\"))\n",
    "    \n",
    "    return all_prompts\n"
   ]
  },
  {
   "cell_type": "markdown",
   "id": "2f465ce7",
   "metadata": {},
   "source": [
    "### Function: `generate_sample_essay`\n",
    "\n",
    "#### Description:\n",
    "- This function generates a sample essay for each grade-subject pair based on a specific prompt and a randomly assigned quality level. \n",
    "- It leverages a previously generated list of prompts, selects a specified prompt, and instructs OpenAI to generate a sample essay typical of a student at that grade level and subject.\n",
    "\n",
    "#### Parameters:\n",
    "- **all_prompts**: A dictionary where each key is a tuple `(grade_level, subject)` and each value is a list of 10 assignment prompts generated for that grade-subject pair.\n",
    "- **pairs**: A list of grade-subject tuples, where each tuple consists of:\n",
    "  - **grade_level**: A string indicating the grade level (e.g., \"11\" for 11th grade).\n",
    "  - **subject**: A string representing the academic subject (e.g., \"US History\").\n",
    "- **prompt_index**: An integer indicating which prompt from the list to use for essay generation (default is 0, which selects the first prompt in the list).\n",
    "\n",
    "#### Process:\n",
    "1. **Prompt Selection**: For each grade-subject pair in `pairs`, the function retrieves the specified prompt from `all_prompts` using `prompt_index`.\n",
    "2. **Quality Level Assignment**: A quality level (e.g., \"A\", \"B\", \"C\", \"D\", or \"F\") is randomly selected for the essay using `random.choice(quality_levels)`.\n",
    "3. **Essay Generation Prompt**: An essay prompt is constructed based on the selected prompt and assigned quality level, simulating a student essay typical of that grade and subject.\n",
    "4. **API Call**: The function sends the essay prompt to the OpenAI API (`gpt-3.5-turbo`), requesting a sample response.\n",
    "5. **Error Handling**: If prompts are missing or if `prompt_index` is out of range, an error message is printed. Any API errors are caught and logged, and the essay output for that pair is set to `None`.\n",
    "6. **Display and Storage**: Each generated essay, along with its quality level, is displayed in Markdown format and stored in a dictionary for further use.\n",
    "\n",
    "#### Output:\n",
    "- **Returns**: A dictionary (`all_essays`) where:\n",
    "  - Each key is a tuple `(grade_level, subject)`.\n",
    "  - Each value is a dictionary with:\n",
    "    - **quality**: The randomly assigned quality level for the essay.\n",
    "    - **essay**: The generated essay text or `None` if an error occurred.\n",
    "\n",
    "#### Example Usage:\n",
    "```python\n",
    "grade_subject_pairs = [(\"11\", \"US History\"), (\"10\", \"Global History\")]\n",
    "all_prompts = generate_prompts(grade_subject_pairs)\n",
    "all_essays = generate_sample_essay(all_prompts, grade_subject_pairs, prompt_index=0)\n"
   ]
  },
  {
   "cell_type": "code",
   "execution_count": 4,
   "id": "a35d796d",
   "metadata": {},
   "outputs": [],
   "source": [
    "def generate_sample_essay_with_explanation(prompt, grade_level, subject, quality):\n",
    "    combined_prompt = f\"\"\"\n",
    "    You are a {grade_level}th-grade student in {subject} with a {quality} average. Any assignment you write will reflect your grade average.\n",
    "    With this in mind, please write an essay that reflects a {quality} level, where:\n",
    "\n",
    "    - A (90-100): Excellent\n",
    "    - B (80-89): Good\n",
    "    - C (70-79): Basic\n",
    "    - D (60-69): Minimal\n",
    "    - F (59 and below): Very limited\n",
    "\n",
    "    **Essay Topic:** {prompt}\n",
    "\n",
    "    Write your essay directly, without repeating the topic instructions. Provide only the content of the essay as if you were submitting it for a grade.\n",
    "\n",
    "    After the essay, include an explanation (4-5 sentences) describing why this essay reflects a {quality} quality level for a {grade_level}th grade and {subject} assignment. \n",
    "    Use \"Explanation:\" to begin the explanation.\n",
    "    \"\"\"\n",
    "    \n",
    "    try:\n",
    "        completion = openai.ChatCompletion.create(\n",
    "            model=\"gpt-3.5-turbo\",\n",
    "            messages=[\n",
    "                {\"role\": \"system\", \"content\": \"You are a skilled educational content generator.\"},\n",
    "                {\"role\": \"user\", \"content\": combined_prompt}\n",
    "            ]\n",
    "        )\n",
    "        \n",
    "        # Extract response and separate essay and explanation\n",
    "        response = completion.choices[0].message['content'].strip()\n",
    "        essay, explanation = response.split(\"Explanation:\", 1)\n",
    "        return essay.strip(), explanation.strip()\n",
    "        \n",
    "    except Exception as e:\n",
    "        print(f\"Error generating essay and explanation for {grade_level}th Grade {subject}, Prompt: {prompt}:\", e)\n",
    "        return None, None\n"
   ]
  },
  {
   "cell_type": "code",
   "execution_count": 5,
   "id": "aba33d8e",
   "metadata": {},
   "outputs": [],
   "source": [
    "# Step 1: Define pairs of grade level and subject\n",
    "pairs = [(11, \"US History\"), (10, \"Global History\")]\n",
    "\n"
   ]
  },
  {
   "cell_type": "markdown",
   "id": "bb71da74",
   "metadata": {},
   "source": [
    "### Calling `generate_prompts`\n",
    "\n",
    "- Defines `grade_subject_pairs`, a list of grade level and subject combinations for which assignment prompts are needed.\n",
    "- Calls `generate_prompts` with this list, generating and displaying 10 unique assignment prompts for each grade-subject pair in a readable Markdown format.\n",
    "- The output, `all_prompts`, is a dictionary that stores prompts by grade-subject pair for further use.\n",
    "\n",
    "\n"
   ]
  },
  {
   "cell_type": "code",
   "execution_count": 6,
   "id": "1324e49e",
   "metadata": {},
   "outputs": [
    {
     "data": {
      "text/markdown": [
       "### Generated Prompts for 11th Grade US History"
      ],
      "text/plain": [
       "<IPython.core.display.Markdown object>"
      ]
     },
     "metadata": {},
     "output_type": "display_data"
    },
    {
     "data": {
      "text/markdown": [
       "**Prompt 1:** In a persuasive essay, argue whether the 1920s should be known as the \"Roaring Twenties\" or the \"Decade of Discontent\". Use specific historical events and societal changes to support your argument."
      ],
      "text/plain": [
       "<IPython.core.display.Markdown object>"
      ]
     },
     "metadata": {},
     "output_type": "display_data"
    },
    {
     "data": {
      "text/markdown": [
       "**Prompt 2:** Create a timeline showcasing the key events leading up to the Civil War. Explain how these events contributed to the growing tensions between the North and the South."
      ],
      "text/plain": [
       "<IPython.core.display.Markdown object>"
      ]
     },
     "metadata": {},
     "output_type": "display_data"
    },
    {
     "data": {
      "text/markdown": [
       "**Prompt 3:** Imagine you are a journalist reporting on the aftermath of the Watergate scandal. Write a newspaper article detailing the impact of the scandal on American politics and society."
      ],
      "text/plain": [
       "<IPython.core.display.Markdown object>"
      ]
     },
     "metadata": {},
     "output_type": "display_data"
    },
    {
     "data": {
      "text/markdown": [
       "**Prompt 4:** Design a political cartoon representing the debate over Manifest Destiny in the 19th century. Include symbols and captions to convey the different perspectives on westward expansion."
      ],
      "text/plain": [
       "<IPython.core.display.Markdown object>"
      ]
     },
     "metadata": {},
     "output_type": "display_data"
    },
    {
     "data": {
      "text/markdown": [
       "**Prompt 5:** Conduct research on the Harlem Renaissance and create a multimedia presentation highlighting the key figures and artistic achievements of this cultural movement. Include examples of literature, music, and visual art."
      ],
      "text/plain": [
       "<IPython.core.display.Markdown object>"
      ]
     },
     "metadata": {},
     "output_type": "display_data"
    },
    {
     "data": {
      "text/markdown": [
       "**Prompt 6:** Compare and contrast the goals and strategies of the civil rights movements led by Martin Luther King Jr. and Malcolm X. Reflect on their impact on the fight for racial equality in America."
      ],
      "text/plain": [
       "<IPython.core.display.Markdown object>"
      ]
     },
     "metadata": {},
     "output_type": "display_data"
    },
    {
     "data": {
      "text/markdown": [
       "**Prompt 7:** Analyze the effects of industrialization on American society in the late 19th century. Consider the advancements in technology, urbanization, and worker conditions in your response."
      ],
      "text/plain": [
       "<IPython.core.display.Markdown object>"
      ]
     },
     "metadata": {},
     "output_type": "display_data"
    },
    {
     "data": {
      "text/markdown": [
       "**Prompt 8:** Role-play a debate between Federalists and Anti-Federalists discussing the ratification of the US Constitution. Prepare arguments for and against a strong central government."
      ],
      "text/plain": [
       "<IPython.core.display.Markdown object>"
      ]
     },
     "metadata": {},
     "output_type": "display_data"
    },
    {
     "data": {
      "text/markdown": [
       "**Prompt 9:** Investigate the causes and consequences of the Great Depression on American families and communities. Create a visual representation, such as a graph or infographic, to illustrate your findings."
      ],
      "text/plain": [
       "<IPython.core.display.Markdown object>"
      ]
     },
     "metadata": {},
     "output_type": "display_data"
    },
    {
     "data": {
      "text/markdown": [
       "**Prompt 10:** Explore the internment of Japanese Americans during World War II. Reflect on the ethical implications of this government action and discuss how it relates to issues of civil liberties and national security."
      ],
      "text/plain": [
       "<IPython.core.display.Markdown object>"
      ]
     },
     "metadata": {},
     "output_type": "display_data"
    },
    {
     "data": {
      "text/markdown": [
       "### Generated Prompts for 10th Grade Global History"
      ],
      "text/plain": [
       "<IPython.core.display.Markdown object>"
      ]
     },
     "metadata": {},
     "output_type": "display_data"
    },
    {
     "data": {
      "text/markdown": [
       "**Prompt 1:** Assignment Prompt: \"Imagine you are a historian studying ancient civilizations. Choose two societies (e.g., Mesopotamia, Egypt, Indus Valley) and compare their political structures, social hierarchies, and religious beliefs. What factors influenced the development of these differences?\""
      ],
      "text/plain": [
       "<IPython.core.display.Markdown object>"
      ]
     },
     "metadata": {},
     "output_type": "display_data"
    },
    {
     "data": {
      "text/markdown": [
       "**Prompt 2:** Assignment Prompt: \"Research a significant event in the Cold War and analyze the impact it had on global politics. How did the tensions between the superpowers shape the world order during this period? Provide specific examples to support your analysis.\""
      ],
      "text/plain": [
       "<IPython.core.display.Markdown object>"
      ]
     },
     "metadata": {},
     "output_type": "display_data"
    },
    {
     "data": {
      "text/markdown": [
       "**Prompt 3:** Assignment Prompt: \"Examine the impact of imperialism on a specific region during the 19th century. Discuss how European colonization affected the economy, culture, and social structure of the indigenous populations. What were the long-term consequences of imperialism in this area?\""
      ],
      "text/plain": [
       "<IPython.core.display.Markdown object>"
      ]
     },
     "metadata": {},
     "output_type": "display_data"
    },
    {
     "data": {
      "text/markdown": [
       "**Prompt 4:** Assignment Prompt: \"Investigate the role of women in revolutions throughout history. Choose two revolutions (e.g., French Revolution, Russian Revolution) and evaluate the participation and impact of women in these movements. How did gender dynamics influence their involvement?\""
      ],
      "text/plain": [
       "<IPython.core.display.Markdown object>"
      ]
     },
     "metadata": {},
     "output_type": "display_data"
    },
    {
     "data": {
      "text/markdown": [
       "**Prompt 5:** Assignment Prompt: \"Explore the connections between globalization and cultural diffusion in the modern era. Select a current global issue (e.g., climate change, human rights) and analyze how shared ideas, technologies, and values have influenced the response to this issue on a global scale.\""
      ],
      "text/plain": [
       "<IPython.core.display.Markdown object>"
      ]
     },
     "metadata": {},
     "output_type": "display_data"
    },
    {
     "data": {
      "text/markdown": [
       "**Prompt 6:** Assignment Prompt: \"Investigate the role of religion in shaping societies. Choose two major world religions (e.g., Islam, Buddhism) and compare their beliefs, practices, and influence on government and society. How have these religions contributed to both unity and division among followers?\""
      ],
      "text/plain": [
       "<IPython.core.display.Markdown object>"
      ]
     },
     "metadata": {},
     "output_type": "display_data"
    },
    {
     "data": {
      "text/markdown": [
       "**Prompt 7:** Assignment Prompt: \"Analyze the causes and consequences of decolonization in the 20th century. Choose a specific region or country that gained independence from colonial rule and examine the challenges faced during the decolonization process. How did nationalism and post-colonial identity shape the newly independent nations?\""
      ],
      "text/plain": [
       "<IPython.core.display.Markdown object>"
      ]
     },
     "metadata": {},
     "output_type": "display_data"
    },
    {
     "data": {
      "text/markdown": [
       "**Prompt 8:** Assignment Prompt: \"Examine the impact of the Industrial Revolution on global economics and society. Discuss how industrialization transformed production, labor, and urbanization. What were the social and environmental consequences of this period of rapid industrial growth?\""
      ],
      "text/plain": [
       "<IPython.core.display.Markdown object>"
      ]
     },
     "metadata": {},
     "output_type": "display_data"
    },
    {
     "data": {
      "text/markdown": [
       "**Prompt 9:** Assignment Prompt: \"Investigate the role of technology in shaping warfare throughout history. Choose two significant military conflicts (e.g., World War I, Vietnam War) and analyze how advancements in technology affected the strategies and outcomes of these wars. How has warfare evolved as a result of technological innovation?\""
      ],
      "text/plain": [
       "<IPython.core.display.Markdown object>"
      ]
     },
     "metadata": {},
     "output_type": "display_data"
    },
    {
     "data": {
      "text/markdown": [
       "**Prompt 10:** Assignment Prompt: \"Reflect on the concept of globalization and its effects on cultural identity. How has increased interconnectedness through trade, communication, and migration influenced the preservation and adaptation of cultural traditions? Provide examples of how globalization has both homogenized and diversified cultures in the contemporary world.\""
      ],
      "text/plain": [
       "<IPython.core.display.Markdown object>"
      ]
     },
     "metadata": {},
     "output_type": "display_data"
    }
   ],
   "source": [
    "# Step 2: Generate prompts for each grade-subject pair\n",
    "all_prompts = generate_prompts(pairs)\n"
   ]
  },
  {
   "cell_type": "markdown",
   "id": "553b1033",
   "metadata": {},
   "source": [
    "\n"
   ]
  },
  {
   "cell_type": "code",
   "execution_count": 7,
   "id": "7013995d",
   "metadata": {},
   "outputs": [
    {
     "data": {
      "text/plain": [
       "['F', 'C']"
      ]
     },
     "execution_count": 7,
     "metadata": {},
     "output_type": "execute_result"
    }
   ],
   "source": [
    "# Define possible quality levels\n",
    "quality_levels = [\"A\", \"B\", \"C\", \"D\", \"F\"]\n",
    "\n",
    "# Step 3: Select a random prompt and quality for each pair\n",
    "selected_qualities = [random.choice(quality_levels) for _ in pairs]       # Select random quality for each pair\n",
    "selected_qualities"
   ]
  },
  {
   "cell_type": "code",
   "execution_count": 8,
   "id": "121169cf",
   "metadata": {},
   "outputs": [
    {
     "name": "stdout",
     "output_type": "stream",
     "text": [
      "1. 11th Grade US History Prompt:\n",
      "   Compare and contrast the goals and strategies of the civil rights movements led by Martin Luther King Jr. and Malcolm X. Reflect on their impact on the fight for racial equality in America.\n",
      "\n",
      "2. 10th Grade Global History Prompt:\n",
      "   Assignment Prompt: \"Imagine you are a historian studying ancient civilizations. Choose two societies (e.g., Mesopotamia, Egypt, Indus Valley) and compare their political structures, social hierarchies, and religious beliefs. What factors influenced the development of these differences?\"\n",
      "\n"
     ]
    }
   ],
   "source": [
    "# Select a random prompt for each grade-subject pair\n",
    "selected_prompts = [random.choice(all_prompts[pair]) for pair in pairs]\n",
    "\n",
    "# Display the selected prompts as a formatted list\n",
    "for i, (pair, prompt) in enumerate(zip(pairs, selected_prompts), start=1):\n",
    "    grade_level, subject = pair\n",
    "    print(f\"{i}. {grade_level}th Grade {subject} Prompt:\")\n",
    "    print(f\"   {prompt}\\n\")\n"
   ]
  },
  {
   "cell_type": "code",
   "execution_count": null,
   "id": "33b41eca",
   "metadata": {},
   "outputs": [],
   "source": []
  },
  {
   "cell_type": "markdown",
   "id": "49a8c541",
   "metadata": {},
   "source": [
    "### Calling `generate_sample_essay`\n",
    "\n",
    "- Defines `quality_levels`, a list of possible grades (\"A\" through \"F\") to randomly assign to each generated essay.\n",
    "- Calls `generate_sample_essay` with `all_prompts`, `grade_subject_pairs`, and a specified `prompt_index` (0), generating a sample essay for each grade-subject pair.\n",
    "- Each essay is displayed with its corresponding quality level and prompt. The output, `all_essays`, is a dictionary that stores the generated essays and their assigned quality levels for further use.\n",
    "\n",
    "\n",
    "\n",
    "\n",
    "\n"
   ]
  },
  {
   "cell_type": "code",
   "execution_count": 9,
   "id": "f54e7082",
   "metadata": {},
   "outputs": [
    {
     "data": {
      "text/markdown": [
       "### Sample Essay for 11th Grade US History"
      ],
      "text/plain": [
       "<IPython.core.display.Markdown object>"
      ]
     },
     "metadata": {},
     "output_type": "display_data"
    },
    {
     "data": {
      "text/markdown": [
       "**Prompt:** Compare and contrast the goals and strategies of the civil rights movements led by Martin Luther King Jr. and Malcolm X. Reflect on their impact on the fight for racial equality in America."
      ],
      "text/plain": [
       "<IPython.core.display.Markdown object>"
      ]
     },
     "metadata": {},
     "output_type": "display_data"
    },
    {
     "data": {
      "text/markdown": [
       "**Quality:** F"
      ],
      "text/plain": [
       "<IPython.core.display.Markdown object>"
      ]
     },
     "metadata": {},
     "output_type": "display_data"
    },
    {
     "data": {
      "text/markdown": [
       "Martin Luther King Jr. and Malcolm X were two leaders in the civil rights movement. They had different goals and strategies. MLK believed in nonviolent protests, like sit-ins and marches. He wanted racial equality through peace. Malcolm X, on the other hand, believed in self-defense and violent resistance. He thought that Black people needed to defend themselves against white oppression. These two leaders had a significant impact on the fight for racial equality in America, but their approaches were very different."
      ],
      "text/plain": [
       "<IPython.core.display.Markdown object>"
      ]
     },
     "metadata": {},
     "output_type": "display_data"
    },
    {
     "data": {
      "text/markdown": [
       "**Explanation:** This essay reflects a F level quality for an 11th-grade US History assignment because it provides a very limited discussion on the topic. The essay lacks specific details, analysis, and critical thinking. It does not delve into the complexities of the civil rights movements led by Martin Luther King Jr. and Malcolm X, nor does it offer any nuanced comparison of their goals and strategies. The content is basic and lacks depth, failing to demonstrate a thorough understanding of the subject matter expected at an 11th-grade level."
      ],
      "text/plain": [
       "<IPython.core.display.Markdown object>"
      ]
     },
     "metadata": {},
     "output_type": "display_data"
    },
    {
     "data": {
      "text/markdown": [
       "### Sample Essay for 10th Grade Global History"
      ],
      "text/plain": [
       "<IPython.core.display.Markdown object>"
      ]
     },
     "metadata": {},
     "output_type": "display_data"
    },
    {
     "data": {
      "text/markdown": [
       "**Prompt:** Assignment Prompt: \"Imagine you are a historian studying ancient civilizations. Choose two societies (e.g., Mesopotamia, Egypt, Indus Valley) and compare their political structures, social hierarchies, and religious beliefs. What factors influenced the development of these differences?\""
      ],
      "text/plain": [
       "<IPython.core.display.Markdown object>"
      ]
     },
     "metadata": {},
     "output_type": "display_data"
    },
    {
     "data": {
      "text/markdown": [
       "**Quality:** C"
      ],
      "text/plain": [
       "<IPython.core.display.Markdown object>"
      ]
     },
     "metadata": {},
     "output_type": "display_data"
    },
    {
     "data": {
      "text/markdown": [
       "Ancient Mesopotamia and Egypt were two distinct societies with unique political structures, social hierarchies, and religious beliefs. Mesopotamia was characterized by city-states ruled by kings who claimed divine authority. In contrast, Egypt was unified under a pharaoh who was considered a god-king. The social hierarchy in Mesopotamia was stratified, with the king and nobles at the top, followed by priests, artisans, and farmers. In Egypt, there was a similar hierarchy, but the pharaoh held the highest position with absolute power. \n",
       "\n",
       "Religiously, Mesopotamians worshipped a pantheon of gods and goddesses, with the belief in the afterlife playing a significant role in their religious practices. In contrast, Egyptians held a polytheistic belief system centered around the concept of Ma'at, emphasizing harmony and balance. The development of these differences can be attributed to geographical factors such as the Nile River in Egypt, which fostered a more stable and centralized society compared to the Tigris and Euphrates rivers in Mesopotamia. Additionally, cultural exchanges and interactions with neighboring societies influenced the religious beliefs and social structures of both civilizations."
      ],
      "text/plain": [
       "<IPython.core.display.Markdown object>"
      ]
     },
     "metadata": {},
     "output_type": "display_data"
    },
    {
     "data": {
      "text/markdown": [
       "**Explanation:** This essay demonstrates a basic understanding of the topic by providing a comparison of the political structures, social hierarchies, and religious beliefs of ancient Mesopotamia and Egypt. The content is clear and organized, covering the required aspects of the assignment. However, the essay lacks in-depth analysis and critical thinking, offering surface-level explanations without delving into the complexities of the factors influencing the development of these differences. To achieve a higher grade, the essay would need to incorporate more detailed examples and demonstrate a deeper understanding of the historical context."
      ],
      "text/plain": [
       "<IPython.core.display.Markdown object>"
      ]
     },
     "metadata": {},
     "output_type": "display_data"
    }
   ],
   "source": [
    "# Step 4: Generate sample essays and explanations using the selected prompts and qualities\n",
    "all_essays = {}\n",
    "for i, pair in enumerate(pairs):\n",
    "    grade_level, subject = pair\n",
    "    prompt = selected_prompts[i]\n",
    "    quality = selected_qualities[i]\n",
    "    \n",
    "    # Generate essay and explanation in a single prompt\n",
    "    essay, explanation = generate_sample_essay_with_explanation(prompt, grade_level, subject, quality)\n",
    "    \n",
    "    # Store results\n",
    "    all_essays[pair] = {\n",
    "        \"quality\": quality,\n",
    "        \"prompt\": prompt,\n",
    "        \"essay\": essay,\n",
    "        \"explanation\": explanation\n",
    "    }\n",
    "    \n",
    "    # Display results in Markdown format\n",
    "    display(Markdown(f\"### Sample Essay for {grade_level}th Grade {subject}\"))\n",
    "    display(Markdown(f\"**Prompt:** {prompt}\"))\n",
    "    display(Markdown(f\"**Quality:** {quality}\"))\n",
    "    display(Markdown(essay))\n",
    "    display(Markdown(f\"**Explanation:** {explanation}\"))\n",
    "\n"
   ]
  },
  {
   "cell_type": "markdown",
   "id": "2f3f37c5",
   "metadata": {},
   "source": [
    "## Rubric "
   ]
  },
  {
   "cell_type": "code",
   "execution_count": 10,
   "id": "479b521c",
   "metadata": {},
   "outputs": [
    {
     "name": "stdout",
     "output_type": "stream",
     "text": [
      "# High School History Course Rubric\n",
      "\n",
      "| Criteria                               | Poor                                                                                                                     | Satisfactory                                                                                                                                            | Good                                                                                                                                                    | Excellent                                                                                                                                               | Total Possible Points |\n",
      "|----------------------------------------|---------------------------------------------------------------------------------------------------------------------------|----------------------------------------------------------------------------------------------------------------------------------------------------------|----------------------------------------------------------------------------------------------------------------------------------------------------------|----------------------------------------------------------------------------------------------------------------------------------------------------------|--------|\n",
      "| **1. Evidence and Analysis**           | 0 to 12 points: Provides little to no relevant evidence; ideas are unclear or unrelated to the historical topic           | 13 to 17 points: Uses some relevant evidence but lacks depth in analysis or connection to the historical topic                                          | 18 to 22 points: Provides relevant evidence with basic analysis; some connection to the historical topic is made                                       | 23 to 25 points: Provides specific, relevant evidence with thorough analysis; clearly connects ideas to the historical topic                           | 25     |\n",
      "| **2. Understanding Key Ideas**         | 0 to 12 points: Lacks understanding of main ideas; summary is inaccurate or incomplete                                    | 13 to 17 points: Identifies some main ideas but may miss key details; summary lacks clarity                                                             | 18 to 22 points: Summarizes main ideas accurately, with most key details included                                                                      | 23 to 25 points: Clearly identifies main ideas with an accurate summary; highlights relationships among key details and ideas                           | 25     |\n",
      "| **3. Cause and Effect Reasoning**      | 0 to 12 points: Does not analyze events or establish cause and effect; lacks reasoning                                    | 13 to 17 points: Attempts cause-and-effect analysis but lacks clarity or depth                                                                          | 18 to 22 points: Analyzes events with a basic understanding of cause and effect                                                                         | 23 to 25 points: Insightfully analyzes events and establishes cause-and-effect relationships with well-developed reasoning                              | 25     |\n",
      "| **4. Writing Clarity and Organization**| 0 to 12 points: Writing lacks clarity and coherence; poor organization without logical structure                          | 13 to 17 points: Writing is somewhat clear but lacks coherence; organization may be inconsistent                                                        | 18 to 22 points: Writing is clear and mostly organized; follows a logical structure                                                                     | 23 to 25 points: Writing is clear, coherent, and well-organized with a logical, compelling narrative                                                    | 25     |\n",
      "\n",
      "**Total Points:** 100\n",
      "\n"
     ]
    }
   ],
   "source": [
    "file_path = '/Users/samuelgartenstein/Desktop/qmss_llm_innovation_lab/Rubrics/General History Rubric.md'\n",
    "\n",
    "# Read and print content as plain text\n",
    "with open(file_path, 'r') as file:\n",
    "    content = file.read()\n",
    "print(content)\n"
   ]
  },
  {
   "cell_type": "markdown",
   "id": "1cf7232c",
   "metadata": {},
   "source": [
    "### Rubric Grading"
   ]
  },
  {
   "cell_type": "code",
   "execution_count": 11,
   "id": "8f67fe61",
   "metadata": {},
   "outputs": [],
   "source": [
    "# Function to grade an essay based on a rubric stored in a variable\n",
    "def grade_essay_with_rubric(essay, rubric, grade_level, subject):\n",
    "    # Prepare the grading prompt with the rubric and essay\n",
    "    prompt = f\"\"\"\n",
    "    You are a knowledgeable grader for a high school {subject} course. Your task is to evaluate an essay based on the following rubric:\n",
    "\n",
    "    {rubric}\n",
    "\n",
    "    Here is the essay to be graded:\n",
    "    ---\n",
    "    {essay}\n",
    "    ---\n",
    "    \n",
    "    For each criterion in the rubric:\n",
    "    1. Assign a score out of 25 points in the format \"Score: X/25\".\n",
    "    2. Provide a 2-3 sentence explanation of the score, referencing specific aspects of the essay.\n",
    "\n",
    "    After evaluating each criterion, calculate:\n",
    "    - The total score out of 100.\n",
    "    - The letter grade based on the following scale:\n",
    "      - A: 90-100\n",
    "      - B: 80-89\n",
    "      - C: 70-79\n",
    "      - D: 60-69\n",
    "      - F: 59 and below\n",
    "\n",
    "    Format the output as follows:\n",
    "    1. **Criterion Name**\n",
    "       - Score: X/25\n",
    "       - Explanation: [Explanation here]\n",
    "\n",
    "    After all criteria, provide:\n",
    "    - **Total Score**: X/100\n",
    "    - **Letter Grade**: [Letter grade here]\n",
    "    - Explanation: Provide a 4-5 sentence summary explaining the main reasons for the overall grade based on the criteria.\n",
    "    \"\"\"\n",
    "\n",
    "    # Call the OpenAI API to get the grading response\n",
    "    try:\n",
    "        completion = openai.ChatCompletion.create(\n",
    "            model=\"gpt-3.5-turbo\",\n",
    "            messages=[\n",
    "                {\"role\": \"system\", \"content\": \"You are an experienced grader familiar with high school history rubrics.\"},\n",
    "                {\"role\": \"user\", \"content\": prompt}\n",
    "            ]\n",
    "        )\n",
    "        \n",
    "        # Extract and separate the explanation from the rest of the grading response\n",
    "        grading_response = completion.choices[0].message['content'].strip()\n",
    "        \n",
    "        # Splitting the grading response into main content and explanation\n",
    "        main_content, explanation = grading_response.split(\"Explanation:\", 1)\n",
    "        \n",
    "        return main_content.strip(), explanation.strip()\n",
    "    \n",
    "    except Exception as e:\n",
    "        print(f\"Error grading the essay: {e}\")\n",
    "        return None, None\n"
   ]
  },
  {
   "cell_type": "code",
   "execution_count": 12,
   "id": "799ee760",
   "metadata": {},
   "outputs": [
    {
     "data": {
      "text/markdown": [
       "### Grading Results for 11th Grade US History"
      ],
      "text/plain": [
       "<IPython.core.display.Markdown object>"
      ]
     },
     "metadata": {},
     "output_type": "display_data"
    },
    {
     "data": {
      "text/markdown": [
       "**Essay:**"
      ],
      "text/plain": [
       "<IPython.core.display.Markdown object>"
      ]
     },
     "metadata": {},
     "output_type": "display_data"
    },
    {
     "data": {
      "text/markdown": [
       "Martin Luther King Jr. and Malcolm X were two leaders in the civil rights movement. They had different goals and strategies. MLK believed in nonviolent protests, like sit-ins and marches. He wanted racial equality through peace. Malcolm X, on the other hand, believed in self-defense and violent resistance. He thought that Black people needed to defend themselves against white oppression. These two leaders had a significant impact on the fight for racial equality in America, but their approaches were very different."
      ],
      "text/plain": [
       "<IPython.core.display.Markdown object>"
      ]
     },
     "metadata": {},
     "output_type": "display_data"
    },
    {
     "data": {
      "text/markdown": [
       "**Grading Breakdown:**"
      ],
      "text/plain": [
       "<IPython.core.display.Markdown object>"
      ]
     },
     "metadata": {},
     "output_type": "display_data"
    },
    {
     "data": {
      "text/markdown": [
       "**Rubric for Grading Essay:**\n",
       "\n",
       "1. **Content Understanding**\n",
       "   - Score: 20/25\n",
       "   -"
      ],
      "text/plain": [
       "<IPython.core.display.Markdown object>"
      ]
     },
     "metadata": {},
     "output_type": "display_data"
    },
    {
     "data": {
      "text/markdown": [
       "**Explanation:** The essay demonstrates a basic understanding of Martin Luther King Jr. and Malcolm X's differing approaches to the civil rights movement. It accurately describes MLK's belief in nonviolent protests and Malcolm X's advocacy for self-defense and violent resistance. More specific examples or details could have been included for a higher score.\n",
       "\n",
       "2. **Thesis Clarity**\n",
       "   - Score: 15/25\n",
       "   - Explanation: The thesis statement is clear in stating that MLK and Malcolm X had different goals and strategies for racial equality. However, it could be more precise and detailed to provide a stronger roadmap for the essay's content.\n",
       "\n",
       "3. **Analysis and Comparison**\n",
       "   - Score: 18/25\n",
       "   - Explanation: The essay effectively contrasts MLK and Malcolm X's approaches to achieving racial equality, highlighting their distinct beliefs in nonviolence vs. self-defense. More in-depth analysis could be included, discussing the impacts of their strategies on the civil rights movement.\n",
       "\n",
       "4. **Organization and Structure**\n",
       "   - Score: 18/25\n",
       "   - Explanation: The essay is organized with clear paragraphs discussing MLK and Malcolm X's perspectives. Transitions between ideas could be smoother to enhance the overall flow and cohesiveness of the essay.\n",
       "\n",
       "**Total Score**: 71/100\n",
       "**Letter Grade**: C\n",
       "\n",
       "**Explanation**: The essay provides a basic overview of MLK and Malcolm X's roles in the civil rights movement, but it lacks depth in analysis and specific examples. A clearer thesis with more detailed analysis and smoother organization would strengthen the overall argument. Additionally, incorporating more historical context and discussing the lasting legacies of these leaders could improve the essay's quality."
      ],
      "text/plain": [
       "<IPython.core.display.Markdown object>"
      ]
     },
     "metadata": {},
     "output_type": "display_data"
    },
    {
     "data": {
      "text/markdown": [
       "### Grading Results for 10th Grade Global History"
      ],
      "text/plain": [
       "<IPython.core.display.Markdown object>"
      ]
     },
     "metadata": {},
     "output_type": "display_data"
    },
    {
     "data": {
      "text/markdown": [
       "**Essay:**"
      ],
      "text/plain": [
       "<IPython.core.display.Markdown object>"
      ]
     },
     "metadata": {},
     "output_type": "display_data"
    },
    {
     "data": {
      "text/markdown": [
       "Ancient Mesopotamia and Egypt were two distinct societies with unique political structures, social hierarchies, and religious beliefs. Mesopotamia was characterized by city-states ruled by kings who claimed divine authority. In contrast, Egypt was unified under a pharaoh who was considered a god-king. The social hierarchy in Mesopotamia was stratified, with the king and nobles at the top, followed by priests, artisans, and farmers. In Egypt, there was a similar hierarchy, but the pharaoh held the highest position with absolute power. \n",
       "\n",
       "Religiously, Mesopotamians worshipped a pantheon of gods and goddesses, with the belief in the afterlife playing a significant role in their religious practices. In contrast, Egyptians held a polytheistic belief system centered around the concept of Ma'at, emphasizing harmony and balance. The development of these differences can be attributed to geographical factors such as the Nile River in Egypt, which fostered a more stable and centralized society compared to the Tigris and Euphrates rivers in Mesopotamia. Additionally, cultural exchanges and interactions with neighboring societies influenced the religious beliefs and social structures of both civilizations."
      ],
      "text/plain": [
       "<IPython.core.display.Markdown object>"
      ]
     },
     "metadata": {},
     "output_type": "display_data"
    },
    {
     "data": {
      "text/markdown": [
       "**Grading Breakdown:**"
      ],
      "text/plain": [
       "<IPython.core.display.Markdown object>"
      ]
     },
     "metadata": {},
     "output_type": "display_data"
    },
    {
     "data": {
      "text/markdown": [
       "**Criterion 1: Understanding of Political Structures**\n",
       "- Score: 22/25\n",
       "-"
      ],
      "text/plain": [
       "<IPython.core.display.Markdown object>"
      ]
     },
     "metadata": {},
     "output_type": "display_data"
    },
    {
     "data": {
      "text/markdown": [
       "**Explanation:** The essay effectively contrasts the political structures of Mesopotamia and Egypt, highlighting the roles of kings and pharaohs in each society. It accurately portrays Mesopotamia as having city-states ruled by kings with divine authority and Egypt as unified under a pharaoh considered a god-king.\n",
       "\n",
       "**Criterion 2: Understanding of Social Hierarchies**\n",
       "- Score: 23/25\n",
       "- Explanation: The essay demonstrates a strong understanding of the social hierarchies in both Mesopotamia and Egypt, outlining the positions of various classes in society and emphasizing the unique position of the pharaoh in Egyptian society. The comparison between the two civilizations is clear and well-supported.\n",
       "\n",
       "**Criterion 3: Understanding of Religious Beliefs**\n",
       "- Score: 24/25\n",
       "- Explanation: The essay provides a detailed analysis of the religious beliefs in Mesopotamia and Egypt, highlighting the differences in worship practices, belief systems, and influences on societal values. The reference to geographical factors and cultural exchanges to explain these differences is insightful.\n",
       "\n",
       "**Criterion 4: Analysis and Explanation**\n",
       "- Score: 21/25\n",
       "- Explanation: While the essay effectively compares and contrasts Mesopotamia and Egypt in terms of political structures, social hierarchies, and religious beliefs, there could have been a deeper analysis of how these factors influenced each society's development. Additionally, more specific examples could have been included to strengthen the argument.\n",
       "\n",
       "**Total Score**: 90/100\n",
       "**Letter Grade**: A\n",
       "**Explanation**: The essay demonstrates a strong understanding of the key differences between Ancient Mesopotamia and Egypt in terms of political structures, social hierarchies, and religious beliefs. The analysis is well-supported with relevant details and comparisons, leading to a comprehensive evaluation. With minor improvements in analysis and inclusion of specific examples, the essay could further enhance its argumentation."
      ],
      "text/plain": [
       "<IPython.core.display.Markdown object>"
      ]
     },
     "metadata": {},
     "output_type": "display_data"
    }
   ],
   "source": [
    "# Example of using the function to display results\n",
    "for i, pair in enumerate(pairs):\n",
    "    grade_level, subject = pair\n",
    "    essay = all_essays[pair][\"essay\"]  # Assuming all_essays contains essays for each pair\n",
    "    rubric = \"Your rubric content here\"  # Replace with the actual rubric text\n",
    "\n",
    "    # Get the grading breakdown and explanation\n",
    "    grading_content, explanation = grade_essay_with_rubric(essay, rubric, grade_level, subject)\n",
    "    \n",
    "    # Display results in Markdown format\n",
    "    display(Markdown(f\"### Grading Results for {grade_level}th Grade {subject}\"))\n",
    "    display(Markdown(f\"**Essay:**\"))\n",
    "    display(Markdown(essay))\n",
    "    display(Markdown(f\"**Grading Breakdown:**\"))\n",
    "    display(Markdown(grading_content))\n",
    "    display(Markdown(f\"**Explanation:** {explanation}\"))\n"
   ]
  },
  {
   "cell_type": "code",
   "execution_count": null,
   "id": "415b50dc",
   "metadata": {},
   "outputs": [],
   "source": []
  }
 ],
 "metadata": {
  "kernelspec": {
   "display_name": "Python 3 (ipykernel)",
   "language": "python",
   "name": "python3"
  },
  "language_info": {
   "codemirror_mode": {
    "name": "ipython",
    "version": 3
   },
   "file_extension": ".py",
   "mimetype": "text/x-python",
   "name": "python",
   "nbconvert_exporter": "python",
   "pygments_lexer": "ipython3",
   "version": "3.11.4"
  }
 },
 "nbformat": 4,
 "nbformat_minor": 5
}
