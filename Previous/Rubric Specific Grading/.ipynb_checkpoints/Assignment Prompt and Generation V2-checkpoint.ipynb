{
 "cells": [
  {
   "cell_type": "markdown",
   "id": "26e84ab2",
   "metadata": {},
   "source": [
    "# Assignment Prompt and Generation\n",
    "\n",
    "\n",
    "This notebook demonstrates how to generate unique assignment prompts and sample student essays using the OpenAI API. The setup includes essential libraries, environment configuration, prompt generation, and essay generation with randomized quality levels.\n",
    "\n",
    "This notebook generates assignment prompts and sample student essays for specified grade levels and subjects using the OpenAI API.\n",
    "\n",
    "### Outline:\n",
    "1. **Setup**\n",
    "   - Import required libraries.\n",
    "   - Load environment variables for API access.\n",
    "   - Define quality levels for essay grading.\n",
    "\n",
    "2. **Functions**\n",
    "   - **generate_prompts**: Generates 10 assignment prompts for each grade-subject pair.\n",
    "   - **generate_sample_essay**: Creates a sample essay for each prompt with a randomly assigned quality level.\n",
    "\n",
    "3. **Execution**\n",
    "   - Define grade-subject pairs.\n",
    "   - Generate and display prompts.\n",
    "   - Generate and display sample essays with random quality levels.\n",
    "   \n",
    "### Requirements:\n",
    "- **API Key**: Ensure that `OPENAI_API_KEY` is set in the `.env` file in the project directory.\n",
    "- **Installed Libraries**:\n",
    "  - `openai`\n",
    "  - `IPython.display`\n",
    "  - `python-dotenv`\n",
    "  - `re` (comes with Python)\n",
    "  - `random` (comes with Python)\n",
    "\n",
    "\n",
    "\n",
    "\n",
    "\n",
    "\n"
   ]
  },
  {
   "cell_type": "code",
   "execution_count": 11,
   "id": "baaaca7c",
   "metadata": {},
   "outputs": [],
   "source": [
    "# Import necessary libraries\n",
    "import openai  # OpenAI API for generating text based on prompts\n",
    "from IPython.display import display, Markdown  # Markdown display tools for Jupyter Notebooks\n",
    "import os  # OS library for file and directory interactions\n",
    "from dotenv import load_dotenv, find_dotenv  # dotenv utilities for managing environment variables\n",
    "import re  # Regular expressions library for text pattern matching and formatting\n",
    "import random  # Random module for generating randomized values, such as quality levels\n",
    "\n",
    "# Function to convert text to Markdown format, allowing formatted display in Jupyter Notebooks\n",
    "def to_markdown(text):\n",
    "    # Wraps text in Markdown format for enhanced readability and presentation in Jupyter Notebooks\n",
    "    return Markdown(text)\n"
   ]
  },
  {
   "cell_type": "code",
   "execution_count": 12,
   "id": "b4cb2623",
   "metadata": {},
   "outputs": [],
   "source": [
    "# Automatically locate and load the .env file with environment variables\n",
    "env_path = find_dotenv()  # Searches for the .env file in the project directory\n",
    "load_dotenv(dotenv_path=env_path)  # Loads the environment variables from .env\n",
    "\n",
    "# Set the OpenAI API key from environment variable (pulled from the .env file)\n",
    "openai.api_key = os.getenv('OPENAI_API_KEY')\n"
   ]
  },
  {
   "cell_type": "markdown",
   "id": "2cc79c6c",
   "metadata": {},
   "source": [
    "### Function: `generate_prompts`\n",
    "\n",
    "#### Description:\n",
    "- This function generates a list of assignment prompts tailored to specific grade-subject pairs using the OpenAI API.\n",
    "- The function takes a list of grade-subject pairs, constructs a unique prompt for each, and requests 10 age-appropriate assignment prompts for each pair.\n",
    "- The prompts are displayed in Markdown format within Jupyter Notebooks for easy viewing.\n",
    "\n",
    "#### Parameters:\n",
    "- **pairs**: A list of tuples, where each tuple consists of:\n",
    "  - **grade_level**: A string representing the grade level (e.g., \"11\" for 11th grade).\n",
    "  - **subject**: A string representing the academic subject for which prompts are being generated (e.g., \"US History\").\n",
    "\n",
    "#### Process:\n",
    "1. **Prompt Construction**: For each grade-subject pair, the function builds a specific request prompt that asks the OpenAI model to generate 10 unique, challenging, and engaging assignment prompts appropriate for that grade level and subject.\n",
    "2. **API Call**: The function sends this constructed prompt to the OpenAI API (`gpt-3.5-turbo`), instructing it to generate relevant assignment ideas.\n",
    "3. **Formatting and Cleaning**: After receiving the response:\n",
    "   - Each prompt is stripped of any leading numbering or formatting inconsistencies using regular expressions to ensure a clean display.\n",
    "   - Only the first 10 prompts are kept, even if more are returned.\n",
    "4. **Display**: Each prompt is then labeled (e.g., \"Prompt 1,\" \"Prompt 2\") and displayed in Markdown format for readability.\n",
    "\n",
    "#### Output:\n",
    "- **Returns**: A dictionary (`all_prompts`) where:\n",
    "  - Each key is a tuple of the form `(grade_level, subject)`.\n",
    "  - Each value is a list of 10 formatted assignment prompts for the corresponding grade-subject pair.\n",
    "\n"
   ]
  },
  {
   "cell_type": "code",
   "execution_count": 13,
   "id": "ab040ec9",
   "metadata": {},
   "outputs": [],
   "source": [
    "# Function to generate assignment prompts based on a list of grade-subject pairs\n",
    "def generate_prompts(pairs):\n",
    "    all_prompts = {}\n",
    "    for grade_level, subject in pairs:\n",
    "        prompt_text = f\"\"\"\n",
    "        Role: You are a {grade_level}th-grade {subject} teacher. Please create 10 unique assignment prompts.\n",
    "\n",
    "        Each prompt should:\n",
    "        - Be age-appropriate for {grade_level}th grade\n",
    "        - Challenge students' understanding, encouraging critical thinking and engagement with the subject matter\n",
    "        - Cover diverse themes or topics within {subject}\n",
    "        \n",
    "        Ensure each prompt is clear, concise, and engaging.\n",
    "        \"\"\"\n",
    "        \n",
    "        # Generate prompts using OpenAI API\n",
    "        completion = openai.ChatCompletion.create(\n",
    "            model=\"gpt-3.5-turbo\",\n",
    "            messages=[\n",
    "                {\"role\": \"system\", \"content\": \"You are a creative and insightful prompt generator for teachers.\"},\n",
    "                {\"role\": \"user\", \"content\": prompt_text}\n",
    "            ]\n",
    "        )\n",
    "        \n",
    "        # Extract prompts and clean up formatting\n",
    "        prompts_text = completion.choices[0].message['content']\n",
    "        prompts_list = [re.sub(r'^\\d+\\.\\s*', '', prompt.strip()) for prompt in prompts_text.split('\\n') if prompt.strip()]\n",
    "        prompts_list = prompts_list[:10]  # Keep exactly 10 prompts\n",
    "        all_prompts[(grade_level, subject)] = prompts_list\n",
    "        \n",
    "        # Display prompts in Markdown format\n",
    "        display(Markdown(f\"### Generated Prompts for {grade_level}th Grade {subject}\"))\n",
    "        for i, prompt in enumerate(prompts_list, start=1):\n",
    "            display(Markdown(f\"**Prompt {i}:** {prompt}\"))\n",
    "    \n",
    "    return all_prompts\n"
   ]
  },
  {
   "cell_type": "markdown",
   "id": "2f465ce7",
   "metadata": {},
   "source": [
    "### Function: `generate_sample_essay`\n",
    "\n",
    "#### Description:\n",
    "- This function generates a sample essay for each grade-subject pair based on a specific prompt and a randomly assigned quality level. \n",
    "- It leverages a previously generated list of prompts, selects a specified prompt, and instructs OpenAI to generate a sample essay typical of a student at that grade level and subject.\n",
    "\n",
    "#### Parameters:\n",
    "- **all_prompts**: A dictionary where each key is a tuple `(grade_level, subject)` and each value is a list of 10 assignment prompts generated for that grade-subject pair.\n",
    "- **pairs**: A list of grade-subject tuples, where each tuple consists of:\n",
    "  - **grade_level**: A string indicating the grade level (e.g., \"11\" for 11th grade).\n",
    "  - **subject**: A string representing the academic subject (e.g., \"US History\").\n",
    "- **prompt_index**: An integer indicating which prompt from the list to use for essay generation (default is 0, which selects the first prompt in the list).\n",
    "\n",
    "#### Process:\n",
    "1. **Prompt Selection**: For each grade-subject pair in `pairs`, the function retrieves the specified prompt from `all_prompts` using `prompt_index`.\n",
    "2. **Quality Level Assignment**: A quality level (e.g., \"A\", \"B\", \"C\", \"D\", or \"F\") is randomly selected for the essay using `random.choice(quality_levels)`.\n",
    "3. **Essay Generation Prompt**: An essay prompt is constructed based on the selected prompt and assigned quality level, simulating a student essay typical of that grade and subject.\n",
    "4. **API Call**: The function sends the essay prompt to the OpenAI API (`gpt-3.5-turbo`), requesting a sample response.\n",
    "5. **Error Handling**: If prompts are missing or if `prompt_index` is out of range, an error message is printed. Any API errors are caught and logged, and the essay output for that pair is set to `None`.\n",
    "6. **Display and Storage**: Each generated essay, along with its quality level, is displayed in Markdown format and stored in a dictionary for further use.\n",
    "\n",
    "#### Output:\n",
    "- **Returns**: A dictionary (`all_essays`) where:\n",
    "  - Each key is a tuple `(grade_level, subject)`.\n",
    "  - Each value is a dictionary with:\n",
    "    - **quality**: The randomly assigned quality level for the essay.\n",
    "    - **essay**: The generated essay text or `None` if an error occurred.\n",
    "\n",
    "#### Example Usage:\n",
    "```python\n",
    "grade_subject_pairs = [(\"11\", \"US History\"), (\"10\", \"Global History\")]\n",
    "all_prompts = generate_prompts(grade_subject_pairs)\n",
    "all_essays = generate_sample_essay(all_prompts, grade_subject_pairs, prompt_index=0)\n"
   ]
  },
  {
   "cell_type": "code",
   "execution_count": 14,
   "id": "a35d796d",
   "metadata": {},
   "outputs": [],
   "source": [
    "# Function to generate multiple essays with specific qualities for each grade-subject pair\n",
    "def generate_multiple_essays_with_selected_qualities(prompt, grade_level, subject, qualities):\n",
    "    essays_with_explanations = []\n",
    "    \n",
    "    for quality in qualities:\n",
    "        combined_prompt = f\"\"\"\n",
    "        You are a {grade_level}th-grade student in {subject} with a {quality} average. Any assignment you write will reflect your grade average.\n",
    "        With this in mind, please write an essay that reflects a {quality} level, where:\n",
    "\n",
    "        - A (90-100): Excellent\n",
    "        - B (80-89): Good\n",
    "        - C (70-79): Basic\n",
    "        - D (60-69): Minimal\n",
    "        - F (59 and below): Very limited\n",
    "\n",
    "        **Essay Topic:** {prompt}\n",
    "\n",
    "        Write your essay directly, without repeating the topic instructions. Provide only the content of the essay as if you were submitting it for a grade.\n",
    "\n",
    "        After the essay, include an explanation (4-5 sentences) describing why this essay reflects a {quality} quality level for a {grade_level}th grade and {subject} assignment. \n",
    "        Use \"Explanation:\" to begin the explanation.\n",
    "        \"\"\"\n",
    "        \n",
    "        try:\n",
    "            completion = openai.ChatCompletion.create(\n",
    "                model=\"gpt-3.5-turbo\",\n",
    "                messages=[\n",
    "                    {\"role\": \"system\", \"content\": \"You are a skilled educational content generator.\"},\n",
    "                    {\"role\": \"user\", \"content\": combined_prompt}\n",
    "                ]\n",
    "            )\n",
    "            \n",
    "            # Extract response and separate essay and explanation\n",
    "            response = completion.choices[0].message['content'].strip()\n",
    "            essay, explanation = response.split(\"Explanation:\", 1)\n",
    "            essays_with_explanations.append({\n",
    "                \"quality\": quality,\n",
    "                \"essay\": essay.strip(),\n",
    "                \"explanation\": explanation.strip()\n",
    "            })\n",
    "            \n",
    "        except Exception as e:\n",
    "            print(f\"Error generating essay and explanation for {quality} quality level ({grade_level}th Grade {subject}), Prompt: {prompt}:\", e)\n",
    "            essays_with_explanations.append({\n",
    "                \"quality\": quality,\n",
    "                \"essay\": None,\n",
    "                \"explanation\": None\n",
    "            })\n",
    "    \n",
    "    return essays_with_explanations\n"
   ]
  },
  {
   "cell_type": "code",
   "execution_count": 15,
   "id": "aba33d8e",
   "metadata": {},
   "outputs": [],
   "source": [
    "# Step 1: Define pairs of grade level and subject\n",
    "pairs = [(11, \"US History\")] #(10, \"Global History\")]\n",
    "\n"
   ]
  },
  {
   "cell_type": "markdown",
   "id": "bb71da74",
   "metadata": {},
   "source": [
    "### Calling `generate_prompts`\n",
    "\n",
    "- Defines `grade_subject_pairs`, a list of grade level and subject combinations for which assignment prompts are needed.\n",
    "- Calls `generate_prompts` with this list, generating and displaying 10 unique assignment prompts for each grade-subject pair in a readable Markdown format.\n",
    "- The output, `all_prompts`, is a dictionary that stores prompts by grade-subject pair for further use.\n",
    "\n",
    "\n"
   ]
  },
  {
   "cell_type": "code",
   "execution_count": 16,
   "id": "1324e49e",
   "metadata": {},
   "outputs": [
    {
     "data": {
      "text/markdown": [
       "### Generated Prompts for 11th Grade US History"
      ],
      "text/plain": [
       "<IPython.core.display.Markdown object>"
      ]
     },
     "metadata": {},
     "output_type": "display_data"
    },
    {
     "data": {
      "text/markdown": [
       "**Prompt 1:** Assignment Prompt: Research and debate the impact of the Civil Rights Act of 1964 on American society. Present arguments for and against its effectiveness in promoting racial equality."
      ],
      "text/plain": [
       "<IPython.core.display.Markdown object>"
      ]
     },
     "metadata": {},
     "output_type": "display_data"
    },
    {
     "data": {
      "text/markdown": [
       "**Prompt 2:** Assignment Prompt: Create a timeline outlining key events of the Women's Suffrage Movement in the United States. Reflect on the strategies used by suffragettes and analyze their significance in shaping women's rights."
      ],
      "text/plain": [
       "<IPython.core.display.Markdown object>"
      ]
     },
     "metadata": {},
     "output_type": "display_data"
    },
    {
     "data": {
      "text/markdown": [
       "**Prompt 3:** Assignment Prompt: Analyze the causes and consequences of the Great Depression on American society. In what ways did the New Deal policies address the economic challenges of the time?"
      ],
      "text/plain": [
       "<IPython.core.display.Markdown object>"
      ]
     },
     "metadata": {},
     "output_type": "display_data"
    },
    {
     "data": {
      "text/markdown": [
       "**Prompt 4:** Assignment Prompt: Investigate the role of propaganda during World War II. Select a specific propaganda piece from the era and examine its message, target audience, and effectiveness in influencing public opinion."
      ],
      "text/plain": [
       "<IPython.core.display.Markdown object>"
      ]
     },
     "metadata": {},
     "output_type": "display_data"
    },
    {
     "data": {
      "text/markdown": [
       "**Prompt 5:** Assignment Prompt: Explore the impact of westward expansion on Native American communities in the 19th century. Evaluate the federal government's policies towards Native Americans and their long-term implications."
      ],
      "text/plain": [
       "<IPython.core.display.Markdown object>"
      ]
     },
     "metadata": {},
     "output_type": "display_data"
    },
    {
     "data": {
      "text/markdown": [
       "**Prompt 6:** Assignment Prompt: Compare and contrast the strategies used by Martin Luther King Jr. and Malcolm X in the fight for civil rights. Analyze the similarities and differences in their approaches to achieving racial equality."
      ],
      "text/plain": [
       "<IPython.core.display.Markdown object>"
      ]
     },
     "metadata": {},
     "output_type": "display_data"
    },
    {
     "data": {
      "text/markdown": [
       "**Prompt 7:** Assignment Prompt: Examine the changing roles of women in American society during World War II. How did women's contributions to the war effort influence the feminist movement in the following decades?"
      ],
      "text/plain": [
       "<IPython.core.display.Markdown object>"
      ]
     },
     "metadata": {},
     "output_type": "display_data"
    },
    {
     "data": {
      "text/markdown": [
       "**Prompt 8:** Assignment Prompt: Investigate the origins and outcomes of the Watergate scandal during Richard Nixon's presidency. Evaluate the impact of this political event on public trust in government."
      ],
      "text/plain": [
       "<IPython.core.display.Markdown object>"
      ]
     },
     "metadata": {},
     "output_type": "display_data"
    },
    {
     "data": {
      "text/markdown": [
       "**Prompt 9:** Assignment Prompt: Research the events leading up to the signing of the Emancipation Proclamation by President Lincoln. Reflect on the significance of this executive order in the abolition of slavery and the Civil War."
      ],
      "text/plain": [
       "<IPython.core.display.Markdown object>"
      ]
     },
     "metadata": {},
     "output_type": "display_data"
    },
    {
     "data": {
      "text/markdown": [
       "**Prompt 10:** Assignment Prompt: Explore the social and political implications of the Vietnam War on American society. Analyze the anti-war movement of the 1960s and its impact on public opinion and government policy."
      ],
      "text/plain": [
       "<IPython.core.display.Markdown object>"
      ]
     },
     "metadata": {},
     "output_type": "display_data"
    }
   ],
   "source": [
    "# Step 2: Generate prompts for each grade-subject pair\n",
    "all_prompts = generate_prompts(pairs)\n"
   ]
  },
  {
   "cell_type": "markdown",
   "id": "553b1033",
   "metadata": {},
   "source": [
    "\n"
   ]
  },
  {
   "cell_type": "code",
   "execution_count": 17,
   "id": "7013995d",
   "metadata": {},
   "outputs": [
    {
     "name": "stdout",
     "output_type": "stream",
     "text": [
      "Selected Quality Levels (Grades) for Each Grade-Subject Pair:\n",
      "11th Grade US History: ['B', 'F', 'F', 'B']\n"
     ]
    }
   ],
   "source": [
    "# Define possible quality levels\n",
    "quality_levels = [\"A\", \"B\", \"C\", \"D\", \"F\"]\n",
    "\n",
    "num_essays = 4  # Number of essays to generate per prompt\n",
    "selected_qualities = {pair: [random.choice(quality_levels) for _ in range(num_essays)] for pair in pairs}\n",
    "\n",
    "# Display the selected qualities for each pair\n",
    "print(\"Selected Quality Levels (Grades) for Each Grade-Subject Pair:\")\n",
    "for pair, qualities in selected_qualities.items():\n",
    "    grade_level, subject = pair\n",
    "    print(f\"{grade_level}th Grade {subject}: {qualities}\")"
   ]
  },
  {
   "cell_type": "code",
   "execution_count": 18,
   "id": "121169cf",
   "metadata": {},
   "outputs": [
    {
     "name": "stdout",
     "output_type": "stream",
     "text": [
      "1. 11th Grade US History Prompt:\n",
      "   Assignment Prompt: Create a timeline outlining key events of the Women's Suffrage Movement in the United States. Reflect on the strategies used by suffragettes and analyze their significance in shaping women's rights.\n",
      "\n"
     ]
    }
   ],
   "source": [
    "# Select a random prompt for each grade-subject pair\n",
    "selected_prompts = [random.choice(all_prompts[pair]) for pair in pairs]\n",
    "\n",
    "# Display the selected prompts as a formatted list\n",
    "for i, (pair, prompt) in enumerate(zip(pairs, selected_prompts), start=1):\n",
    "    grade_level, subject = pair\n",
    "    print(f\"{i}. {grade_level}th Grade {subject} Prompt:\")\n",
    "    print(f\"   {prompt}\\n\")\n"
   ]
  },
  {
   "cell_type": "code",
   "execution_count": null,
   "id": "33b41eca",
   "metadata": {},
   "outputs": [],
   "source": []
  },
  {
   "cell_type": "markdown",
   "id": "49a8c541",
   "metadata": {},
   "source": [
    "### Calling `generate_sample_essay`\n",
    "\n",
    "- Defines `quality_levels`, a list of possible grades (\"A\" through \"F\") to randomly assign to each generated essay.\n",
    "- Calls `generate_sample_essay` with `all_prompts`, `grade_subject_pairs`, and a specified `prompt_index` (0), generating a sample essay for each grade-subject pair.\n",
    "- Each essay is displayed with its corresponding quality level and prompt. The output, `all_essays`, is a dictionary that stores the generated essays and their assigned quality levels for further use.\n",
    "\n",
    "\n",
    "\n",
    "\n",
    "\n"
   ]
  },
  {
   "cell_type": "code",
   "execution_count": 19,
   "id": "f54e7082",
   "metadata": {},
   "outputs": [
    {
     "data": {
      "text/markdown": [
       "### Selected Prompt for 11th Grade US History"
      ],
      "text/plain": [
       "<IPython.core.display.Markdown object>"
      ]
     },
     "metadata": {},
     "output_type": "display_data"
    },
    {
     "data": {
      "text/markdown": [
       "**Prompt:** Assignment Prompt: Investigate the origins and outcomes of the Watergate scandal during Richard Nixon's presidency. Evaluate the impact of this political event on public trust in government.\n"
      ],
      "text/plain": [
       "<IPython.core.display.Markdown object>"
      ]
     },
     "metadata": {},
     "output_type": "display_data"
    },
    {
     "data": {
      "text/markdown": [
       "### Essay 1 (Quality: B)"
      ],
      "text/plain": [
       "<IPython.core.display.Markdown object>"
      ]
     },
     "metadata": {},
     "output_type": "display_data"
    },
    {
     "data": {
      "text/markdown": [
       "The Watergate scandal, which unfolded during President Richard Nixon's administration in the early 1970s, had its origins in a break-in at the Democratic National Committee headquarters at the Watergate office complex in Washington, D.C. Subsequent investigations revealed a series of illegal activities orchestrated by Nixon's administration, including attempts to cover up the break-in and obstruct justice. As a result, Nixon became the first U.S. president to resign from office in 1974, facing imminent impeachment.\n",
       "\n",
       "The outcomes of the Watergate scandal were far-reaching and significant. The scandal eroded public trust in the government and its officials, leading to widespread disillusionment among American citizens. It also highlighted the importance of a free press and the system of checks and balances in American democracy, as journalists played a crucial role in uncovering the truth behind the scandal. The legacy of Watergate continues to serve as a cautionary tale about the dangers of unchecked executive power and the importance of accountability in government."
      ],
      "text/plain": [
       "<IPython.core.display.Markdown object>"
      ]
     },
     "metadata": {},
     "output_type": "display_data"
    },
    {
     "data": {
      "text/markdown": [
       "**Explanation:** This essay reflects a B level quality for an 11th-grade US History assignment because it provides a concise and coherent overview of the origins and outcomes of the Watergate scandal, touching on key points such as the break-in, the cover-up, Nixon's resignation, and the impact on public trust. The essay demonstrates a good understanding of the historical context and implications of the event, although it could benefit from more specific details, such as specific individuals involved or the role of investigative journalism. Overall, the essay effectively addresses the assignment prompt and presents a solid analysis of the significance of the Watergate scandal in American history.\n"
      ],
      "text/plain": [
       "<IPython.core.display.Markdown object>"
      ]
     },
     "metadata": {},
     "output_type": "display_data"
    },
    {
     "data": {
      "text/markdown": [
       "### Essay 2 (Quality: F)"
      ],
      "text/plain": [
       "<IPython.core.display.Markdown object>"
      ]
     },
     "metadata": {},
     "output_type": "display_data"
    },
    {
     "data": {
      "text/markdown": [
       "The Watergate scandal was a thing that happened with Richard Nixon. It was like a big deal or something because people got mad. Nixon was doing some bad stuff and got caught. It made people not trust the government anymore. That was bad. So, yeah, Watergate was a problem and stuff. \n",
       "\n",
       "**"
      ],
      "text/plain": [
       "<IPython.core.display.Markdown object>"
      ]
     },
     "metadata": {},
     "output_type": "display_data"
    },
    {
     "data": {
      "text/markdown": [
       "**Explanation:** **\n",
       "This essay reflects an F quality level as it lacks coherent structure, organization, and analysis. It provides minimal information with vague descriptions of the Watergate scandal and its implications. There is a lack of historical context, detail, and critical thinking in addressing the topic, resulting in a very limited exploration of the origins, outcomes, and impact of the event on public trust in government.\n"
      ],
      "text/plain": [
       "<IPython.core.display.Markdown object>"
      ]
     },
     "metadata": {},
     "output_type": "display_data"
    },
    {
     "data": {
      "text/markdown": [
       "### Essay 3 (Quality: F)"
      ],
      "text/plain": [
       "<IPython.core.display.Markdown object>"
      ]
     },
     "metadata": {},
     "output_type": "display_data"
    },
    {
     "data": {
      "text/markdown": [
       "The Watergate scandal was a thing that happened in the past. It involved some guys breaking into a place or something. Richard Nixon was the president back then. People got mad because of this scandal. They didn't trust the government after that. It wasn't good.\n",
       "\n",
       "**"
      ],
      "text/plain": [
       "<IPython.core.display.Markdown object>"
      ]
     },
     "metadata": {},
     "output_type": "display_data"
    },
    {
     "data": {
      "text/markdown": [
       "**Explanation:** **\n",
       "This essay demonstrates a very limited understanding of the Watergate scandal and its implications. The response lacks specific details, historical context, and coherent explanations. There is a lack of critical analysis and depth in discussing the origins, outcomes, and impact of the scandal on public trust in government. The language used is general, vague, and lacks clarity, which does not show an adequate comprehension of the historical event. Additionally, the essay lacks structure and proper development of ideas, resulting in a very limited and insufficiently addressed essay.\n"
      ],
      "text/plain": [
       "<IPython.core.display.Markdown object>"
      ]
     },
     "metadata": {},
     "output_type": "display_data"
    },
    {
     "data": {
      "text/markdown": [
       "### Essay 4 (Quality: B)"
      ],
      "text/plain": [
       "<IPython.core.display.Markdown object>"
      ]
     },
     "metadata": {},
     "output_type": "display_data"
    },
    {
     "data": {
      "text/markdown": [
       "The Watergate scandal, which unfolded during Richard Nixon's presidency, originated from a break-in at the Democratic National Committee headquarters at the Watergate complex in Washington, D.C. in 1972. This scandal resulted in widespread political repercussions, including Nixon's resignation in 1974 to avoid impeachment. The outcome of the scandal led to a decrease in public trust in government institutions and officials, as many Americans became disillusioned with the integrity of their leaders.\n",
       "\n",
       "The Watergate scandal was a significant turning point in American political history. It exposed the abuse of power at the highest levels of government and highlighted the importance of accountability and transparency in politics. Nixon's involvement in the cover-up and subsequent resignation shattered the public's confidence in the government's ability to act in the best interests of the people. The scandal also led to reforms aimed at increasing government transparency and oversight to prevent similar abuses of power in the future.\n",
       "\n",
       "Overall, the Watergate scandal had a lasting impact on public trust in government, as it revealed the potential for corruption and dishonesty within political institutions. It serves as a reminder of the importance of upholding ethical standards and the rule of law to maintain the trust and confidence of the American people in their government."
      ],
      "text/plain": [
       "<IPython.core.display.Markdown object>"
      ]
     },
     "metadata": {},
     "output_type": "display_data"
    },
    {
     "data": {
      "text/markdown": [
       "**Explanation:** This essay demonstrates a good level of understanding of the origins and outcomes of the Watergate scandal, as well as its impact on public trust in government. The student effectively discusses key points related to the topic and provides a coherent analysis of the significance of the scandal in American history. The essay meets the criteria for a B grade by offering a comprehensive overview of the subject matter with adequate depth and insight for an 11th-grade US History assignment.\n"
      ],
      "text/plain": [
       "<IPython.core.display.Markdown object>"
      ]
     },
     "metadata": {},
     "output_type": "display_data"
    }
   ],
   "source": [
    "# Step 4: Generate multiple essays with selected qualities for each grade-subject pair\n",
    "all_essays = {}\n",
    "for pair in pairs:\n",
    "    grade_level, subject = pair\n",
    "    # Select a random prompt for the current grade-subject pair\n",
    "    prompt = random.choice(all_prompts[pair])\n",
    "    \n",
    "    # Get the pre-selected quality levels for this pair\n",
    "    qualities = selected_qualities[pair]\n",
    "    \n",
    "    # Generate multiple essays with the selected qualities for the prompt\n",
    "    essays_with_varied_qualities = generate_multiple_essays_with_selected_qualities(prompt, grade_level, subject, qualities)\n",
    "    \n",
    "    # Store results for the current pair\n",
    "    all_essays[pair] = {\n",
    "        \"prompt\": prompt,\n",
    "        \"essays\": essays_with_varied_qualities\n",
    "    }\n",
    "    \n",
    "    # Display the selected prompt\n",
    "    display(Markdown(f\"### Selected Prompt for {grade_level}th Grade {subject}\"))\n",
    "    display(Markdown(f\"**Prompt:** {prompt}\\n\"))\n",
    "    \n",
    "    # Display each generated essay with its quality and explanation\n",
    "    for i, essay_data in enumerate(essays_with_varied_qualities, start=1):\n",
    "        quality = essay_data[\"quality\"]\n",
    "        essay = essay_data[\"essay\"]\n",
    "        explanation = essay_data[\"explanation\"]\n",
    "        \n",
    "        display(Markdown(f\"### Essay {i} (Quality: {quality})\"))\n",
    "        display(Markdown(essay))\n",
    "        display(Markdown(f\"**Explanation:** {explanation}\\n\"))"
   ]
  },
  {
   "cell_type": "markdown",
   "id": "2f3f37c5",
   "metadata": {},
   "source": [
    "## Rubric "
   ]
  },
  {
   "cell_type": "code",
   "execution_count": 25,
   "id": "479b521c",
   "metadata": {},
   "outputs": [
    {
     "name": "stdout",
     "output_type": "stream",
     "text": [
      "# High School History Course Rubric\n",
      "\n",
      "| Criteria                               | Poor                                                                                                                     | Satisfactory                                                                                                                                            | Good                                                                                                                                                    | Excellent                                                                                                                                               | Total Possible Points |\n",
      "|----------------------------------------|---------------------------------------------------------------------------------------------------------------------------|----------------------------------------------------------------------------------------------------------------------------------------------------------|----------------------------------------------------------------------------------------------------------------------------------------------------------|----------------------------------------------------------------------------------------------------------------------------------------------------------|--------|\n",
      "| **1. Evidence and Analysis**           | 0 to 12 points: Provides little to no relevant evidence; ideas are unclear or unrelated to the historical topic           | 13 to 17 points: Uses some relevant evidence but lacks depth in analysis or connection to the historical topic                                          | 18 to 22 points: Provides relevant evidence with basic analysis; some connection to the historical topic is made                                       | 23 to 25 points: Provides specific, relevant evidence with thorough analysis; clearly connects ideas to the historical topic                           | 25     |\n",
      "| **2. Understanding Key Ideas**         | 0 to 12 points: Lacks understanding of main ideas; summary is inaccurate or incomplete                                    | 13 to 17 points: Identifies some main ideas but may miss key details; summary lacks clarity                                                             | 18 to 22 points: Summarizes main ideas accurately, with most key details included                                                                      | 23 to 25 points: Clearly identifies main ideas with an accurate summary; highlights relationships among key details and ideas                           | 25     |\n",
      "| **3. Cause and Effect Reasoning**      | 0 to 12 points: Does not analyze events or establish cause and effect; lacks reasoning                                    | 13 to 17 points: Attempts cause-and-effect analysis but lacks clarity or depth                                                                          | 18 to 22 points: Analyzes events with a basic understanding of cause and effect                                                                         | 23 to 25 points: Insightfully analyzes events and establishes cause-and-effect relationships with well-developed reasoning                              | 25     |\n",
      "| **4. Writing Clarity and Organization**| 0 to 12 points: Writing lacks clarity and coherence; poor organization without logical structure                          | 13 to 17 points: Writing is somewhat clear but lacks coherence; organization may be inconsistent                                                        | 18 to 22 points: Writing is clear and mostly organized; follows a logical structure                                                                     | 23 to 25 points: Writing is clear, coherent, and well-organized with a logical, compelling narrative                                                    | 25     |\n",
      "\n",
      "**Total Points:** 100\n",
      "\n"
     ]
    }
   ],
   "source": [
    "file_path = '/Users/samuelgartenstein/Desktop/qmss_llm_innovation_lab/Rubrics/General History Rubric.md'\n",
    "with open(file_path, 'r') as file:\n",
    "    rubric = file.read()\n",
    "print(rubric)\n"
   ]
  },
  {
   "cell_type": "markdown",
   "id": "1cf7232c",
   "metadata": {},
   "source": [
    "### Rubric Grading"
   ]
  },
  {
   "cell_type": "code",
   "execution_count": 35,
   "id": "8f67fe61",
   "metadata": {},
   "outputs": [],
   "source": [
    "# Function to grade multiple essays based on a rubric without revealing the assigned quality\n",
    "def grade_essays_with_rubric_blind(essays, rubric, grade_level, subject):\n",
    "    graded_essays = []\n",
    "\n",
    "    for essay_data in essays:\n",
    "        essay = essay_data[\"essay\"]\n",
    "\n",
    "        # Prepare the grading prompt with the rubric and essay\n",
    "        prompt = f\"\"\"\n",
    "        You are a knowledgeable teacher for a {grade_level}th-grade high school {subject} course. Your task is to evaluate an essay based on the following rubric:\n",
    "\n",
    "        {rubric}\n",
    "\n",
    "        Here is the essay to be graded:\n",
    "        ---\n",
    "        {essay}\n",
    "        ---\n",
    "        \n",
    "        For each criterion in the rubric:\n",
    "        1. Assign a score out of 25 points in the format \"Score: X/25\".\n",
    "        2. Provide a 4-5 sentence explanation of the score, referencing specific aspects of the essay.\n",
    "\n",
    "        After evaluating each criterion, calculate:\n",
    "        - The total score out of 100.\n",
    "        - The letter grade based on the following scale:\n",
    "          - A: 90-100\n",
    "          - B: 80-89\n",
    "          - C: 70-79\n",
    "          - D: 60-69\n",
    "          - F: 59 and below\n",
    "\n",
    "        Format the output as follows:\n",
    "        1. **Criterion Name**\n",
    "           - Score: X/25\n",
    "           - Explanation: [Explanation here]\n",
    "\n",
    "        After all criteria, provide:\n",
    "        - **Total Score**: X/100\n",
    "        - **Letter Grade**: [Letter grade here]\n",
    "        - Explanation Provide a 4-5 sentence summary explaining the main reasons for the overall grade based on the criteria.\n",
    "        \"\"\"\n",
    "\n",
    "        # Call the OpenAI API to get the grading response\n",
    "        try:\n",
    "            completion = openai.ChatCompletion.create(\n",
    "                model=\"gpt-3.5-turbo\",\n",
    "                messages=[\n",
    "                    {\"role\": \"system\", \"content\": \"You are an experienced grader familiar with high school history rubrics.\"},\n",
    "                    {\"role\": \"user\", \"content\": prompt}\n",
    "                ]\n",
    "            )\n",
    "\n",
    "            # Extract and separate the explanation from the rest of the grading response\n",
    "            grading_response = completion.choices[0].message['content'].strip()\n",
    "            \n",
    "            # Splitting the grading response into main content and explanation\n",
    "            # Extract \"Total Score,\" \"Letter Grade,\" and \"Explanation\"\n",
    "            main_content, explanation_section = grading_response.split(\"Explanation:\", 1)\n",
    "            explanation_lines = explanation_section.strip().splitlines()\n",
    "\n",
    "            # Extracting the last few lines for the final score and letter grade\n",
    "            total_score_line = explanation_lines[0].strip()\n",
    "            letter_grade_line = explanation_lines[1].strip()\n",
    "            final_explanation = \" \".join(explanation_lines[2:]).strip()\n",
    "\n",
    "            # Store grading details for each essay without revealing assigned quality level\n",
    "            graded_essays.append({\n",
    "                \"grading_content\": main_content.strip(),\n",
    "                \"total_score\": total_score_line,\n",
    "                \"letter_grade\": letter_grade_line,\n",
    "                \"grading_explanation\": final_explanation,\n",
    "                \"essay_content\": essay\n",
    "            })\n",
    "\n",
    "        except Exception as e:\n",
    "            print(f\"Error grading essay for {grade_level}th Grade {subject}: {e}\")\n",
    "            graded_essays.append({\n",
    "                \"grading_content\": None,\n",
    "                \"total_score\": None,\n",
    "                \"letter_grade\": None,\n",
    "                \"grading_explanation\": None,\n",
    "                \"essay_content\": essay\n",
    "            })\n",
    "    \n",
    "    return graded_essays\n"
   ]
  },
  {
   "cell_type": "code",
   "execution_count": 37,
   "id": "799ee760",
   "metadata": {
    "scrolled": false
   },
   "outputs": [
    {
     "data": {
      "text/markdown": [
       "### Essay 1 (11th Grade US History)"
      ],
      "text/plain": [
       "<IPython.core.display.Markdown object>"
      ]
     },
     "metadata": {},
     "output_type": "display_data"
    },
    {
     "data": {
      "text/markdown": [
       "**Grading Breakdown:**"
      ],
      "text/plain": [
       "<IPython.core.display.Markdown object>"
      ]
     },
     "metadata": {},
     "output_type": "display_data"
    },
    {
     "data": {
      "text/markdown": [
       "**Criterion 1: Evidence and Analysis**\n",
       "- Score: 22/25\n",
       "- Criteria"
      ],
      "text/plain": [
       "<IPython.core.display.Markdown object>"
      ]
     },
     "metadata": {},
     "output_type": "display_data"
    },
    {
     "data": {
      "text/markdown": [
       "**Total Score:** The essay provides relevant evidence about the Watergate scandal, including details about the break-in, Nixon's involvement, and the consequences of the scandal. The analysis is basic but effective, connecting Nixon's actions to the erosion of public trust and the role of the media in uncovering the truth. More in-depth analysis could enhance the understanding of the historical significance of the scandal."
      ],
      "text/plain": [
       "<IPython.core.display.Markdown object>"
      ]
     },
     "metadata": {},
     "output_type": "display_data"
    },
    {
     "data": {
      "text/markdown": [
       "**Letter Grade:** "
      ],
      "text/plain": [
       "<IPython.core.display.Markdown object>"
      ]
     },
     "metadata": {},
     "output_type": "display_data"
    },
    {
     "data": {
      "text/markdown": [
       "**Explanation:** **Criterion 2: Understanding Key Ideas** - Score: 23/25 - Criteria Explanation: The essay demonstrates a clear understanding of the main ideas related to the Watergate scandal. It accurately summarizes the key events and consequences, highlighting the impact on public trust, the role of journalists, and the lessons learned from the scandal. The relationship between key details and ideas is well-established, contributing to a comprehensive understanding of the topic.  **Criterion 3: Cause and Effect Reasoning** - Score: 23/25 - Criteria Explanation: The essay successfully analyzes the events of the Watergate scandal with a good understanding of cause and effect relationships. It explores how Nixon's actions led to a loss of public trust and emphasized the importance of accountability in government. The reasoning behind the cause-and-effect relationships is well-developed, showing insight into the broader implications of the scandal.  **Criterion 4: Writing Clarity and Organization** - Score: 24/25 - Criteria Explanation: The writing in the essay is clear, coherent, and well-organized. The narrative follows a logical structure, presenting information about the Watergate scandal in a compelling manner. The essay effectively communicates the historical events and their significance, enhancing the reader's understanding of the topic.  **Total Score**: 92/100 **Letter Grade**: A **Explanation**: The essay demonstrates a strong grasp of the historical events surrounding the Watergate scandal. It effectively presents relevant evidence, showcases a clear understanding of key ideas, provides insightful cause-and-effect reasoning, and maintains a high level of writing clarity and organization. Overall, the essay excels in conveying the importance and impact of the scandal in American history.\n"
      ],
      "text/plain": [
       "<IPython.core.display.Markdown object>"
      ]
     },
     "metadata": {},
     "output_type": "display_data"
    },
    {
     "data": {
      "text/markdown": [
       "### Essay 2 (11th Grade US History)"
      ],
      "text/plain": [
       "<IPython.core.display.Markdown object>"
      ]
     },
     "metadata": {},
     "output_type": "display_data"
    },
    {
     "data": {
      "text/markdown": [
       "**Grading Breakdown:**"
      ],
      "text/plain": [
       "<IPython.core.display.Markdown object>"
      ]
     },
     "metadata": {},
     "output_type": "display_data"
    },
    {
     "data": {
      "text/markdown": [
       "**Evidence and Analysis**\n",
       "- Score: 5/25\n",
       "- Criteria"
      ],
      "text/plain": [
       "<IPython.core.display.Markdown object>"
      ]
     },
     "metadata": {},
     "output_type": "display_data"
    },
    {
     "data": {
      "text/markdown": [
       "**Total Score:** The essay provides very little relevant evidence and lacks any depth in analysis. It simply mentions the Watergate scandal involving Richard Nixon without any specific details or historical context. The ideas presented are unclear and do not demonstrate an understanding of the significance of the event."
      ],
      "text/plain": [
       "<IPython.core.display.Markdown object>"
      ]
     },
     "metadata": {},
     "output_type": "display_data"
    },
    {
     "data": {
      "text/markdown": [
       "**Letter Grade:** "
      ],
      "text/plain": [
       "<IPython.core.display.Markdown object>"
      ]
     },
     "metadata": {},
     "output_type": "display_data"
    },
    {
     "data": {
      "text/markdown": [
       "**Explanation:** **Understanding Key Ideas** - Score: 5/25 - Criteria Explanation: The essay lacks a comprehensive understanding of the main ideas related to the Watergate scandal. There is no accurate summary provided, and key details are missing. The explanation of the impact of Watergate on public trust in the government is vague and does not show a clear grasp of the historical significance.  **Cause and Effect Reasoning** - Score: 4/25 - Criteria Explanation: The essay fails to analyze events or establish cause-and-effect relationships related to the Watergate scandal. There is a lack of reasoning and depth in exploring how Nixon's actions led to the loss of trust in the government. The analysis is superficial and does not demonstrate insight into the historical implications.  **Writing Clarity and Organization** - Score: 3/25 - Criteria Explanation: The writing lacks clarity, coherence, and organization. The essay is poorly structured, with disjointed sentences that do not flow logically. There is a lack of a compelling narrative or argument, making it challenging to follow the train of thought or understand the intended message.  **Total Score**: 17/100 **Letter Grade**: F **Explanation**: The overall grade is an F due to significant deficiencies in all criteria. The essay lacks substance, coherence, and analytical depth. It fails to provide a meaningful discussion of the Watergate scandal or its historical impact. Improved evidence, understanding of key ideas, cause-and-effect reasoning, and writing clarity are necessary for a higher grade.\n"
      ],
      "text/plain": [
       "<IPython.core.display.Markdown object>"
      ]
     },
     "metadata": {},
     "output_type": "display_data"
    },
    {
     "data": {
      "text/markdown": [
       "### Essay 3 (11th Grade US History)"
      ],
      "text/plain": [
       "<IPython.core.display.Markdown object>"
      ]
     },
     "metadata": {},
     "output_type": "display_data"
    },
    {
     "data": {
      "text/markdown": [
       "**Grading Breakdown:**"
      ],
      "text/plain": [
       "<IPython.core.display.Markdown object>"
      ]
     },
     "metadata": {},
     "output_type": "display_data"
    },
    {
     "data": {
      "text/markdown": [
       "1. **Evidence and Analysis**\n",
       "   - Score: 3/25\n",
       "   - Criteria"
      ],
      "text/plain": [
       "<IPython.core.display.Markdown object>"
      ]
     },
     "metadata": {},
     "output_type": "display_data"
    },
    {
     "data": {
      "text/markdown": [
       "**Total Score:** The essay lacks any relevant evidence or analysis. There is no mention of specific details related to the Watergate scandal, Richard Nixon, the impact on the government, or any historical context. The ideas presented are extremely vague and do not contribute to an understanding of the historical topic."
      ],
      "text/plain": [
       "<IPython.core.display.Markdown object>"
      ]
     },
     "metadata": {},
     "output_type": "display_data"
    },
    {
     "data": {
      "text/markdown": [
       "**Letter Grade:** "
      ],
      "text/plain": [
       "<IPython.core.display.Markdown object>"
      ]
     },
     "metadata": {},
     "output_type": "display_data"
    },
    {
     "data": {
      "text/markdown": [
       "**Explanation:** 2. **Understanding Key Ideas**    - Score: 2/25    - Criteria Explanation: The essay fails to demonstrate an understanding of the main ideas related to the Watergate scandal. There is no clear identification of key details, such as the significance of the event, the consequences, or the public reaction. The summary provided is incomplete and does not capture the essential elements of the historical event.  3. **Cause and Effect Reasoning**    - Score: 2/25    - Criteria Explanation: The essay does not analyze events or establish cause-and-effect relationships related to the Watergate scandal. There is no attempt to delve into the reasons behind the scandal, its repercussions, or the broader impact on American society and politics. The reasoning is entirely lacking in this response.  4. **Writing Clarity and Organization**    - Score: 3/25    - Criteria Explanation: The writing in the essay is unclear, lacks coherence, and is poorly organized. The ideas are presented in a disjointed manner without a logical progression. There is no narrative structure or flow to guide the reader through the discussion of the Watergate scandal.  **Total Score**: 10/100 **Letter Grade**: F **Explanation**: The essay receives an F grade due to its significant deficiencies in all aspects of the rubric. The lack of evidence, analysis, understanding of key ideas, cause-and-effect reasoning, and poor writing quality contribute to an overall failing grade. The essay does not meet the basic requirements for a high school history assignment and does not provide any meaningful insight into the Watergate scandal.\n"
      ],
      "text/plain": [
       "<IPython.core.display.Markdown object>"
      ]
     },
     "metadata": {},
     "output_type": "display_data"
    },
    {
     "data": {
      "text/markdown": [
       "### Essay 4 (11th Grade US History)"
      ],
      "text/plain": [
       "<IPython.core.display.Markdown object>"
      ]
     },
     "metadata": {},
     "output_type": "display_data"
    },
    {
     "data": {
      "text/markdown": [
       "**Grading Breakdown:**"
      ],
      "text/plain": [
       "<IPython.core.display.Markdown object>"
      ]
     },
     "metadata": {},
     "output_type": "display_data"
    },
    {
     "data": {
      "text/markdown": [
       "**Criterion 1: Evidence and Analysis**\n",
       "- Score: 22/25\n",
       "- Criteria"
      ],
      "text/plain": [
       "<IPython.core.display.Markdown object>"
      ]
     },
     "metadata": {},
     "output_type": "display_data"
    },
    {
     "data": {
      "text/markdown": [
       "**Total Score:** The essay provides relevant evidence by discussing the Watergate scandal, its origins, and its impact on public trust in government. The analysis is basic but effective, connecting the scandal to the broader theme of integrity in political leadership. However, the analysis could have been more thorough and detailed to earn a higher score."
      ],
      "text/plain": [
       "<IPython.core.display.Markdown object>"
      ]
     },
     "metadata": {},
     "output_type": "display_data"
    },
    {
     "data": {
      "text/markdown": [
       "**Letter Grade:** "
      ],
      "text/plain": [
       "<IPython.core.display.Markdown object>"
      ]
     },
     "metadata": {},
     "output_type": "display_data"
    },
    {
     "data": {
      "text/markdown": [
       "**Explanation:** **Criterion 2: Understanding Key Ideas** - Score: 24/25 - Criteria Explanation: The essay demonstrates a clear understanding of the main ideas surrounding the Watergate scandal. It accurately summarizes the key events and their significance in American political history. The essay effectively highlights the importance of accountability and transparency in politics, showcasing a strong grasp of the topic.  **Criterion 3: Cause and Effect Reasoning** - Score: 22/25 - Criteria Explanation: The essay successfully analyzes the events of the Watergate scandal with a basic understanding of cause and effect. It acknowledges the repercussions of the scandal on public trust and government transparency. However, a more in-depth exploration of the complex relationships between causes and effects could have further enriched the analysis.  **Criterion 4: Writing Clarity and Organization** - Score: 23/25 - Criteria Explanation: The writing in the essay is clear and mostly organized, with a logical structure that guides the reader through the discussion of the Watergate scandal. The narrative is coherent and effectively conveys the significance of the events and their impact on American politics. A more compelling narrative with enhanced coherence could have merited a higher score.  **Total Score**: 91/100 **Letter Grade**: A **Explanation**: The essay presents a strong analysis of the Watergate scandal, demonstrating a deep understanding of its historical significance. While the analysis and cause-and-effect reasoning could have been more detailed, the essay effectively communicates the key ideas with clarity and organization. Overall, it achieves a high score due to its comprehensive coverage of the topic and thoughtful insights into the lasting impact of the scandal on American government and society.\n"
      ],
      "text/plain": [
       "<IPython.core.display.Markdown object>"
      ]
     },
     "metadata": {},
     "output_type": "display_data"
    }
   ],
   "source": [
    "# Example usage with essays\n",
    "# Suppose `all_essays[pair][\"essays\"]` contains the essays for a specific grade-subject pair\n",
    "for pair in pairs:\n",
    "    grade_level, subject = pair\n",
    "    essays = all_essays[pair][\"essays\"]\n",
    "    \n",
    "    # Grade each essay and store results\n",
    "    graded_essays = grade_essays_with_rubric_blind(essays, rubric, grade_level, subject)\n",
    "    \n",
    "    # Display grading results for each essay without the assigned quality level\n",
    "    for i, graded_data in enumerate(graded_essays, start=1):\n",
    "        grading_content = graded_data[\"grading_content\"]\n",
    "        total_score = graded_data[\"total_score\"]\n",
    "        letter_grade = graded_data[\"letter_grade\"]\n",
    "        grading_explanation = graded_data[\"grading_explanation\"]\n",
    "        \n",
    "        display(Markdown(f\"### Essay {i} ({grade_level}th Grade {subject})\"))\n",
    "        display(Markdown(f\"**Grading Breakdown:**\"))\n",
    "        display(Markdown(grading_content))\n",
    "        display(Markdown(f\"**Total Score:** {total_score}\"))\n",
    "        display(Markdown(f\"**Letter Grade:** {letter_grade}\"))\n",
    "        display(Markdown(f\"**Explanation:** {grading_explanation}\\n\"))\n"
   ]
  },
  {
   "cell_type": "code",
   "execution_count": 34,
   "id": "415b50dc",
   "metadata": {},
   "outputs": [
    {
     "data": {
      "text/plain": [
       "\"The essay provides specific evidence by detailing the events of the Watergate scandal and its impact on Nixon's presidency and public trust. The analysis thoroughly connects the evidence to the historical significance of the scandal, demonstrating a clear understanding of its implications.\\n\\n**Criterion 2: Understanding Key Ideas**\\n- Score: 24/25\\n- Explanation: The essay accurately summarizes the main ideas of the Watergate scandal, highlighting the abuse of power, the importance of accountability, and the lasting impact on public trust. Key details are included, and relationships among ideas are effectively explained.\\n\\n**Criterion 3: Cause and Effect Reasoning**\\n- Score: 22/25\\n- Explanation: The essay effectively analyzes the cause and effect relationship of the Watergate scandal, showcasing a basic understanding of how Nixon's actions led to the erosion of public trust and the subsequent reforms aimed at preventing such abuses in the future. More insight into the depth of the analysis could further enhance the score.\\n\\n**Criterion 4: Writing Clarity and Organization**\\n- Score: 24/25\\n- Explanation: The writing is clear, coherent, and well-organized, presenting a logical narrative on the Watergate scandal. The essay effectively conveys the historical events and their impact with strong clarity and organization.\\n\\n**Total Score**: 93/100\\n**Letter Grade**: A\\n**Explanation**: The essay demonstrates a comprehensive understanding of the Watergate scandal, supported by specific evidence and thorough analysis. While the cause-and-effect reasoning could have been more insightful, the clear writing and deep understanding of key ideas contribute to an overall strong performance deserving of an 'A' grade.\""
      ]
     },
     "execution_count": 34,
     "metadata": {},
     "output_type": "execute_result"
    }
   ],
   "source": [
    "grading_explanation"
   ]
  },
  {
   "cell_type": "code",
   "execution_count": null,
   "id": "4975e991",
   "metadata": {},
   "outputs": [],
   "source": []
  }
 ],
 "metadata": {
  "kernelspec": {
   "display_name": "Python 3 (ipykernel)",
   "language": "python",
   "name": "python3"
  },
  "language_info": {
   "codemirror_mode": {
    "name": "ipython",
    "version": 3
   },
   "file_extension": ".py",
   "mimetype": "text/x-python",
   "name": "python",
   "nbconvert_exporter": "python",
   "pygments_lexer": "ipython3",
   "version": "3.11.4"
  }
 },
 "nbformat": 4,
 "nbformat_minor": 5
}
