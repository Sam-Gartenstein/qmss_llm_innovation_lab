{
 "cells": [
  {
   "cell_type": "markdown",
   "id": "26e84ab2",
   "metadata": {},
   "source": [
    "# Assignment Prompt and Generation\n",
    "\n",
    "\n",
    "This notebook demonstrates how to generate unique assignment prompts and sample student essays using the OpenAI API. The setup includes essential libraries, environment configuration, prompt generation, and essay generation with randomized quality levels.\n",
    "\n",
    "This notebook generates assignment prompts and sample student essays for specified grade levels and subjects using the OpenAI API.\n",
    "\n",
    "### Outline:\n",
    "1. **Setup**\n",
    "   - Import required libraries.\n",
    "   - Load environment variables for API access.\n",
    "   - Define quality levels for essay grading.\n",
    "\n",
    "2. **Functions**\n",
    "   - **generate_prompts**: Generates 10 assignment prompts for each grade-subject pair.\n",
    "   - **generate_sample_essay**: Creates a sample essay for each prompt with a randomly assigned quality level.\n",
    "\n",
    "3. **Execution**\n",
    "   - Define grade-subject pairs.\n",
    "   - Generate and display prompts.\n",
    "   - Generate and display sample essays with random quality levels.\n",
    "   \n",
    "### Requirements:\n",
    "- **API Key**: Ensure that `OPENAI_API_KEY` is set in the `.env` file in the project directory.\n",
    "- **Installed Libraries**:\n",
    "  - `openai`\n",
    "  - `IPython.display`\n",
    "  - `python-dotenv`\n",
    "  - `re` (comes with Python)\n",
    "  - `random` (comes with Python)\n",
    "\n",
    "\n",
    "\n",
    "\n",
    "\n",
    "\n"
   ]
  },
  {
   "cell_type": "code",
   "execution_count": 1,
   "id": "baaaca7c",
   "metadata": {},
   "outputs": [],
   "source": [
    "# Import necessary libraries\n",
    "import openai  # OpenAI API for generating text based on prompts\n",
    "from IPython.display import display, Markdown  # Markdown display tools for Jupyter Notebooks\n",
    "import os  # OS library for file and directory interactions\n",
    "from dotenv import load_dotenv, find_dotenv  # dotenv utilities for managing environment variables\n",
    "import re  # Regular expressions library for text pattern matching and formatting\n",
    "import random  # Random module for generating randomized values, such as quality levels\n",
    "\n",
    "# Function to convert text to Markdown format, allowing formatted display in Jupyter Notebooks\n",
    "def to_markdown(text):\n",
    "    # Wraps text in Markdown format for enhanced readability and presentation in Jupyter Notebooks\n",
    "    return Markdown(text)\n"
   ]
  },
  {
   "cell_type": "code",
   "execution_count": 2,
   "id": "b4cb2623",
   "metadata": {},
   "outputs": [],
   "source": [
    "# Automatically locate and load the .env file with environment variables\n",
    "env_path = find_dotenv()  # Searches for the .env file in the project directory\n",
    "load_dotenv(dotenv_path=env_path)  # Loads the environment variables from .env\n",
    "\n",
    "# Set the OpenAI API key from environment variable (pulled from the .env file)\n",
    "openai.api_key = os.getenv('OPENAI_API_KEY')\n"
   ]
  },
  {
   "cell_type": "markdown",
   "id": "2cc79c6c",
   "metadata": {},
   "source": [
    "### Function: `generate_prompts`\n",
    "\n",
    "#### Description:\n",
    "- This function generates a list of assignment prompts tailored to specific grade-subject pairs using the OpenAI API.\n",
    "- The function takes a list of grade-subject pairs, constructs a unique prompt for each, and requests 10 age-appropriate assignment prompts for each pair.\n",
    "- The prompts are displayed in Markdown format within Jupyter Notebooks for easy viewing.\n",
    "\n",
    "#### Parameters:\n",
    "- **pairs**: A list of tuples, where each tuple consists of:\n",
    "  - **grade_level**: A string representing the grade level (e.g., \"11\" for 11th grade).\n",
    "  - **subject**: A string representing the academic subject for which prompts are being generated (e.g., \"US History\").\n",
    "\n",
    "#### Process:\n",
    "1. **Prompt Construction**: For each grade-subject pair, the function builds a specific request prompt that asks the OpenAI model to generate 10 unique, challenging, and engaging assignment prompts appropriate for that grade level and subject.\n",
    "2. **API Call**: The function sends this constructed prompt to the OpenAI API (`gpt-3.5-turbo`), instructing it to generate relevant assignment ideas.\n",
    "3. **Formatting and Cleaning**: After receiving the response:\n",
    "   - Each prompt is stripped of any leading numbering or formatting inconsistencies using regular expressions to ensure a clean display.\n",
    "   - Only the first 10 prompts are kept, even if more are returned.\n",
    "4. **Display**: Each prompt is then labeled (e.g., \"Prompt 1,\" \"Prompt 2\") and displayed in Markdown format for readability.\n",
    "\n",
    "#### Output:\n",
    "- **Returns**: A dictionary (`all_prompts`) where:\n",
    "  - Each key is a tuple of the form `(grade_level, subject)`.\n",
    "  - Each value is a list of 10 formatted assignment prompts for the corresponding grade-subject pair.\n",
    "\n"
   ]
  },
  {
   "cell_type": "code",
   "execution_count": 3,
   "id": "ab040ec9",
   "metadata": {},
   "outputs": [],
   "source": [
    "# Function to generate assignment prompts based on a list of grade-subject pairs\n",
    "def generate_prompts(pairs):\n",
    "    all_prompts = {}\n",
    "    for grade_level, subject in pairs:\n",
    "        prompt_text = f\"\"\"\n",
    "        Role: You are a {grade_level}th-grade {subject} teacher. Please create 10 unique assignment prompts.\n",
    "\n",
    "        Each prompt should:\n",
    "        - Be age-appropriate for {grade_level}th grade\n",
    "        - Challenge students' understanding, encouraging critical thinking and engagement with the subject matter\n",
    "        - Cover diverse themes or topics within {subject}\n",
    "        \n",
    "        Ensure each prompt is clear, concise, and engaging.\n",
    "        \"\"\"\n",
    "        \n",
    "        # Generate prompts using OpenAI API\n",
    "        completion = openai.ChatCompletion.create(\n",
    "            model=\"gpt-3.5-turbo\",\n",
    "            messages=[\n",
    "                {\"role\": \"system\", \"content\": \"You are a creative and insightful prompt generator for teachers.\"},\n",
    "                {\"role\": \"user\", \"content\": prompt_text}\n",
    "            ]\n",
    "        )\n",
    "        \n",
    "        # Extract prompts and clean up formatting\n",
    "        prompts_text = completion.choices[0].message['content']\n",
    "        prompts_list = [re.sub(r'^\\d+\\.\\s*', '', prompt.strip()) for prompt in prompts_text.split('\\n') if prompt.strip()]\n",
    "        prompts_list = prompts_list[:10]  # Keep exactly 10 prompts\n",
    "        all_prompts[(grade_level, subject)] = prompts_list\n",
    "        \n",
    "        # Display prompts in Markdown format\n",
    "        display(Markdown(f\"### Generated Prompts for {grade_level}th Grade {subject}\"))\n",
    "        for i, prompt in enumerate(prompts_list, start=1):\n",
    "            display(Markdown(f\"**Prompt {i}:** {prompt}\"))\n",
    "    \n",
    "    return all_prompts\n"
   ]
  },
  {
   "cell_type": "markdown",
   "id": "2f465ce7",
   "metadata": {},
   "source": [
    "### Function: `generate_sample_essay`\n",
    "\n",
    "#### Description:\n",
    "- This function generates a sample essay for each grade-subject pair based on a specific prompt and a randomly assigned quality level. \n",
    "- It leverages a previously generated list of prompts, selects a specified prompt, and instructs OpenAI to generate a sample essay typical of a student at that grade level and subject.\n",
    "\n",
    "#### Parameters:\n",
    "- **all_prompts**: A dictionary where each key is a tuple `(grade_level, subject)` and each value is a list of 10 assignment prompts generated for that grade-subject pair.\n",
    "- **pairs**: A list of grade-subject tuples, where each tuple consists of:\n",
    "  - **grade_level**: A string indicating the grade level (e.g., \"11\" for 11th grade).\n",
    "  - **subject**: A string representing the academic subject (e.g., \"US History\").\n",
    "- **prompt_index**: An integer indicating which prompt from the list to use for essay generation (default is 0, which selects the first prompt in the list).\n",
    "\n",
    "#### Process:\n",
    "1. **Prompt Selection**: For each grade-subject pair in `pairs`, the function retrieves the specified prompt from `all_prompts` using `prompt_index`.\n",
    "2. **Quality Level Assignment**: A quality level (e.g., \"A\", \"B\", \"C\", \"D\", or \"F\") is randomly selected for the essay using `random.choice(quality_levels)`.\n",
    "3. **Essay Generation Prompt**: An essay prompt is constructed based on the selected prompt and assigned quality level, simulating a student essay typical of that grade and subject.\n",
    "4. **API Call**: The function sends the essay prompt to the OpenAI API (`gpt-3.5-turbo`), requesting a sample response.\n",
    "5. **Error Handling**: If prompts are missing or if `prompt_index` is out of range, an error message is printed. Any API errors are caught and logged, and the essay output for that pair is set to `None`.\n",
    "6. **Display and Storage**: Each generated essay, along with its quality level, is displayed in Markdown format and stored in a dictionary for further use.\n",
    "\n",
    "#### Output:\n",
    "- **Returns**: A dictionary (`all_essays`) where:\n",
    "  - Each key is a tuple `(grade_level, subject)`.\n",
    "  - Each value is a dictionary with:\n",
    "    - **quality**: The randomly assigned quality level for the essay.\n",
    "    - **essay**: The generated essay text or `None` if an error occurred.\n",
    "\n",
    "#### Example Usage:\n",
    "```python\n",
    "grade_subject_pairs = [(\"11\", \"US History\"), (\"10\", \"Global History\")]\n",
    "all_prompts = generate_prompts(grade_subject_pairs)\n",
    "all_essays = generate_sample_essay(all_prompts, grade_subject_pairs, prompt_index=0)\n"
   ]
  },
  {
   "cell_type": "code",
   "execution_count": 4,
   "id": "a35d796d",
   "metadata": {},
   "outputs": [],
   "source": [
    "# Function to generate a sample essay and explanation in a single prompt\n",
    "def generate_sample_essay_with_explanation(prompt, grade_level, subject, quality):\n",
    "    combined_prompt = f\"\"\"\n",
    "    You are a {grade_level}th-grade student in {subject}. Write an essay that reflects a {quality} quality level.\n",
    "\n",
    "    **Essay Topic:** {prompt}\n",
    "\n",
    "    Write your essay directly, without repeating the topic instructions. Provide only the content of the essay as if you were submitting it for a grade.\n",
    "\n",
    "    After the essay, include an explanation (4-5 sentences) describing why this essay reflects a {quality} quality level for a {grade_level}th grade and {subject} assignment. \n",
    "    Use \"Explanation:\" to begin the explanation.\n",
    "    \"\"\"\n",
    "    \n",
    "    try:\n",
    "        completion = openai.ChatCompletion.create(\n",
    "            model=\"gpt-3.5-turbo\",\n",
    "            messages=[\n",
    "                {\"role\": \"system\", \"content\": \"You are a skilled educational content generator.\"},\n",
    "                {\"role\": \"user\", \"content\": combined_prompt}\n",
    "            ]\n",
    "        )\n",
    "        \n",
    "        # Extract response and separate essay and explanation\n",
    "        response = completion.choices[0].message['content'].strip()\n",
    "        essay, explanation = response.split(\"Explanation:\", 1)\n",
    "        return essay.strip(), explanation.strip()\n",
    "        \n",
    "    except Exception as e:\n",
    "        print(f\"Error generating essay and explanation for {grade_level}th Grade {subject}, Prompt: {prompt}:\", e)\n",
    "        return None, None\n"
   ]
  },
  {
   "cell_type": "code",
   "execution_count": 5,
   "id": "aba33d8e",
   "metadata": {},
   "outputs": [],
   "source": [
    "# Step 1: Define pairs of grade level and subject\n",
    "pairs = [(11, \"US History\"), (10, \"Global History\")]\n",
    "\n"
   ]
  },
  {
   "cell_type": "markdown",
   "id": "bb71da74",
   "metadata": {},
   "source": [
    "### Calling `generate_prompts`\n",
    "\n",
    "- Defines `grade_subject_pairs`, a list of grade level and subject combinations for which assignment prompts are needed.\n",
    "- Calls `generate_prompts` with this list, generating and displaying 10 unique assignment prompts for each grade-subject pair in a readable Markdown format.\n",
    "- The output, `all_prompts`, is a dictionary that stores prompts by grade-subject pair for further use.\n",
    "\n",
    "\n"
   ]
  },
  {
   "cell_type": "code",
   "execution_count": 6,
   "id": "1324e49e",
   "metadata": {},
   "outputs": [
    {
     "data": {
      "text/markdown": [
       "### Generated Prompts for 11th Grade US History"
      ],
      "text/plain": [
       "<IPython.core.display.Markdown object>"
      ]
     },
     "metadata": {},
     "output_type": "display_data"
    },
    {
     "data": {
      "text/markdown": [
       "**Prompt 1:** Assignment Prompt: \"Imagine you are a journalist during the Civil Rights Movement. Write a detailed article discussing the impact of key events such as the Montgomery Bus Boycott or the March on Washington on the fight for equality in America.\""
      ],
      "text/plain": [
       "<IPython.core.display.Markdown object>"
      ]
     },
     "metadata": {},
     "output_type": "display_data"
    },
    {
     "data": {
      "text/markdown": [
       "**Prompt 2:** Assignment Prompt: \"Create a timeline tracking the evolution of women's rights in the United States from the Seneca Falls Convention to the ratification of the 19th Amendment. Include key figures and milestones that shaped the movement.\""
      ],
      "text/plain": [
       "<IPython.core.display.Markdown object>"
      ]
     },
     "metadata": {},
     "output_type": "display_data"
    },
    {
     "data": {
      "text/markdown": [
       "**Prompt 3:** Assignment Prompt: \"Analyze the causes and effects of the Great Depression on American society. Consider the role of government policies, societal changes, and the impact on various demographic groups.\""
      ],
      "text/plain": [
       "<IPython.core.display.Markdown object>"
      ]
     },
     "metadata": {},
     "output_type": "display_data"
    },
    {
     "data": {
      "text/markdown": [
       "**Prompt 4:** Assignment Prompt: \"Research the experiences of different immigrant groups in America during the late 19th and early 20th centuries. Compare and contrast their challenges, contributions, and assimilation processes.\""
      ],
      "text/plain": [
       "<IPython.core.display.Markdown object>"
      ]
     },
     "metadata": {},
     "output_type": "display_data"
    },
    {
     "data": {
      "text/markdown": [
       "**Prompt 5:** Assignment Prompt: \"Explore the influence of technology on the outcome of World War II. Choose a specific technological advancement (e.g., radar, atomic bomb) and discuss its strategic significance in the war effort.\""
      ],
      "text/plain": [
       "<IPython.core.display.Markdown object>"
      ]
     },
     "metadata": {},
     "output_type": "display_data"
    },
    {
     "data": {
      "text/markdown": [
       "**Prompt 6:** Assignment Prompt: \"Investigate the impact of the Cold War on American society and culture. Evaluate how factors such as the Red Scare, nuclear proliferation, and proxy wars shaped the domestic and international landscape.\""
      ],
      "text/plain": [
       "<IPython.core.display.Markdown object>"
      ]
     },
     "metadata": {},
     "output_type": "display_data"
    },
    {
     "data": {
      "text/markdown": [
       "**Prompt 7:** Assignment Prompt: \"Examine the role of Native American tribes in shaping the history of the United States. Discuss key treaties, conflicts, and policies that affected Native populations and their sovereignty.\""
      ],
      "text/plain": [
       "<IPython.core.display.Markdown object>"
      ]
     },
     "metadata": {},
     "output_type": "display_data"
    },
    {
     "data": {
      "text/markdown": [
       "**Prompt 8:** Assignment Prompt: \"Critically analyze the motivations behind US involvement in the Vietnam War. Consider political, economic, and social factors that influenced the decision-making process and public opinion.\""
      ],
      "text/plain": [
       "<IPython.core.display.Markdown object>"
      ]
     },
     "metadata": {},
     "output_type": "display_data"
    },
    {
     "data": {
      "text/markdown": [
       "**Prompt 9:** Assignment Prompt: \"Compare and contrast the strategies of key Civil War generals, such as Ulysses S. Grant and Robert E. Lee. Evaluate their leadership styles and military tactics in shaping the outcome of the conflict.\""
      ],
      "text/plain": [
       "<IPython.core.display.Markdown object>"
      ]
     },
     "metadata": {},
     "output_type": "display_data"
    },
    {
     "data": {
      "text/markdown": [
       "**Prompt 10:** Assignment Prompt: \"Investigate the impact of the Civil Rights Act of 1964 on American society. Discuss how the legislation addressed institutionalized discrimination and its lasting effects on the pursuit of racial equality.\""
      ],
      "text/plain": [
       "<IPython.core.display.Markdown object>"
      ]
     },
     "metadata": {},
     "output_type": "display_data"
    },
    {
     "data": {
      "text/markdown": [
       "### Generated Prompts for 10th Grade Global History"
      ],
      "text/plain": [
       "<IPython.core.display.Markdown object>"
      ]
     },
     "metadata": {},
     "output_type": "display_data"
    },
    {
     "data": {
      "text/markdown": [
       "**Prompt 1:** Assignment Prompt: Imagine you are a journalist reporting on the fall of the Berlin Wall in 1989. Write a detailed news article capturing the significance of this event in shaping global politics."
      ],
      "text/plain": [
       "<IPython.core.display.Markdown object>"
      ]
     },
     "metadata": {},
     "output_type": "display_data"
    },
    {
     "data": {
      "text/markdown": [
       "**Prompt 2:** Assignment Prompt: Research a prominent female leader in history (e.g., Queen Elizabeth I, Cleopatra, Indira Gandhi) and create a multimedia presentation highlighting her impact on society and the challenges she faced."
      ],
      "text/plain": [
       "<IPython.core.display.Markdown object>"
      ]
     },
     "metadata": {},
     "output_type": "display_data"
    },
    {
     "data": {
      "text/markdown": [
       "**Prompt 3:** Assignment Prompt: Analyze the causes and effects of the Columbian Exchange on both the New and Old Worlds. Create a visual timeline showcasing key events and their global consequences."
      ],
      "text/plain": [
       "<IPython.core.display.Markdown object>"
      ]
     },
     "metadata": {},
     "output_type": "display_data"
    },
    {
     "data": {
      "text/markdown": [
       "**Prompt 4:** Assignment Prompt: Compare and contrast the strategies used by Mahatma Gandhi and Nelson Mandela in their respective fights against imperialism and apartheid. Reflect on the effectiveness of nonviolent resistance versus armed struggle."
      ],
      "text/plain": [
       "<IPython.core.display.Markdown object>"
      ]
     },
     "metadata": {},
     "output_type": "display_data"
    },
    {
     "data": {
      "text/markdown": [
       "**Prompt 5:** Assignment Prompt: Investigate the role of global trade routes in connecting civilizations during the Age of Exploration. Design a map highlighting the exchange of goods, ideas, and cultures between continents."
      ],
      "text/plain": [
       "<IPython.core.display.Markdown object>"
      ]
     },
     "metadata": {},
     "output_type": "display_data"
    },
    {
     "data": {
      "text/markdown": [
       "**Prompt 6:** Assignment Prompt: Explore the impact of the Industrial Revolution on society, economy, and the environment. Produce a podcast episode discussing the pros and cons of rapid industrialization in the 19th century."
      ],
      "text/plain": [
       "<IPython.core.display.Markdown object>"
      ]
     },
     "metadata": {},
     "output_type": "display_data"
    },
    {
     "data": {
      "text/markdown": [
       "**Prompt 7:** Assignment Prompt: Examine the significance of the Declaration of the Rights of Man and of the Citizen during the French Revolution. Create a persuasive pamphlet advocating for human rights based on the principles outlined in the document."
      ],
      "text/plain": [
       "<IPython.core.display.Markdown object>"
      ]
     },
     "metadata": {},
     "output_type": "display_data"
    },
    {
     "data": {
      "text/markdown": [
       "**Prompt 8:** Assignment Prompt: Investigate the causes and consequences of the Rwandan Genocide in 1994. Develop a documentary script exploring the role of historical tensions, political propaganda, and international intervention in the tragedy."
      ],
      "text/plain": [
       "<IPython.core.display.Markdown object>"
      ]
     },
     "metadata": {},
     "output_type": "display_data"
    },
    {
     "data": {
      "text/markdown": [
       "**Prompt 9:** Assignment Prompt: Evaluate the legacies of imperialism in a specific region (e.g., Africa, Asia, Latin America) by analyzing economic exploitation, cultural assimilation, and nationalist movements. Present your findings in a persuasive essay arguing for or against imperialism."
      ],
      "text/plain": [
       "<IPython.core.display.Markdown object>"
      ]
     },
     "metadata": {},
     "output_type": "display_data"
    },
    {
     "data": {
      "text/markdown": [
       "**Prompt 10:** Assignment Prompt: Reflect on the impact of the Cold War on global politics and society. Create a timeline illustrating key events, alliances, and conflicts during this ideological struggle between the United States and the Soviet Union."
      ],
      "text/plain": [
       "<IPython.core.display.Markdown object>"
      ]
     },
     "metadata": {},
     "output_type": "display_data"
    }
   ],
   "source": [
    "# Step 2: Generate prompts for each grade-subject pair\n",
    "all_prompts = generate_prompts(pairs)\n"
   ]
  },
  {
   "cell_type": "markdown",
   "id": "553b1033",
   "metadata": {},
   "source": [
    "\n"
   ]
  },
  {
   "cell_type": "code",
   "execution_count": null,
   "id": "013004fe",
   "metadata": {},
   "outputs": [],
   "source": []
  },
  {
   "cell_type": "code",
   "execution_count": 7,
   "id": "7013995d",
   "metadata": {},
   "outputs": [
    {
     "data": {
      "text/plain": [
       "['D', 'B']"
      ]
     },
     "execution_count": 7,
     "metadata": {},
     "output_type": "execute_result"
    }
   ],
   "source": [
    "# Define possible quality levels\n",
    "quality_levels = [\"A\", \"B\", \"C\", \"D\", \"F\"]\n",
    "\n",
    "# Step 3: Select a random prompt and quality for each pair\n",
    "selected_qualities = [random.choice(quality_levels) for _ in pairs]       # Select random quality for each pair\n",
    "selected_qualities"
   ]
  },
  {
   "cell_type": "code",
   "execution_count": 8,
   "id": "121169cf",
   "metadata": {},
   "outputs": [
    {
     "data": {
      "text/plain": [
       "['Assignment Prompt: \"Compare and contrast the strategies of key Civil War generals, such as Ulysses S. Grant and Robert E. Lee. Evaluate their leadership styles and military tactics in shaping the outcome of the conflict.\"',\n",
       " 'Assignment Prompt: Investigate the causes and consequences of the Rwandan Genocide in 1994. Develop a documentary script exploring the role of historical tensions, political propaganda, and international intervention in the tragedy.']"
      ]
     },
     "execution_count": 8,
     "metadata": {},
     "output_type": "execute_result"
    }
   ],
   "source": [
    "selected_prompts = [random.choice(all_prompts[pair]) for pair in pairs]  # Select random prompt for each pair\n",
    "selected_prompts"
   ]
  },
  {
   "cell_type": "code",
   "execution_count": null,
   "id": "33b41eca",
   "metadata": {},
   "outputs": [],
   "source": []
  },
  {
   "cell_type": "markdown",
   "id": "49a8c541",
   "metadata": {},
   "source": [
    "### Calling `generate_sample_essay`\n",
    "\n",
    "- Defines `quality_levels`, a list of possible grades (\"A\" through \"F\") to randomly assign to each generated essay.\n",
    "- Calls `generate_sample_essay` with `all_prompts`, `grade_subject_pairs`, and a specified `prompt_index` (0), generating a sample essay for each grade-subject pair.\n",
    "- Each essay is displayed with its corresponding quality level and prompt. The output, `all_essays`, is a dictionary that stores the generated essays and their assigned quality levels for further use.\n",
    "\n",
    "\n",
    "\n",
    "\n",
    "\n"
   ]
  },
  {
   "cell_type": "code",
   "execution_count": 9,
   "id": "f54e7082",
   "metadata": {},
   "outputs": [
    {
     "data": {
      "text/markdown": [
       "### Sample Essay for 11th Grade US History"
      ],
      "text/plain": [
       "<IPython.core.display.Markdown object>"
      ]
     },
     "metadata": {},
     "output_type": "display_data"
    },
    {
     "data": {
      "text/markdown": [
       "**Prompt:** Assignment Prompt: \"Compare and contrast the strategies of key Civil War generals, such as Ulysses S. Grant and Robert E. Lee. Evaluate their leadership styles and military tactics in shaping the outcome of the conflict.\""
      ],
      "text/plain": [
       "<IPython.core.display.Markdown object>"
      ]
     },
     "metadata": {},
     "output_type": "display_data"
    },
    {
     "data": {
      "text/markdown": [
       "**Quality:** D"
      ],
      "text/plain": [
       "<IPython.core.display.Markdown object>"
      ]
     },
     "metadata": {},
     "output_type": "display_data"
    },
    {
     "data": {
      "text/markdown": [
       "During the Civil War, Ulysses S. Grant and Robert E. Lee were two significant generals on opposing sides, each employing unique strategies and tactics. Grant, known for his relentless pursuit of the enemy and willingness to engage in bloody battles, favored a war of attrition to wear down the Confederacy. In contrast, Lee was more defensive in his approach, often seeking to outmaneuver his opponents and win decisive victories through skilled leadership and audacious moves.\n",
       "\n",
       "Grant's leadership style was characterized by his determination and willingness to absorb high casualties to achieve his goals. His military tactic of utilizing superior resources and manpower to overwhelm the enemy proved effective in the long run, even at the cost of heavy losses. Lee, on the other hand, was a master tactician known for his ability to inspire his troops and outsmart his adversaries on the battlefield. Despite facing significant logistical challenges and a lack of resources, Lee's brilliant strategic maneuvers often kept his forces competitive against the Union Army.\n",
       "\n",
       "Ultimately, Grant's relentless pressure and strategic depth, combined with the Union's industrial and numerical advantages, tipped the scales in favor of the North. Lee's defensive mindset, while successful in some battles, could not withstand the sustained pressure exerted by Grant's forces over time. The contrasting leadership styles and military tactics of Grant and Lee played a crucial role in shaping the outcome of the Civil War."
      ],
      "text/plain": [
       "<IPython.core.display.Markdown object>"
      ]
     },
     "metadata": {},
     "output_type": "display_data"
    },
    {
     "data": {
      "text/markdown": [
       "**Explanation:** This essay reflects a D quality level for an 11th-grade US History assignment because it provides a basic comparison of Grant and Lee's strategies and leadership styles without delving into deeper analysis or nuance. The essay lacks specific examples and detailed explanations to support its points, and it does not demonstrate a thorough understanding of the Civil War generals' impact on the conflict's outcome. Additionally, there are grammatical errors and a lack of complexity in the language used, showing a limited depth of knowledge and critical thinking."
      ],
      "text/plain": [
       "<IPython.core.display.Markdown object>"
      ]
     },
     "metadata": {},
     "output_type": "display_data"
    },
    {
     "data": {
      "text/markdown": [
       "### Sample Essay for 10th Grade Global History"
      ],
      "text/plain": [
       "<IPython.core.display.Markdown object>"
      ]
     },
     "metadata": {},
     "output_type": "display_data"
    },
    {
     "data": {
      "text/markdown": [
       "**Prompt:** Assignment Prompt: Investigate the causes and consequences of the Rwandan Genocide in 1994. Develop a documentary script exploring the role of historical tensions, political propaganda, and international intervention in the tragedy."
      ],
      "text/plain": [
       "<IPython.core.display.Markdown object>"
      ]
     },
     "metadata": {},
     "output_type": "display_data"
    },
    {
     "data": {
      "text/markdown": [
       "**Quality:** B"
      ],
      "text/plain": [
       "<IPython.core.display.Markdown object>"
      ]
     },
     "metadata": {},
     "output_type": "display_data"
    },
    {
     "data": {
      "text/markdown": [
       "**Documentary Script: The Rwandan Genocide - Causes and Consequences**\n",
       "\n",
       "[Opening Scene]\n",
       "\n",
       "Narrator: In 1994, the African nation of Rwanda descended into chaos as one of the worst genocides in history unfolded. This documentary aims to delve into the causes and consequences of the Rwandan Genocide, shedding light on the historical tensions, political propaganda, and international intervention that influenced this tragic event.\n",
       "\n",
       "[Historical Context]\n",
       "\n",
       "Narrator: Rwanda's colonial history under Belgian rule sowed the seeds of division between the Hutu and Tutsi ethnic groups. The Belgian colonists exacerbated these differences by favoring the Tutsis and institutionalizing this division through identity cards, deepening the historical tensions that would later escalate into violence.\n",
       "\n",
       "[Political Propaganda]\n",
       "\n",
       "Narrator: The Rwandan government, led by Hutu extremists, played a central role in stoking ethnic hatred through propaganda campaigns that dehumanized the Tutsi population. Radio stations spewed venomous rhetoric, labeling Tutsis as \"cockroaches\" and inciting violence against them. This propaganda fueled the dehumanization of an entire group, laying the groundwork for mass atrocities.\n",
       "\n",
       "[International Intervention]\n",
       "\n",
       "Narrator: As the genocide unfolded, the international community failed to respond effectively to the crisis. Despite mounting evidence of widespread killings, the United Nations peacekeeping mission in Rwanda was ill-equipped and outnumbered, leading to a tragic lack of intervention that allowed the genocide to continue unchecked.\n",
       "\n",
       "[Consequences]\n",
       "\n",
       "Narrator: By the time the genocide ended, approximately 800,000 Rwandans, mostly Tutsis, had been brutally murdered in just 100 days. The aftermath left deep scars on the nation, with survivors grappling with physical and psychological trauma, and Rwanda struggling to rebuild and reconcile its fractured society.\n",
       "\n",
       "[Closing Scene]\n",
       "\n",
       "Narrator: The Rwandan Genocide serves as a stark reminder of the devastating consequences of historical tensions, political propaganda, and international inaction. As we reflect on this dark chapter in history, we must vow never to let such atrocities happen again.\n",
       "\n",
       "**"
      ],
      "text/plain": [
       "<IPython.core.display.Markdown object>"
      ]
     },
     "metadata": {},
     "output_type": "display_data"
    },
    {
     "data": {
      "text/markdown": [
       "**Explanation:** **\n",
       "This essay reflects a B quality level for a 10th-grade Global History assignment because it effectively covers the essential aspects of the Rwandan Genocide by discussing its causes and consequences within the context of historical tensions, political propaganda, and international intervention. The content is well-structured, demonstrates a clear understanding of the topic, and provides a comprehensive overview of the subject matter. However, to achieve an A level, the essay could benefit from more in-depth analysis, additional examples, and stronger connections between the different factors contributing to the genocide."
      ],
      "text/plain": [
       "<IPython.core.display.Markdown object>"
      ]
     },
     "metadata": {},
     "output_type": "display_data"
    }
   ],
   "source": [
    "# Step 4: Generate sample essays and explanations using the selected prompts and qualities\n",
    "all_essays = {}\n",
    "for i, pair in enumerate(pairs):\n",
    "    grade_level, subject = pair\n",
    "    prompt = selected_prompts[i]\n",
    "    quality = selected_qualities[i]\n",
    "    \n",
    "    # Generate essay and explanation in a single prompt\n",
    "    essay, explanation = generate_sample_essay_with_explanation(prompt, grade_level, subject, quality)\n",
    "    \n",
    "    # Store results\n",
    "    all_essays[pair] = {\n",
    "        \"quality\": quality,\n",
    "        \"prompt\": prompt,\n",
    "        \"essay\": essay,\n",
    "        \"explanation\": explanation\n",
    "    }\n",
    "    \n",
    "    # Display results in Markdown format\n",
    "    display(Markdown(f\"### Sample Essay for {grade_level}th Grade {subject}\"))\n",
    "    display(Markdown(f\"**Prompt:** {prompt}\"))\n",
    "    display(Markdown(f\"**Quality:** {quality}\"))\n",
    "    display(Markdown(essay))\n",
    "    display(Markdown(f\"**Explanation:** {explanation}\"))\n",
    "\n"
   ]
  },
  {
   "cell_type": "markdown",
   "id": "2f3f37c5",
   "metadata": {},
   "source": [
    "## Rubric "
   ]
  },
  {
   "cell_type": "code",
   "execution_count": 10,
   "id": "479b521c",
   "metadata": {},
   "outputs": [
    {
     "name": "stdout",
     "output_type": "stream",
     "text": [
      "# High School History Course Rubric\n",
      "\n",
      "| Criteria                               | Poor                                                                                                                     | Satisfactory                                                                                                                                            | Good                                                                                                                                                    | Excellent                                                                                                                                               | Total Possible Points |\n",
      "|----------------------------------------|---------------------------------------------------------------------------------------------------------------------------|----------------------------------------------------------------------------------------------------------------------------------------------------------|----------------------------------------------------------------------------------------------------------------------------------------------------------|----------------------------------------------------------------------------------------------------------------------------------------------------------|--------|\n",
      "| **1. Evidence and Analysis**           | 0 to 12 points: Provides little to no relevant evidence; ideas are unclear or unrelated to the historical topic           | 13 to 17 points: Uses some relevant evidence but lacks depth in analysis or connection to the historical topic                                          | 18 to 22 points: Provides relevant evidence with basic analysis; some connection to the historical topic is made                                       | 23 to 25 points: Provides specific, relevant evidence with thorough analysis; clearly connects ideas to the historical topic                           | 25     |\n",
      "| **2. Understanding Key Ideas**         | 0 to 12 points: Lacks understanding of main ideas; summary is inaccurate or incomplete                                    | 13 to 17 points: Identifies some main ideas but may miss key details; summary lacks clarity                                                             | 18 to 22 points: Summarizes main ideas accurately, with most key details included                                                                      | 23 to 25 points: Clearly identifies main ideas with an accurate summary; highlights relationships among key details and ideas                           | 25     |\n",
      "| **3. Cause and Effect Reasoning**      | 0 to 12 points: Does not analyze events or establish cause and effect; lacks reasoning                                    | 13 to 17 points: Attempts cause-and-effect analysis but lacks clarity or depth                                                                          | 18 to 22 points: Analyzes events with a basic understanding of cause and effect                                                                         | 23 to 25 points: Insightfully analyzes events and establishes cause-and-effect relationships with well-developed reasoning                              | 25     |\n",
      "| **4. Writing Clarity and Organization**| 0 to 12 points: Writing lacks clarity and coherence; poor organization without logical structure                          | 13 to 17 points: Writing is somewhat clear but lacks coherence; organization may be inconsistent                                                        | 18 to 22 points: Writing is clear and mostly organized; follows a logical structure                                                                     | 23 to 25 points: Writing is clear, coherent, and well-organized with a logical, compelling narrative                                                    | 25     |\n",
      "\n",
      "**Total Points:** 100\n",
      "\n"
     ]
    }
   ],
   "source": [
    "file_path = '/Users/samuelgartenstein/Desktop/qmss_llm_innovation_lab/Rubrics/General History Rubric.md'\n",
    "\n",
    "# Read and print content as plain text\n",
    "with open(file_path, 'r') as file:\n",
    "    content = file.read()\n",
    "print(content)\n"
   ]
  },
  {
   "cell_type": "markdown",
   "id": "1cf7232c",
   "metadata": {},
   "source": [
    "### Rubric Grading"
   ]
  },
  {
   "cell_type": "code",
   "execution_count": 11,
   "id": "8f67fe61",
   "metadata": {},
   "outputs": [
    {
     "name": "stdout",
     "output_type": "stream",
     "text": [
      "### Grading Results for 11th Grade US History Essay\n",
      "\n",
      "**Prompt:** Assignment Prompt: \"Compare and contrast the strategies of key Civil War generals, such as Ulysses S. Grant and Robert E. Lee. Evaluate their leadership styles and military tactics in shaping the outcome of the conflict.\"\n",
      "\n",
      "**Score and Explanation:**\n",
      "\n",
      "**Criterion 1: Evidence and Analysis**\n",
      "- Score: 22/25\n",
      "- Explanation: The essay provides relevant evidence on the leadership styles of Grant and Lee during the Civil War. It discusses their strategies in detail and connects them to the historical context effectively. The analysis of their tactics is solid, showing a clear understanding of the topic.\n",
      "\n",
      "**Criterion 2: Understanding Key Ideas**\n",
      "- Score: 23/25\n",
      "- Explanation: The essay demonstrates a strong understanding of the main ideas concerning Grant and Lee's differing approaches to warfare. It accurately summarizes their strategies and highlights the key details that shaped their military decisions, showing a clear grasp of the subject matter.\n",
      "\n",
      "**Criterion 3: Cause and Effect Reasoning**\n",
      "- Score: 22/25\n",
      "- Explanation: The essay successfully analyzes the cause-and-effect relationships between Grant and Lee's leadership styles and the outcomes of the Civil War. It provides insights into how their tactics influenced the course of the conflict, though some additional depth in reasoning could further enhance the analysis.\n",
      "\n",
      "**Criterion 4: Writing Clarity and Organization**\n",
      "- Score: 24/25\n",
      "- Explanation: The writing is clear, coherent, and well-organized. The essay presents information logically, with a compelling narrative that flows smoothly from one point to the next. The structure is solid, contributing to the overall clarity of the piece.\n",
      "\n",
      "**Total Score**: 91/100\n",
      "**Letter Grade**: A\n",
      "### Grading Results for 10th Grade Global History Essay\n",
      "\n",
      "**Prompt:** Assignment Prompt: Investigate the causes and consequences of the Rwandan Genocide in 1994. Develop a documentary script exploring the role of historical tensions, political propaganda, and international intervention in the tragedy.\n",
      "\n",
      "**Score and Explanation:**\n",
      "\n",
      "**Criterion 1: Evidence and Analysis**\n",
      "- Score: 25/25\n",
      "- Explanation: The essay provides specific and relevant evidence regarding the causes and consequences of the Rwandan Genocide. The analysis is thorough, connecting historical events to the overall topic with clarity.\n",
      "\n",
      "**Criterion 2: Understanding Key Ideas**\n",
      "- Score: 25/25\n",
      "- Explanation: The essay demonstrates a clear understanding of the main ideas surrounding the Rwandan Genocide. All key details are accurately summarized, highlighting the relationships among various aspects of the event.\n",
      "\n",
      "**Criterion 3: Cause and Effect Reasoning**\n",
      "- Score: 25/25\n",
      "- Explanation: The essay insightfully analyzes the events leading to the Rwandan Genocide, establishing cause-and-effect relationships with well-developed reasoning. The connections between historical factors and the consequences are effectively explored.\n",
      "\n",
      "**Criterion 4: Writing Clarity and Organization**\n",
      "- Score: 24/25\n",
      "- Explanation: The writing is clear, coherent, and well-organized throughout the documentary script. The narrative follows a logical structure, but there are minor instances where coherence could be enhanced for a more compelling presentation.\n",
      "\n",
      "**Total Score**: 99/100\n",
      "**Letter Grade**: A\n"
     ]
    }
   ],
   "source": [
    "# Function to grade an essay based on a rubric stored in a variable\n",
    "def grade_essay_with_rubric(essay, rubric, grade_level, subject):\n",
    "    # Prepare the grading prompt with the rubric and essay\n",
    "    prompt = f\"\"\"\n",
    "    You are a knowledgeable grader for a high school {subject} course. Your task is to evaluate an essay based on the following rubric:\n",
    "\n",
    "    {rubric}\n",
    "\n",
    "    Here is the essay to be graded:\n",
    "    ---\n",
    "    {essay}\n",
    "    ---\n",
    "    \n",
    "    For each criterion in the rubric:\n",
    "    1. Assign a score out of 25 points in the format \"Score: X/25\".\n",
    "    2. Provide a 2-3 sentence explanation of the score, referencing specific aspects of the essay.\n",
    "\n",
    "    After evaluating each criterion, calculate:\n",
    "    - The total score out of 100.\n",
    "    - The letter grade based on the following scale:\n",
    "      - A: 90-100\n",
    "      - B: 80-89\n",
    "      - C: 70-79\n",
    "      - D: 60-69\n",
    "      - F: 59 and below\n",
    "\n",
    "    Format the output as follows:\n",
    "    1. **Criterion Name**\n",
    "       - Score: X/25\n",
    "       - Explanation: [Explanation here]\n",
    "\n",
    "    After all criteria, provide:\n",
    "    - **Total Score**: X/100\n",
    "    - **Letter Grade**: [Letter grade here]\n",
    "    \"\"\"\n",
    "\n",
    "    # Call the OpenAI API to get the grading response\n",
    "    try:\n",
    "        completion = openai.ChatCompletion.create(\n",
    "            model=\"gpt-3.5-turbo\",\n",
    "            messages=[\n",
    "                {\"role\": \"system\", \"content\": \"You are an experienced grader familiar with high school history rubrics.\"},\n",
    "                {\"role\": \"user\", \"content\": prompt}\n",
    "            ]\n",
    "        )\n",
    "        \n",
    "        # Extract the grading feedback\n",
    "        grading_response = completion.choices[0].message['content'].strip()\n",
    "        return grading_response\n",
    "    \n",
    "    except Exception as e:\n",
    "        print(f\"Error grading the essay: {e}\")\n",
    "        return None\n",
    "\n"
   ]
  },
  {
   "cell_type": "code",
   "execution_count": 12,
   "id": "799ee760",
   "metadata": {},
   "outputs": [
    {
     "name": "stdout",
     "output_type": "stream",
     "text": [
      "### Grading Results for 11th Grade US History Essay\n",
      "\n",
      "**Prompt:** Assignment Prompt: \"Compare and contrast the strategies of key Civil War generals, such as Ulysses S. Grant and Robert E. Lee. Evaluate their leadership styles and military tactics in shaping the outcome of the conflict.\"\n",
      "\n",
      "**Score and Explanation:**\n",
      "\n",
      "**Criterion 1: Evidence and Analysis**\n",
      "- Score: 22/25\n",
      "- Explanation: The essay provides relevant evidence on the contrasting leadership styles and military tactics of Grant and Lee during the Civil War. The analysis of Grant's relentless pursuit and Lee's defensive approach is well-supported and clearly connected to the historical topic.\n",
      "\n",
      "**Criterion 2: Understanding Key Ideas**\n",
      "- Score: 23/25\n",
      "- Explanation: The essay effectively identifies and summarizes the main ideas surrounding Grant and Lee's strategies during the Civil War. It accurately highlights the differences in their approaches and demonstrates a clear understanding of the key details.\n",
      "\n",
      "**Criterion 3: Cause and Effect Reasoning**\n",
      "- Score: 24/25\n",
      "- Explanation: The essay insightfully analyzes the events of the Civil War involving Grant and Lee, establishing cause-and-effect relationships with well-developed reasoning. It delves into how their strategies influenced the outcome of the war, showcasing a nuanced understanding.\n",
      "\n",
      "**Criterion 4: Writing Clarity and Organization**\n",
      "- Score: 24/25\n",
      "- Explanation: The writing is clear, coherent, and well-organized, presenting a logical narrative on the leadership styles of Grant and Lee. The essay flows smoothly, with a compelling structure that enhances the reader's understanding of the historical context.\n",
      "\n",
      "**Total Score**: 93/100\n",
      "**Letter Grade**: A\n",
      "### Grading Results for 10th Grade Global History Essay\n",
      "\n",
      "**Prompt:** Assignment Prompt: Investigate the causes and consequences of the Rwandan Genocide in 1994. Develop a documentary script exploring the role of historical tensions, political propaganda, and international intervention in the tragedy.\n",
      "\n",
      "**Score and Explanation:**\n",
      "\n",
      "**Criterion 1: Evidence and Analysis**\n",
      "- Score: 23/25\n",
      "- Explanation: The essay provides specific and relevant evidence throughout the script, highlighting historical tensions, political propaganda, and international intervention as key factors in the Rwandan Genocide. The analysis is thorough, connecting these ideas effectively to the historical topic.\n",
      "\n",
      "**Criterion 2: Understanding Key Ideas**\n",
      "- Score: 24/25\n",
      "- Explanation: The script demonstrates a clear understanding of the main ideas regarding Rwanda's colonial history, political propaganda, international intervention, and the consequences of the genocide. The summary accurately captures the key details and relationships among the ideas presented.\n",
      "\n",
      "**Criterion 3: Cause and Effect Reasoning**\n",
      "- Score: 22/25\n",
      "- Explanation: The script effectively analyzes events related to the Rwandan Genocide with a basic understanding of cause and effect. While the cause-and-effect relationships are well-established, there could be more depth and insight in the reasoning provided.\n",
      "\n",
      "**Criterion 4: Writing Clarity and Organization**\n",
      "- Score: 24/25\n",
      "- Explanation: The writing is clear, coherent, and well-organized throughout the script. The narrative follows a logical structure, making it easy to follow the historical events and causal relationships presented.\n",
      "\n",
      "**Total Score**: 93/100\n",
      "**Letter Grade**: A\n"
     ]
    }
   ],
   "source": [
    "for pair, data in all_essays.items():\n",
    "    grade_level, subject = pair\n",
    "    essay = data[\"essay\"]\n",
    "    prompt = data[\"prompt\"]\n",
    "    \n",
    "    # Grade the essay using the rubric\n",
    "    grading_feedback = grade_essay_with_rubric(essay, content, grade_level, subject)\n",
    "    \n",
    "    # Check if grading feedback was received and display the results\n",
    "    if grading_feedback:\n",
    "        print(f\"### Grading Results for {grade_level}th Grade {subject} Essay\\n\")\n",
    "        print(f\"**Prompt:** {prompt}\\n\")\n",
    "        print(\"**Score and Explanation:**\\n\")\n",
    "        print(grading_feedback)\n",
    "    else:\n",
    "        print(f\"Error: No grading feedback received for {grade_level}th Grade {subject} Essay.\")\n",
    "\n"
   ]
  },
  {
   "cell_type": "code",
   "execution_count": null,
   "id": "415b50dc",
   "metadata": {},
   "outputs": [],
   "source": []
  }
 ],
 "metadata": {
  "kernelspec": {
   "display_name": "Python 3 (ipykernel)",
   "language": "python",
   "name": "python3"
  },
  "language_info": {
   "codemirror_mode": {
    "name": "ipython",
    "version": 3
   },
   "file_extension": ".py",
   "mimetype": "text/x-python",
   "name": "python",
   "nbconvert_exporter": "python",
   "pygments_lexer": "ipython3",
   "version": "3.11.4"
  }
 },
 "nbformat": 4,
 "nbformat_minor": 5
}
