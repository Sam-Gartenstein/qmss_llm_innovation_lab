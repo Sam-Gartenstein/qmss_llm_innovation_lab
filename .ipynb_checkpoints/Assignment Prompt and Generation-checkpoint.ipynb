{
 "cells": [
  {
   "cell_type": "markdown",
   "id": "d8fb738a",
   "metadata": {},
   "source": [
    "# Assignment Prompt and Generation\n",
    "\n",
    "\n",
    "This notebook demonstrates how to generate unique assignment prompts and sample student essays using the OpenAI API. The setup includes essential libraries, environment configuration, prompt generation, and essay generation with randomized quality levels.\n",
    "\n",
    "This notebook generates assignment prompts and sample student essays for specified grade levels and subjects using the OpenAI API.\n",
    "\n",
    "### Outline:\n",
    "1. **Setup**\n",
    "   - Import required libraries.\n",
    "   - Load environment variables for API access.\n",
    "   - Define quality levels for essay grading.\n",
    "\n",
    "2. **Functions**\n",
    "   - **generate_prompts**: Generates 10 assignment prompts for each grade-subject pair.\n",
    "   - **generate_sample_essay**: Creates a sample essay for each prompt with a randomly assigned quality level.\n",
    "\n",
    "3. **Execution**\n",
    "   - Define grade-subject pairs.\n",
    "   - Generate and display prompts.\n",
    "   - Generate and display sample essays with random quality levels.\n",
    "   \n",
    "### Requirements:\n",
    "- **API Key**: Ensure that `OPENAI_API_KEY` is set in the `.env` file in the project directory.\n",
    "- **Installed Libraries**:\n",
    "  - `openai`\n",
    "  - `IPython.display`\n",
    "  - `python-dotenv`\n",
    "  - `re` (comes with Python)\n",
    "  - `random` (comes with Python)\n",
    "\n",
    "\n",
    "\n",
    "\n",
    "\n",
    "\n"
   ]
  },
  {
   "cell_type": "code",
   "execution_count": 8,
   "id": "baaaca7c",
   "metadata": {},
   "outputs": [],
   "source": [
    "# Import necessary libraries\n",
    "import openai  # OpenAI API for generating text based on prompts\n",
    "from IPython.display import display, Markdown  # Markdown display tools for Jupyter Notebooks\n",
    "import os  # OS library for file and directory interactions\n",
    "from dotenv import load_dotenv, find_dotenv  # dotenv utilities for managing environment variables\n",
    "import re  # Regular expressions library for text pattern matching and formatting\n",
    "import random  # Random module for generating randomized values, such as quality levels\n",
    "\n",
    "# Function to convert text to Markdown format, allowing formatted display in Jupyter Notebooks\n",
    "def to_markdown(text):\n",
    "    # Wraps text in Markdown format for enhanced readability and presentation in Jupyter Notebooks\n",
    "    return Markdown(text)\n"
   ]
  },
  {
   "cell_type": "code",
   "execution_count": 3,
   "id": "b4cb2623",
   "metadata": {},
   "outputs": [],
   "source": [
    "# Automatically locate and load the .env file with environment variables\n",
    "env_path = find_dotenv()  # Searches for the .env file in the project directory\n",
    "load_dotenv(dotenv_path=env_path)  # Loads the environment variables from .env\n",
    "\n",
    "# Set the OpenAI API key from environment variable (pulled from the .env file)\n",
    "openai.api_key = os.getenv('OPENAI_API_KEY')\n"
   ]
  },
  {
   "cell_type": "markdown",
   "id": "2cc79c6c",
   "metadata": {},
   "source": [
    "### Function: `generate_prompts`\n",
    "\n",
    "#### Description:\n",
    "- This function generates a list of assignment prompts tailored to specific grade-subject pairs using the OpenAI API.\n",
    "- The function takes a list of grade-subject pairs, constructs a unique prompt for each, and requests 10 age-appropriate assignment prompts for each pair.\n",
    "- The prompts are displayed in Markdown format within Jupyter Notebooks for easy viewing.\n",
    "\n",
    "#### Parameters:\n",
    "- **pairs**: A list of tuples, where each tuple consists of:\n",
    "  - **grade_level**: A string representing the grade level (e.g., \"11\" for 11th grade).\n",
    "  - **subject**: A string representing the academic subject for which prompts are being generated (e.g., \"US History\").\n",
    "\n",
    "#### Process:\n",
    "1. **Prompt Construction**: For each grade-subject pair, the function builds a specific request prompt that asks the OpenAI model to generate 10 unique, challenging, and engaging assignment prompts appropriate for that grade level and subject.\n",
    "2. **API Call**: The function sends this constructed prompt to the OpenAI API (`gpt-3.5-turbo`), instructing it to generate relevant assignment ideas.\n",
    "3. **Formatting and Cleaning**: After receiving the response:\n",
    "   - Each prompt is stripped of any leading numbering or formatting inconsistencies using regular expressions to ensure a clean display.\n",
    "   - Only the first 10 prompts are kept, even if more are returned.\n",
    "4. **Display**: Each prompt is then labeled (e.g., \"Prompt 1,\" \"Prompt 2\") and displayed in Markdown format for readability.\n",
    "\n",
    "#### Output:\n",
    "- **Returns**: A dictionary (`all_prompts`) where:\n",
    "  - Each key is a tuple of the form `(grade_level, subject)`.\n",
    "  - Each value is a list of 10 formatted assignment prompts for the corresponding grade-subject pair.\n",
    "\n"
   ]
  },
  {
   "cell_type": "code",
   "execution_count": 4,
   "id": "ab040ec9",
   "metadata": {},
   "outputs": [],
   "source": [
    "# Function to generate assignment prompts based on a list of grade-subject pairs\n",
    "def generate_prompts(pairs):\n",
    "    all_prompts = {}\n",
    "    for grade_level, subject in pairs:\n",
    "        prompt_text = f\"\"\"\n",
    "        Role: You are a {grade_level}th-grade {subject} teacher. Please create 10 unique assignment prompts.\n",
    "\n",
    "        Each prompt should:\n",
    "        - Be age-appropriate for {grade_level}th grade\n",
    "        - Challenge students' understanding, encouraging critical thinking and engagement with the subject matter\n",
    "        - Cover diverse themes or topics within {subject}\n",
    "        \n",
    "        Ensure each prompt is clear, concise, and engaging.\n",
    "        \"\"\"\n",
    "        \n",
    "        # Generate prompts using OpenAI API\n",
    "        completion = openai.ChatCompletion.create(\n",
    "            model=\"gpt-3.5-turbo\",\n",
    "            messages=[\n",
    "                {\"role\": \"system\", \"content\": \"You are a creative and insightful prompt generator for teachers.\"},\n",
    "                {\"role\": \"user\", \"content\": prompt_text}\n",
    "            ]\n",
    "        )\n",
    "        \n",
    "        # Extract prompts and clean up formatting\n",
    "        prompts_text = completion.choices[0].message['content']\n",
    "        # Use regular expression to remove any leading numbers and punctuation from each line\n",
    "        prompts_list = [re.sub(r'^\\d+\\.\\s*', '', prompt.strip()) for prompt in prompts_text.split('\\n') if prompt.strip()]\n",
    "        # Keep exactly 10 prompts\n",
    "        prompts_list = prompts_list[:10]\n",
    "        all_prompts[(grade_level, subject)] = prompts_list\n",
    "        \n",
    "        # Display prompts in Markdown format with \"Prompt 1,\" \"Prompt 2,\" etc.\n",
    "        display(Markdown(f\"### Generated Prompts for {grade_level}th Grade {subject}\"))\n",
    "        for i, prompt in enumerate(prompts_list, start=1):\n",
    "            display(Markdown(f\"**Prompt {i}:** {prompt}\"))\n",
    "    \n",
    "    return all_prompts\n"
   ]
  },
  {
   "cell_type": "markdown",
   "id": "2f465ce7",
   "metadata": {},
   "source": [
    "### Function: `generate_sample_essay`\n",
    "\n",
    "#### Description:\n",
    "- This function generates a sample essay for each grade-subject pair based on a specific prompt and a randomly assigned quality level. \n",
    "- It leverages a previously generated list of prompts, selects a specified prompt, and instructs OpenAI to generate a sample essay typical of a student at that grade level and subject.\n",
    "\n",
    "#### Parameters:\n",
    "- **all_prompts**: A dictionary where each key is a tuple `(grade_level, subject)` and each value is a list of 10 assignment prompts generated for that grade-subject pair.\n",
    "- **pairs**: A list of grade-subject tuples, where each tuple consists of:\n",
    "  - **grade_level**: A string indicating the grade level (e.g., \"11\" for 11th grade).\n",
    "  - **subject**: A string representing the academic subject (e.g., \"US History\").\n",
    "- **prompt_index**: An integer indicating which prompt from the list to use for essay generation (default is 0, which selects the first prompt in the list).\n",
    "\n",
    "#### Process:\n",
    "1. **Prompt Selection**: For each grade-subject pair in `pairs`, the function retrieves the specified prompt from `all_prompts` using `prompt_index`.\n",
    "2. **Quality Level Assignment**: A quality level (e.g., \"A\", \"B\", \"C\", \"D\", or \"F\") is randomly selected for the essay using `random.choice(quality_levels)`.\n",
    "3. **Essay Generation Prompt**: An essay prompt is constructed based on the selected prompt and assigned quality level, simulating a student essay typical of that grade and subject.\n",
    "4. **API Call**: The function sends the essay prompt to the OpenAI API (`gpt-3.5-turbo`), requesting a sample response.\n",
    "5. **Error Handling**: If prompts are missing or if `prompt_index` is out of range, an error message is printed. Any API errors are caught and logged, and the essay output for that pair is set to `None`.\n",
    "6. **Display and Storage**: Each generated essay, along with its quality level, is displayed in Markdown format and stored in a dictionary for further use.\n",
    "\n",
    "#### Output:\n",
    "- **Returns**: A dictionary (`all_essays`) where:\n",
    "  - Each key is a tuple `(grade_level, subject)`.\n",
    "  - Each value is a dictionary with:\n",
    "    - **quality**: The randomly assigned quality level for the essay.\n",
    "    - **essay**: The generated essay text or `None` if an error occurred.\n",
    "\n",
    "#### Example Usage:\n",
    "```python\n",
    "grade_subject_pairs = [(\"11\", \"US History\"), (\"10\", \"Global History\")]\n",
    "all_prompts = generate_prompts(grade_subject_pairs)\n",
    "all_essays = generate_sample_essay(all_prompts, grade_subject_pairs, prompt_index=0)\n"
   ]
  },
  {
   "cell_type": "code",
   "execution_count": 5,
   "id": "a35d796d",
   "metadata": {},
   "outputs": [],
   "source": [
    "# Function to generate a sample essay with random quality\n",
    "def generate_sample_essay(all_prompts, pairs, prompt_index=0):\n",
    "    all_essays = {}\n",
    "    for pair in pairs:\n",
    "        grade_level, subject = pair\n",
    "        prompts_list = all_prompts.get(pair, [])\n",
    "        \n",
    "        # Check if prompts exist and prompt_index is within range\n",
    "        if not prompts_list:\n",
    "            print(f\"No prompts found for {grade_level}th Grade {subject}.\")\n",
    "            continue\n",
    "        if prompt_index >= len(prompts_list):\n",
    "            print(f\"Invalid prompt index for {grade_level}th Grade {subject}.\")\n",
    "            continue\n",
    "        \n",
    "        # Select the specific prompt by index\n",
    "        prompt = prompts_list[prompt_index]\n",
    "        # Randomly select a quality level\n",
    "        quality = random.choice(quality_levels)\n",
    "\n",
    "        # Essay generation prompt\n",
    "        essay_prompt = f\"\"\"\n",
    "        You are a {grade_level}th-grade student in {subject}. Write a {quality} quality essay on the following topic, typical of a {grade_level}th-grade student in {subject}.\n",
    "        \n",
    "        **Essay Topic:** {prompt}\n",
    "\n",
    "        Write your essay directly, without repeating the topic instructions. Provide only the content of the essay as if you were submitting it for a grade.\n",
    "        \"\"\"\n",
    "        \n",
    "        try:\n",
    "            essay_completion = openai.ChatCompletion.create(\n",
    "                model=\"gpt-3.5-turbo\",\n",
    "                messages=[\n",
    "                    {\"role\": \"system\", \"content\": \"You are a skilled educational content generator.\"},\n",
    "                    {\"role\": \"user\", \"content\": essay_prompt}\n",
    "                ]\n",
    "            )\n",
    "            \n",
    "            essay = essay_completion.choices[0].message['content']\n",
    "            all_essays[pair] = {\"quality\": quality, \"essay\": essay}\n",
    "            \n",
    "            # Display essay in Markdown format\n",
    "            display(Markdown(f\"### Sample Essay for {grade_level}th Grade {subject}\"))\n",
    "            display(Markdown(f\"**Prompt:** {prompt}\"))\n",
    "            display(Markdown(f\"**Quality:** {quality}\"))\n",
    "            display(Markdown(essay))\n",
    "        \n",
    "        except Exception as e:\n",
    "            print(f\"Error generating essay for {grade_level}th Grade {subject}, Prompt: {prompt}:\", e)\n",
    "            all_essays[pair] = {\"quality\": quality, \"essay\": None}\n",
    "    \n",
    "    return all_essays\n"
   ]
  },
  {
   "cell_type": "markdown",
   "id": "553b1033",
   "metadata": {},
   "source": [
    "### Calling `generate_prompts`\n",
    "\n",
    "- Defines `grade_subject_pairs`, a list of grade level and subject combinations for which assignment prompts are needed.\n",
    "- Calls `generate_prompts` with this list, generating and displaying 10 unique assignment prompts for each grade-subject pair in a readable Markdown format.\n",
    "- The output, `all_prompts`, is a dictionary that stores prompts by grade-subject pair for further use.\n",
    "\n",
    "\n",
    "\n",
    "\n",
    "\n"
   ]
  },
  {
   "cell_type": "code",
   "execution_count": 6,
   "id": "aba33d8e",
   "metadata": {},
   "outputs": [
    {
     "data": {
      "text/markdown": [
       "### Generated Prompts for 11th Grade US History"
      ],
      "text/plain": [
       "<IPython.core.display.Markdown object>"
      ]
     },
     "metadata": {},
     "output_type": "display_data"
    },
    {
     "data": {
      "text/markdown": [
       "**Prompt 1:** Assignment Prompt: \"Imagine you are a journalist in the 1960s covering the Civil Rights Movement. Write a detailed article analyzing the impact of key events such as the Montgomery Bus Boycott or the March on Washington. Include interviews with individuals involved in the movement to provide multiple perspectives.\""
      ],
      "text/plain": [
       "<IPython.core.display.Markdown object>"
      ]
     },
     "metadata": {},
     "output_type": "display_data"
    },
    {
     "data": {
      "text/markdown": [
       "**Prompt 2:** Assignment Prompt: \"Create a visual timeline showcasing the major turning points of the Cold War from the end of World War II to the fall of the Berlin Wall. Alongside each event, provide an analysis discussing the significance of each moment in shaping global politics.\""
      ],
      "text/plain": [
       "<IPython.core.display.Markdown object>"
      ]
     },
     "metadata": {},
     "output_type": "display_data"
    },
    {
     "data": {
      "text/markdown": [
       "**Prompt 3:** Assignment Prompt: \"Research and present a comparison between the approaches to Native American policies during the early American colonies and the 19th century. Consider the motivations, consequences, and resistance faced by Native tribes in both time periods.\""
      ],
      "text/plain": [
       "<IPython.core.display.Markdown object>"
      ]
     },
     "metadata": {},
     "output_type": "display_data"
    },
    {
     "data": {
      "text/markdown": [
       "**Prompt 4:** Assignment Prompt: \"Utilizing primary sources, investigate the causes and effects of the Great Depression on American society. Analyze the responses of the government, including the New Deal policies, and evaluate their long-term impact on the economy and citizenry.\""
      ],
      "text/plain": [
       "<IPython.core.display.Markdown object>"
      ]
     },
     "metadata": {},
     "output_type": "display_data"
    },
    {
     "data": {
      "text/markdown": [
       "**Prompt 5:** Assignment Prompt: \"Design a museum exhibit focused on the experiences of women in the workforce during World War II. Include artifacts, personal accounts, and interactive elements to highlight the challenges and contributions of women in the wartime economy.\""
      ],
      "text/plain": [
       "<IPython.core.display.Markdown object>"
      ]
     },
     "metadata": {},
     "output_type": "display_data"
    },
    {
     "data": {
      "text/markdown": [
       "**Prompt 6:** Assignment Prompt: \"Debate the conflicting perspectives on the Vietnam War by embodying key figures such as a Vietnam War protester, a veteran, a government official, and a civilian during the 1960s. Prepare arguments based on historical evidence and personal beliefs.\""
      ],
      "text/plain": [
       "<IPython.core.display.Markdown object>"
      ]
     },
     "metadata": {},
     "output_type": "display_data"
    },
    {
     "data": {
      "text/markdown": [
       "**Prompt 7:** Assignment Prompt: \"Investigate the role of technology in shaping American society during the 20th century. Choose a technological advancement like the automobile, television, or internet, and discuss its impact on communication, transportation, culture, and daily life.\""
      ],
      "text/plain": [
       "<IPython.core.display.Markdown object>"
      ]
     },
     "metadata": {},
     "output_type": "display_data"
    },
    {
     "data": {
      "text/markdown": [
       "**Prompt 8:** Assignment Prompt: \"Examine the origins and implications of the Red Scare in the United States during the early 20th century. Explore the methods used to identify and suppress supposed communist influences, and analyze the effects on civil liberties and political dissent.\""
      ],
      "text/plain": [
       "<IPython.core.display.Markdown object>"
      ]
     },
     "metadata": {},
     "output_type": "display_data"
    },
    {
     "data": {
      "text/markdown": [
       "**Prompt 9:** Assignment Prompt: \"Create a multimedia presentation exploring the Harlem Renaissance and its significance in African American cultural history. Highlight key figures, artistic achievements, and the impact of the movement on challenging racial stereotypes and promoting racial pride.\""
      ],
      "text/plain": [
       "<IPython.core.display.Markdown object>"
      ]
     },
     "metadata": {},
     "output_type": "display_data"
    },
    {
     "data": {
      "text/markdown": [
       "**Prompt 10:** Assignment Prompt: \"Imagine you are a constitutional lawyer during the Civil Rights Era. Compose a legal brief arguing for or against the constitutionality of landmark Supreme Court cases like Brown v. Board of Education or Roe v. Wade. Support your argument with legal precedent and ethical considerations.\""
      ],
      "text/plain": [
       "<IPython.core.display.Markdown object>"
      ]
     },
     "metadata": {},
     "output_type": "display_data"
    },
    {
     "data": {
      "text/markdown": [
       "### Generated Prompts for 10th Grade Global History"
      ],
      "text/plain": [
       "<IPython.core.display.Markdown object>"
      ]
     },
     "metadata": {},
     "output_type": "display_data"
    },
    {
     "data": {
      "text/markdown": [
       "**Prompt 1:** Design a propaganda poster promoting one of the major ideologies (e.g., communism, fascism, democracy) discussed in class. Explain how your poster effectively conveys the key principles of the ideology."
      ],
      "text/plain": [
       "<IPython.core.display.Markdown object>"
      ]
     },
     "metadata": {},
     "output_type": "display_data"
    },
    {
     "data": {
      "text/markdown": [
       "**Prompt 2:** Write a persuasive essay arguing whether globalization has had a positive or negative impact on cultural diversity around the world. Support your argument with historical examples and current events."
      ],
      "text/plain": [
       "<IPython.core.display.Markdown object>"
      ]
     },
     "metadata": {},
     "output_type": "display_data"
    },
    {
     "data": {
      "text/markdown": [
       "**Prompt 3:** Create a timeline highlighting five key events that led to the outbreak of World War I. Include brief explanations for each event and discuss how they contributed to the tensions in Europe at that time."
      ],
      "text/plain": [
       "<IPython.core.display.Markdown object>"
      ]
     },
     "metadata": {},
     "output_type": "display_data"
    },
    {
     "data": {
      "text/markdown": [
       "**Prompt 4:** Imagine you are a journalist during the Age of Exploration. Write a series of journal entries detailing your experiences traveling to a newly discovered land. Reflect on the impact of European exploration on indigenous peoples and cultures."
      ],
      "text/plain": [
       "<IPython.core.display.Markdown object>"
      ]
     },
     "metadata": {},
     "output_type": "display_data"
    },
    {
     "data": {
      "text/markdown": [
       "**Prompt 5:** Analyze the role of women in revolutions throughout history. Choose two revolutions (e.g., French Revolution, Russian Revolution) and compare the ways women contributed to or were impacted by these transformative movements."
      ],
      "text/plain": [
       "<IPython.core.display.Markdown object>"
      ]
     },
     "metadata": {},
     "output_type": "display_data"
    },
    {
     "data": {
      "text/markdown": [
       "**Prompt 6:** Investigate the impact of imperialism on a specific region or country. Create a multimedia presentation exploring the economic, social, and political consequences of European imperialism in Africa, Asia, or Latin America."
      ],
      "text/plain": [
       "<IPython.core.display.Markdown object>"
      ]
     },
     "metadata": {},
     "output_type": "display_data"
    },
    {
     "data": {
      "text/markdown": [
       "**Prompt 7:** Research a significant figure in the Civil Rights Movement and create a biographical timeline tracing their contributions to the fight for racial equality. Reflect on the challenges they faced and the strategies they used to effect change."
      ],
      "text/plain": [
       "<IPython.core.display.Markdown object>"
      ]
     },
     "metadata": {},
     "output_type": "display_data"
    },
    {
     "data": {
      "text/markdown": [
       "**Prompt 8:** Explore the concept of cultural diffusion by examining the spread of a specific technology or idea (e.g., papermaking, the printing press, Buddhism) across different civilizations. Discuss the implications of this cultural exchange."
      ],
      "text/plain": [
       "<IPython.core.display.Markdown object>"
      ]
     },
     "metadata": {},
     "output_type": "display_data"
    },
    {
     "data": {
      "text/markdown": [
       "**Prompt 9:** Debate the ethics of humanitarian intervention in global conflicts. Choose a specific case (e.g., Syria, Rwanda) and argue whether international intervention was justified or if it infringed upon national sovereignty."
      ],
      "text/plain": [
       "<IPython.core.display.Markdown object>"
      ]
     },
     "metadata": {},
     "output_type": "display_data"
    },
    {
     "data": {
      "text/markdown": [
       "**Prompt 10:** Create a museum exhibit showcasing artifacts and primary sources related to the Silk Road trade network. Explain the significance of the Silk Road in connecting diverse civilizations and facilitating cultural exchange."
      ],
      "text/plain": [
       "<IPython.core.display.Markdown object>"
      ]
     },
     "metadata": {},
     "output_type": "display_data"
    }
   ],
   "source": [
    "# Define possible quality levels\n",
    "grade_subject_pairs = [(\"11\", \"US History\"), (\"10\", \"Global History\")]\n",
    "all_prompts = generate_prompts(grade_subject_pairs)\n"
   ]
  },
  {
   "cell_type": "markdown",
   "id": "49a8c541",
   "metadata": {},
   "source": [
    "### Calling `generate_sample_essay`\n",
    "\n",
    "- Defines `quality_levels`, a list of possible grades (\"A\" through \"F\") to randomly assign to each generated essay.\n",
    "- Calls `generate_sample_essay` with `all_prompts`, `grade_subject_pairs`, and a specified `prompt_index` (0), generating a sample essay for each grade-subject pair.\n",
    "- Each essay is displayed with its corresponding quality level and prompt. The output, `all_essays`, is a dictionary that stores the generated essays and their assigned quality levels for further use.\n",
    "\n",
    "\n",
    "\n",
    "\n",
    "\n"
   ]
  },
  {
   "cell_type": "code",
   "execution_count": 9,
   "id": "f54e7082",
   "metadata": {},
   "outputs": [
    {
     "data": {
      "text/markdown": [
       "### Sample Essay for 11th Grade US History"
      ],
      "text/plain": [
       "<IPython.core.display.Markdown object>"
      ]
     },
     "metadata": {},
     "output_type": "display_data"
    },
    {
     "data": {
      "text/markdown": [
       "**Prompt:** Assignment Prompt: \"Imagine you are a journalist in the 1960s covering the Civil Rights Movement. Write a detailed article analyzing the impact of key events such as the Montgomery Bus Boycott or the March on Washington. Include interviews with individuals involved in the movement to provide multiple perspectives.\""
      ],
      "text/plain": [
       "<IPython.core.display.Markdown object>"
      ]
     },
     "metadata": {},
     "output_type": "display_data"
    },
    {
     "data": {
      "text/markdown": [
       "**Quality:** A"
      ],
      "text/plain": [
       "<IPython.core.display.Markdown object>"
      ]
     },
     "metadata": {},
     "output_type": "display_data"
    },
    {
     "data": {
      "text/markdown": [
       "The Civil Rights Movement of the 1960s was a transformative period in American history, challenging racial segregation and discrimination that had long plagued the country. As a journalist covering this pivotal movement, I have had the privilege of witnessing and documenting key events that have reshaped the course of our nation's history.\n",
       "\n",
       "One such event that stood out significantly was the Montgomery Bus Boycott, sparked by the arrest of African American seamstress Rosa Parks for refusing to give up her bus seat to a white passenger. The boycott, led by Dr. Martin Luther King Jr. and other civil rights leaders, lasted for 381 days and served as a powerful display of nonviolent resistance against segregation. I had the opportunity to interview individuals involved in the boycott, including Rosa Parks herself. Her courage and determination to stand up for her rights inspired a community to come together in solidarity, leading to the eventual desegregation of public transportation in Montgomery.\n",
       "\n",
       "Furthermore, the March on Washington for Jobs and Freedom in 1963 was a monumental event that brought together over 250,000 people to advocate for civil and economic rights for African Americans. I spoke with John Lewis, a young activist and leader in the movement, who shared his experience of speaking at the historic event. The powerful speeches delivered that day, most notably Dr. King's iconic \"I Have a Dream\" speech, resonated with the nation and galvanized support for civil rights legislation.\n",
       "\n",
       "Through these interviews and firsthand observations, it became evident that the Civil Rights Movement was not just a fight for equality but a struggle for dignity and justice. The courage and resilience of individuals like Rosa Parks and the eloquence of leaders like Dr. King propelled the movement forward, challenging societal norms and demanding change.\n",
       "\n",
       "In conclusion, the impact of events such as the Montgomery Bus Boycott and the March on Washington cannot be overstated in the context of the Civil Rights Movement. These milestones in the fight for racial equality serve as a testament to the power of collective action and the enduring legacy of those who dared to dream of a more just and inclusive society. As a journalist covering this historic period, I am humbled by the stories shared with me and the lessons learned from those who paved the way for a more equitable future."
      ],
      "text/plain": [
       "<IPython.core.display.Markdown object>"
      ]
     },
     "metadata": {},
     "output_type": "display_data"
    },
    {
     "data": {
      "text/markdown": [
       "### Sample Essay for 10th Grade Global History"
      ],
      "text/plain": [
       "<IPython.core.display.Markdown object>"
      ]
     },
     "metadata": {},
     "output_type": "display_data"
    },
    {
     "data": {
      "text/markdown": [
       "**Prompt:** Design a propaganda poster promoting one of the major ideologies (e.g., communism, fascism, democracy) discussed in class. Explain how your poster effectively conveys the key principles of the ideology."
      ],
      "text/plain": [
       "<IPython.core.display.Markdown object>"
      ]
     },
     "metadata": {},
     "output_type": "display_data"
    },
    {
     "data": {
      "text/markdown": [
       "**Quality:** F"
      ],
      "text/plain": [
       "<IPython.core.display.Markdown object>"
      ]
     },
     "metadata": {},
     "output_type": "display_data"
    },
    {
     "data": {
      "text/markdown": [
       "Propaganda plays a significant role in shaping public opinion and promoting various ideologies. In creating a propaganda poster, I have chosen to focus on promoting the ideology of democracy. Democracy is a system of government where power is vested in the people, allowing for equal participation, representation, and accountability. \n",
       "\n",
       "The propaganda poster I designed features imagery that symbolizes unity, diversity, and freedom - key principles of democracy. In the center of the poster, there is a diverse group of people of different genders, races, and ethnicities, standing together with smiles on their faces. This visual representation conveys the idea that democracy embraces and values diversity. \n",
       "\n",
       "Furthermore, the background of the poster depicts a peaceful and thriving community with various symbols of liberty such as a dove representing peace, a torch representing enlightenment, and a book symbolizing education. These symbols are meant to highlight the democratic principles of freedom, peace, and knowledge.\n",
       "\n",
       "The text on the poster reads: \"Together We Stand, United in Freedom.\" This slogan emphasizes the unity and freedom that democracy promotes, encouraging people to come together and work towards a common goal while enjoying individual liberties.\n",
       "\n",
       "Overall, my propaganda poster effectively conveys the key principles of democracy through its imagery, symbols, and messaging. It aims to inspire and mobilize people to embrace democratic values of equality, diversity, freedom, and unity. By appealing to emotions and aspirations, this poster aims to instill a sense of pride and commitment to democratic ideals among the viewers."
      ],
      "text/plain": [
       "<IPython.core.display.Markdown object>"
      ]
     },
     "metadata": {},
     "output_type": "display_data"
    }
   ],
   "source": [
    "quality_levels = [\"A\", \"B\", \"C\", \"D\", \"F\"]\n",
    "all_essays = generate_sample_essay(all_prompts, grade_subject_pairs, prompt_index=0)\n"
   ]
  },
  {
   "cell_type": "code",
   "execution_count": null,
   "id": "afd7dfa5",
   "metadata": {},
   "outputs": [],
   "source": []
  },
  {
   "cell_type": "code",
   "execution_count": null,
   "id": "fe97d4b3",
   "metadata": {},
   "outputs": [],
   "source": []
  }
 ],
 "metadata": {
  "kernelspec": {
   "display_name": "Python 3 (ipykernel)",
   "language": "python",
   "name": "python3"
  },
  "language_info": {
   "codemirror_mode": {
    "name": "ipython",
    "version": 3
   },
   "file_extension": ".py",
   "mimetype": "text/x-python",
   "name": "python",
   "nbconvert_exporter": "python",
   "pygments_lexer": "ipython3",
   "version": "3.11.4"
  }
 },
 "nbformat": 4,
 "nbformat_minor": 5
}
